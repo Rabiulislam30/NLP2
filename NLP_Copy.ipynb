{
  "nbformat": 4,
  "nbformat_minor": 0,
  "metadata": {
    "colab": {
      "provenance": []
    },
    "kernelspec": {
      "name": "python3",
      "display_name": "Python 3"
    },
    "language_info": {
      "name": "python"
    }
  },
  "cells": [
    {
      "cell_type": "code",
      "execution_count": null,
      "metadata": {
        "id": "YucatkYO0NTo"
      },
      "outputs": [],
      "source": [
        "import re\n",
        "import nltk"
      ]
    },
    {
      "cell_type": "code",
      "source": [
        "import string"
      ],
      "metadata": {
        "id": "9jZXlke30YCw"
      },
      "execution_count": null,
      "outputs": []
    },
    {
      "cell_type": "code",
      "source": [
        "def text_low(text):\n",
        "  return text.lower()\n",
        "\n",
        "str_first = ' HI. I AM ROWNAK'\n",
        "text_low(str_first)"
      ],
      "metadata": {
        "colab": {
          "base_uri": "https://localhost:8080/",
          "height": 35
        },
        "id": "MpBbJQ940Zg6",
        "outputId": "8d07b67d-71ba-477b-a07b-92acefbbf344"
      },
      "execution_count": null,
      "outputs": [
        {
          "output_type": "execute_result",
          "data": {
            "text/plain": [
              "' hi. i am rownak'"
            ],
            "application/vnd.google.colaboratory.intrinsic+json": {
              "type": "string"
            }
          },
          "metadata": {},
          "execution_count": 20
        }
      ]
    },
    {
      "cell_type": "code",
      "source": [
        "def remove(text):\n",
        "  res = re.sub(r'\\d+','',text)\n",
        "  return res\n",
        "\n",
        "str_sec = ' Theere are 3 numbers'\n",
        "\n",
        "re.search('\\aTheere' , str_sec)\n",
        "\n",
        "remove(str_sec)\n"
      ],
      "metadata": {
        "colab": {
          "base_uri": "https://localhost:8080/",
          "height": 35
        },
        "id": "ubOszLby0bVb",
        "outputId": "345db2ca-64e9-4c46-c072-f1d802fb66d6"
      },
      "execution_count": null,
      "outputs": [
        {
          "output_type": "execute_result",
          "data": {
            "text/plain": [
              "' Theere are  numbers'"
            ],
            "application/vnd.google.colaboratory.intrinsic+json": {
              "type": "string"
            }
          },
          "metadata": {},
          "execution_count": 21
        }
      ]
    },
    {
      "cell_type": "code",
      "source": [
        "nltk.download('stopwords')"
      ],
      "metadata": {
        "colab": {
          "base_uri": "https://localhost:8080/"
        },
        "id": "CJLtrK3C0dME",
        "outputId": "c7ea3eb3-be23-44a0-9ff7-df6fe5fa6ec1"
      },
      "execution_count": null,
      "outputs": [
        {
          "output_type": "stream",
          "name": "stderr",
          "text": [
            "[nltk_data] Downloading package stopwords to /root/nltk_data...\n",
            "[nltk_data]   Package stopwords is already up-to-date!\n"
          ]
        },
        {
          "output_type": "execute_result",
          "data": {
            "text/plain": [
              "True"
            ]
          },
          "metadata": {},
          "execution_count": 22
        }
      ]
    },
    {
      "cell_type": "code",
      "source": [
        "nltk.download('punkt')"
      ],
      "metadata": {
        "colab": {
          "base_uri": "https://localhost:8080/"
        },
        "id": "isNKgARU0fGT",
        "outputId": "2218515d-ab58-4135-9cdd-f16ddfd60e28"
      },
      "execution_count": null,
      "outputs": [
        {
          "output_type": "stream",
          "name": "stderr",
          "text": [
            "[nltk_data] Downloading package punkt to /root/nltk_data...\n",
            "[nltk_data]   Package punkt is already up-to-date!\n"
          ]
        },
        {
          "output_type": "execute_result",
          "data": {
            "text/plain": [
              "True"
            ]
          },
          "metadata": {},
          "execution_count": 23
        }
      ]
    },
    {
      "cell_type": "code",
      "source": [
        "from nltk.corpus import stopwords\n",
        "from nltk.tokenize import word_tokenize\n",
        "\n",
        "def Stopwords_learn(text):\n",
        "  stop_words = set(stopwords.words('english'))\n",
        "  word_tokens = word_tokenize(re.sub(r'[^\\w\\s]','',text))\n",
        "  filtered = [word for word in word_tokens if word not in stop_words]\n",
        "  return filtered\n",
        "\n",
        "text_1 = \" Due to less percentage of attendence we can't move quick towards our goal. So be present from the next class otherwise you will miss the advance topic.\"\n",
        "\n",
        "Stopwords_learn(text_1)"
      ],
      "metadata": {
        "colab": {
          "base_uri": "https://localhost:8080/"
        },
        "id": "IuOZzP2Y0g4B",
        "outputId": "4addba61-f2c5-4f0d-a59c-b430371d830e"
      },
      "execution_count": null,
      "outputs": [
        {
          "output_type": "execute_result",
          "data": {
            "text/plain": [
              "['Due',\n",
              " 'less',\n",
              " 'percentage',\n",
              " 'attendence',\n",
              " 'cant',\n",
              " 'move',\n",
              " 'quick',\n",
              " 'towards',\n",
              " 'goal',\n",
              " 'So',\n",
              " 'present',\n",
              " 'next',\n",
              " 'class',\n",
              " 'otherwise',\n",
              " 'miss',\n",
              " 'advance',\n",
              " 'topic']"
            ]
          },
          "metadata": {},
          "execution_count": 61
        }
      ]
    },
    {
      "cell_type": "code",
      "source": [
        "from nltk.stem.porter import PorterStemmer\n",
        "\n",
        "from nltk.tokenize import word_tokenize\n",
        "\n",
        "stemmer = PorterStemmer()\n",
        "\n",
        "def Step_words(text):\n",
        "\n",
        "  word_tokens = word_tokenize(text)\n",
        "  filtered = [stemmer.stem(word) for word in word_tokens]\n",
        "  return filtered\n",
        "\n",
        "text_1 = \" Due to less percentages of attendence we can't move quick towards our goal. So be present from the next class otherwise you will miss the advance topic.\"\n",
        "\n",
        "Step_words(text_1)"
      ],
      "metadata": {
        "colab": {
          "base_uri": "https://localhost:8080/"
        },
        "id": "piprsF9T0iiF",
        "outputId": "3d6ec793-cee0-403e-e0f0-348082e6ebd6"
      },
      "execution_count": null,
      "outputs": [
        {
          "output_type": "execute_result",
          "data": {
            "text/plain": [
              "['due',\n",
              " 'to',\n",
              " 'less',\n",
              " 'percentag',\n",
              " 'of',\n",
              " 'attend',\n",
              " 'we',\n",
              " 'ca',\n",
              " \"n't\",\n",
              " 'move',\n",
              " 'quick',\n",
              " 'toward',\n",
              " 'our',\n",
              " 'goal',\n",
              " '.',\n",
              " 'so',\n",
              " 'be',\n",
              " 'present',\n",
              " 'from',\n",
              " 'the',\n",
              " 'next',\n",
              " 'class',\n",
              " 'otherwis',\n",
              " 'you',\n",
              " 'will',\n",
              " 'miss',\n",
              " 'the',\n",
              " 'advanc',\n",
              " 'topic',\n",
              " '.']"
            ]
          },
          "metadata": {},
          "execution_count": 25
        }
      ]
    },
    {
      "cell_type": "code",
      "source": [
        "nltk.download('wordnet')"
      ],
      "metadata": {
        "colab": {
          "base_uri": "https://localhost:8080/"
        },
        "id": "Gec-st0S0ksg",
        "outputId": "c25ab724-ea67-4f27-a770-1e53e0cec208"
      },
      "execution_count": null,
      "outputs": [
        {
          "output_type": "stream",
          "name": "stderr",
          "text": [
            "[nltk_data] Downloading package wordnet to /root/nltk_data...\n",
            "[nltk_data]   Package wordnet is already up-to-date!\n"
          ]
        },
        {
          "output_type": "execute_result",
          "data": {
            "text/plain": [
              "True"
            ]
          },
          "metadata": {},
          "execution_count": 26
        }
      ]
    },
    {
      "cell_type": "code",
      "source": [
        "from nltk.stem import WordNetLemmatizer\n",
        "\n",
        "from nltk.tokenize import word_tokenize\n",
        "\n",
        "stemmer = WordNetLemmatizer()\n",
        "\n",
        "def Step_words(text):\n",
        "\n",
        "  word_tokens = word_tokenize(re.sub(r'[^\\w\\s]','',text))\n",
        "  filtered = [stemmer.lemmatize(word) for word in word_tokens]\n",
        "  return filtered\n",
        "\n",
        "text_1 = \" Due to less percentages of attendence we can't move quick towards our goal. So be present from the next class otherwise you will miss the advance topic.\"\n",
        "\n",
        "Step_words(text_1)"
      ],
      "metadata": {
        "colab": {
          "base_uri": "https://localhost:8080/"
        },
        "id": "rCTjRXZ-0n7N",
        "outputId": "eb251fe3-eaa5-4572-c82e-0dd7aa1fdb0c"
      },
      "execution_count": null,
      "outputs": [
        {
          "output_type": "execute_result",
          "data": {
            "text/plain": [
              "['Due',\n",
              " 'to',\n",
              " 'le',\n",
              " 'percentage',\n",
              " 'of',\n",
              " 'attendence',\n",
              " 'we',\n",
              " 'cant',\n",
              " 'move',\n",
              " 'quick',\n",
              " 'towards',\n",
              " 'our',\n",
              " 'goal',\n",
              " 'So',\n",
              " 'be',\n",
              " 'present',\n",
              " 'from',\n",
              " 'the',\n",
              " 'next',\n",
              " 'class',\n",
              " 'otherwise',\n",
              " 'you',\n",
              " 'will',\n",
              " 'miss',\n",
              " 'the',\n",
              " 'advance',\n",
              " 'topic']"
            ]
          },
          "metadata": {},
          "execution_count": 27
        }
      ]
    },
    {
      "cell_type": "code",
      "source": [
        "def pun_remove(text):\n",
        "  res = re.sub(r'[^\\w\\s]','',text)\n",
        "  return res\n",
        "\n"
      ],
      "metadata": {
        "id": "7WjWCt1M0p30"
      },
      "execution_count": null,
      "outputs": []
    },
    {
      "cell_type": "code",
      "source": [
        "nltk.download('averaged_perceptron_tagger')"
      ],
      "metadata": {
        "colab": {
          "base_uri": "https://localhost:8080/"
        },
        "id": "dCNQfzhP0rzi",
        "outputId": "e968260b-0e0b-4d7b-86d6-43d8b7648a25"
      },
      "execution_count": null,
      "outputs": [
        {
          "output_type": "stream",
          "name": "stderr",
          "text": [
            "[nltk_data] Downloading package averaged_perceptron_tagger to\n",
            "[nltk_data]     /root/nltk_data...\n",
            "[nltk_data]   Package averaged_perceptron_tagger is already up-to-\n",
            "[nltk_data]       date!\n"
          ]
        },
        {
          "output_type": "execute_result",
          "data": {
            "text/plain": [
              "True"
            ]
          },
          "metadata": {},
          "execution_count": 29
        }
      ]
    },
    {
      "cell_type": "code",
      "source": [
        "from nltk.tokenize import word_tokenize\n",
        "\n",
        "from nltk import pos_tag\n",
        "\n",
        "def pos_tagging(text):\n",
        "  word_tokens = word_tokenize(text)\n",
        "  return pos_tag(word_tokens)\n",
        "\n",
        "text_1 = \" Due to less percentages of attendence we can't move quick towards our goal. So be present from the next class otherwise you will miss the advance topic.\"\n",
        "\n",
        "pos_tagging(text_1)\n"
      ],
      "metadata": {
        "colab": {
          "base_uri": "https://localhost:8080/"
        },
        "id": "THGgUBZb0vPE",
        "outputId": "f011a662-b116-4d99-ac90-e9c8d1dc6d16"
      },
      "execution_count": null,
      "outputs": [
        {
          "output_type": "execute_result",
          "data": {
            "text/plain": [
              "[('Due', 'JJ'),\n",
              " ('to', 'TO'),\n",
              " ('less', 'JJR'),\n",
              " ('percentages', 'NNS'),\n",
              " ('of', 'IN'),\n",
              " ('attendence', 'NN'),\n",
              " ('we', 'PRP'),\n",
              " ('ca', 'MD'),\n",
              " (\"n't\", 'RB'),\n",
              " ('move', 'VB'),\n",
              " ('quick', 'JJ'),\n",
              " ('towards', 'NNS'),\n",
              " ('our', 'PRP$'),\n",
              " ('goal', 'NN'),\n",
              " ('.', '.'),\n",
              " ('So', 'RB'),\n",
              " ('be', 'VB'),\n",
              " ('present', 'JJ'),\n",
              " ('from', 'IN'),\n",
              " ('the', 'DT'),\n",
              " ('next', 'JJ'),\n",
              " ('class', 'NN'),\n",
              " ('otherwise', 'NN'),\n",
              " ('you', 'PRP'),\n",
              " ('will', 'MD'),\n",
              " ('miss', 'VB'),\n",
              " ('the', 'DT'),\n",
              " ('advance', 'NN'),\n",
              " ('topic', 'NN'),\n",
              " ('.', '.')]"
            ]
          },
          "metadata": {},
          "execution_count": 30
        }
      ]
    },
    {
      "cell_type": "code",
      "source": [
        "import numpy as np\n",
        "import pandas as pd"
      ],
      "metadata": {
        "id": "DsTjou_s0zwB"
      },
      "execution_count": null,
      "outputs": []
    },
    {
      "cell_type": "code",
      "source": [
        "df = pd.read_csv(\"/content/drive/MyDrive/Tweets.csv\")\n",
        "df.head()"
      ],
      "metadata": {
        "colab": {
          "base_uri": "https://localhost:8080/",
          "height": 496
        },
        "id": "7vNdNaCN02RT",
        "outputId": "74c97141-cdda-4741-b2a8-290feb7053ac"
      },
      "execution_count": null,
      "outputs": [
        {
          "output_type": "execute_result",
          "data": {
            "text/plain": [
              "             tweet_id airline_sentiment  airline_sentiment_confidence  \\\n",
              "0  570306133677760513           neutral                        1.0000   \n",
              "1  570301130888122368          positive                        0.3486   \n",
              "2  570301083672813571           neutral                        0.6837   \n",
              "3  570301031407624196          negative                        1.0000   \n",
              "4  570300817074462722          negative                        1.0000   \n",
              "\n",
              "  negativereason  negativereason_confidence         airline  \\\n",
              "0            NaN                        NaN  Virgin America   \n",
              "1            NaN                     0.0000  Virgin America   \n",
              "2            NaN                        NaN  Virgin America   \n",
              "3     Bad Flight                     0.7033  Virgin America   \n",
              "4     Can't Tell                     1.0000  Virgin America   \n",
              "\n",
              "  airline_sentiment_gold        name negativereason_gold  retweet_count  \\\n",
              "0                    NaN     cairdin                 NaN              0   \n",
              "1                    NaN    jnardino                 NaN              0   \n",
              "2                    NaN  yvonnalynn                 NaN              0   \n",
              "3                    NaN    jnardino                 NaN              0   \n",
              "4                    NaN    jnardino                 NaN              0   \n",
              "\n",
              "                                                text tweet_coord  \\\n",
              "0                @VirginAmerica What @dhepburn said.         NaN   \n",
              "1  @VirginAmerica plus you've added commercials t...         NaN   \n",
              "2  @VirginAmerica I didn't today... Must mean I n...         NaN   \n",
              "3  @VirginAmerica it's really aggressive to blast...         NaN   \n",
              "4  @VirginAmerica and it's a really big bad thing...         NaN   \n",
              "\n",
              "               tweet_created tweet_location               user_timezone  \n",
              "0  2015-02-24 11:35:52 -0800            NaN  Eastern Time (US & Canada)  \n",
              "1  2015-02-24 11:15:59 -0800            NaN  Pacific Time (US & Canada)  \n",
              "2  2015-02-24 11:15:48 -0800      Lets Play  Central Time (US & Canada)  \n",
              "3  2015-02-24 11:15:36 -0800            NaN  Pacific Time (US & Canada)  \n",
              "4  2015-02-24 11:14:45 -0800            NaN  Pacific Time (US & Canada)  "
            ],
            "text/html": [
              "\n",
              "\n",
              "  <div id=\"df-19a3effa-5129-4136-9966-62e52fca9f0c\">\n",
              "    <div class=\"colab-df-container\">\n",
              "      <div>\n",
              "<style scoped>\n",
              "    .dataframe tbody tr th:only-of-type {\n",
              "        vertical-align: middle;\n",
              "    }\n",
              "\n",
              "    .dataframe tbody tr th {\n",
              "        vertical-align: top;\n",
              "    }\n",
              "\n",
              "    .dataframe thead th {\n",
              "        text-align: right;\n",
              "    }\n",
              "</style>\n",
              "<table border=\"1\" class=\"dataframe\">\n",
              "  <thead>\n",
              "    <tr style=\"text-align: right;\">\n",
              "      <th></th>\n",
              "      <th>tweet_id</th>\n",
              "      <th>airline_sentiment</th>\n",
              "      <th>airline_sentiment_confidence</th>\n",
              "      <th>negativereason</th>\n",
              "      <th>negativereason_confidence</th>\n",
              "      <th>airline</th>\n",
              "      <th>airline_sentiment_gold</th>\n",
              "      <th>name</th>\n",
              "      <th>negativereason_gold</th>\n",
              "      <th>retweet_count</th>\n",
              "      <th>text</th>\n",
              "      <th>tweet_coord</th>\n",
              "      <th>tweet_created</th>\n",
              "      <th>tweet_location</th>\n",
              "      <th>user_timezone</th>\n",
              "    </tr>\n",
              "  </thead>\n",
              "  <tbody>\n",
              "    <tr>\n",
              "      <th>0</th>\n",
              "      <td>570306133677760513</td>\n",
              "      <td>neutral</td>\n",
              "      <td>1.0000</td>\n",
              "      <td>NaN</td>\n",
              "      <td>NaN</td>\n",
              "      <td>Virgin America</td>\n",
              "      <td>NaN</td>\n",
              "      <td>cairdin</td>\n",
              "      <td>NaN</td>\n",
              "      <td>0</td>\n",
              "      <td>@VirginAmerica What @dhepburn said.</td>\n",
              "      <td>NaN</td>\n",
              "      <td>2015-02-24 11:35:52 -0800</td>\n",
              "      <td>NaN</td>\n",
              "      <td>Eastern Time (US &amp; Canada)</td>\n",
              "    </tr>\n",
              "    <tr>\n",
              "      <th>1</th>\n",
              "      <td>570301130888122368</td>\n",
              "      <td>positive</td>\n",
              "      <td>0.3486</td>\n",
              "      <td>NaN</td>\n",
              "      <td>0.0000</td>\n",
              "      <td>Virgin America</td>\n",
              "      <td>NaN</td>\n",
              "      <td>jnardino</td>\n",
              "      <td>NaN</td>\n",
              "      <td>0</td>\n",
              "      <td>@VirginAmerica plus you've added commercials t...</td>\n",
              "      <td>NaN</td>\n",
              "      <td>2015-02-24 11:15:59 -0800</td>\n",
              "      <td>NaN</td>\n",
              "      <td>Pacific Time (US &amp; Canada)</td>\n",
              "    </tr>\n",
              "    <tr>\n",
              "      <th>2</th>\n",
              "      <td>570301083672813571</td>\n",
              "      <td>neutral</td>\n",
              "      <td>0.6837</td>\n",
              "      <td>NaN</td>\n",
              "      <td>NaN</td>\n",
              "      <td>Virgin America</td>\n",
              "      <td>NaN</td>\n",
              "      <td>yvonnalynn</td>\n",
              "      <td>NaN</td>\n",
              "      <td>0</td>\n",
              "      <td>@VirginAmerica I didn't today... Must mean I n...</td>\n",
              "      <td>NaN</td>\n",
              "      <td>2015-02-24 11:15:48 -0800</td>\n",
              "      <td>Lets Play</td>\n",
              "      <td>Central Time (US &amp; Canada)</td>\n",
              "    </tr>\n",
              "    <tr>\n",
              "      <th>3</th>\n",
              "      <td>570301031407624196</td>\n",
              "      <td>negative</td>\n",
              "      <td>1.0000</td>\n",
              "      <td>Bad Flight</td>\n",
              "      <td>0.7033</td>\n",
              "      <td>Virgin America</td>\n",
              "      <td>NaN</td>\n",
              "      <td>jnardino</td>\n",
              "      <td>NaN</td>\n",
              "      <td>0</td>\n",
              "      <td>@VirginAmerica it's really aggressive to blast...</td>\n",
              "      <td>NaN</td>\n",
              "      <td>2015-02-24 11:15:36 -0800</td>\n",
              "      <td>NaN</td>\n",
              "      <td>Pacific Time (US &amp; Canada)</td>\n",
              "    </tr>\n",
              "    <tr>\n",
              "      <th>4</th>\n",
              "      <td>570300817074462722</td>\n",
              "      <td>negative</td>\n",
              "      <td>1.0000</td>\n",
              "      <td>Can't Tell</td>\n",
              "      <td>1.0000</td>\n",
              "      <td>Virgin America</td>\n",
              "      <td>NaN</td>\n",
              "      <td>jnardino</td>\n",
              "      <td>NaN</td>\n",
              "      <td>0</td>\n",
              "      <td>@VirginAmerica and it's a really big bad thing...</td>\n",
              "      <td>NaN</td>\n",
              "      <td>2015-02-24 11:14:45 -0800</td>\n",
              "      <td>NaN</td>\n",
              "      <td>Pacific Time (US &amp; Canada)</td>\n",
              "    </tr>\n",
              "  </tbody>\n",
              "</table>\n",
              "</div>\n",
              "      <button class=\"colab-df-convert\" onclick=\"convertToInteractive('df-19a3effa-5129-4136-9966-62e52fca9f0c')\"\n",
              "              title=\"Convert this dataframe to an interactive table.\"\n",
              "              style=\"display:none;\">\n",
              "\n",
              "  <svg xmlns=\"http://www.w3.org/2000/svg\" height=\"24px\"viewBox=\"0 0 24 24\"\n",
              "       width=\"24px\">\n",
              "    <path d=\"M0 0h24v24H0V0z\" fill=\"none\"/>\n",
              "    <path d=\"M18.56 5.44l.94 2.06.94-2.06 2.06-.94-2.06-.94-.94-2.06-.94 2.06-2.06.94zm-11 1L8.5 8.5l.94-2.06 2.06-.94-2.06-.94L8.5 2.5l-.94 2.06-2.06.94zm10 10l.94 2.06.94-2.06 2.06-.94-2.06-.94-.94-2.06-.94 2.06-2.06.94z\"/><path d=\"M17.41 7.96l-1.37-1.37c-.4-.4-.92-.59-1.43-.59-.52 0-1.04.2-1.43.59L10.3 9.45l-7.72 7.72c-.78.78-.78 2.05 0 2.83L4 21.41c.39.39.9.59 1.41.59.51 0 1.02-.2 1.41-.59l7.78-7.78 2.81-2.81c.8-.78.8-2.07 0-2.86zM5.41 20L4 18.59l7.72-7.72 1.47 1.35L5.41 20z\"/>\n",
              "  </svg>\n",
              "      </button>\n",
              "\n",
              "\n",
              "\n",
              "    <div id=\"df-53701e7f-8643-4f1b-89ba-8bdcaf236a8b\">\n",
              "      <button class=\"colab-df-quickchart\" onclick=\"quickchart('df-53701e7f-8643-4f1b-89ba-8bdcaf236a8b')\"\n",
              "              title=\"Suggest charts.\"\n",
              "              style=\"display:none;\">\n",
              "\n",
              "<svg xmlns=\"http://www.w3.org/2000/svg\" height=\"24px\"viewBox=\"0 0 24 24\"\n",
              "     width=\"24px\">\n",
              "    <g>\n",
              "        <path d=\"M19 3H5c-1.1 0-2 .9-2 2v14c0 1.1.9 2 2 2h14c1.1 0 2-.9 2-2V5c0-1.1-.9-2-2-2zM9 17H7v-7h2v7zm4 0h-2V7h2v10zm4 0h-2v-4h2v4z\"/>\n",
              "    </g>\n",
              "</svg>\n",
              "      </button>\n",
              "    </div>\n",
              "\n",
              "<style>\n",
              "  .colab-df-quickchart {\n",
              "    background-color: #E8F0FE;\n",
              "    border: none;\n",
              "    border-radius: 50%;\n",
              "    cursor: pointer;\n",
              "    display: none;\n",
              "    fill: #1967D2;\n",
              "    height: 32px;\n",
              "    padding: 0 0 0 0;\n",
              "    width: 32px;\n",
              "  }\n",
              "\n",
              "  .colab-df-quickchart:hover {\n",
              "    background-color: #E2EBFA;\n",
              "    box-shadow: 0px 1px 2px rgba(60, 64, 67, 0.3), 0px 1px 3px 1px rgba(60, 64, 67, 0.15);\n",
              "    fill: #174EA6;\n",
              "  }\n",
              "\n",
              "  [theme=dark] .colab-df-quickchart {\n",
              "    background-color: #3B4455;\n",
              "    fill: #D2E3FC;\n",
              "  }\n",
              "\n",
              "  [theme=dark] .colab-df-quickchart:hover {\n",
              "    background-color: #434B5C;\n",
              "    box-shadow: 0px 1px 3px 1px rgba(0, 0, 0, 0.15);\n",
              "    filter: drop-shadow(0px 1px 2px rgba(0, 0, 0, 0.3));\n",
              "    fill: #FFFFFF;\n",
              "  }\n",
              "</style>\n",
              "\n",
              "    <script>\n",
              "      async function quickchart(key) {\n",
              "        const containerElement = document.querySelector('#' + key);\n",
              "        const charts = await google.colab.kernel.invokeFunction(\n",
              "            'suggestCharts', [key], {});\n",
              "      }\n",
              "    </script>\n",
              "\n",
              "      <script>\n",
              "\n",
              "function displayQuickchartButton(domScope) {\n",
              "  let quickchartButtonEl =\n",
              "    domScope.querySelector('#df-53701e7f-8643-4f1b-89ba-8bdcaf236a8b button.colab-df-quickchart');\n",
              "  quickchartButtonEl.style.display =\n",
              "    google.colab.kernel.accessAllowed ? 'block' : 'none';\n",
              "}\n",
              "\n",
              "        displayQuickchartButton(document);\n",
              "      </script>\n",
              "      <style>\n",
              "    .colab-df-container {\n",
              "      display:flex;\n",
              "      flex-wrap:wrap;\n",
              "      gap: 12px;\n",
              "    }\n",
              "\n",
              "    .colab-df-convert {\n",
              "      background-color: #E8F0FE;\n",
              "      border: none;\n",
              "      border-radius: 50%;\n",
              "      cursor: pointer;\n",
              "      display: none;\n",
              "      fill: #1967D2;\n",
              "      height: 32px;\n",
              "      padding: 0 0 0 0;\n",
              "      width: 32px;\n",
              "    }\n",
              "\n",
              "    .colab-df-convert:hover {\n",
              "      background-color: #E2EBFA;\n",
              "      box-shadow: 0px 1px 2px rgba(60, 64, 67, 0.3), 0px 1px 3px 1px rgba(60, 64, 67, 0.15);\n",
              "      fill: #174EA6;\n",
              "    }\n",
              "\n",
              "    [theme=dark] .colab-df-convert {\n",
              "      background-color: #3B4455;\n",
              "      fill: #D2E3FC;\n",
              "    }\n",
              "\n",
              "    [theme=dark] .colab-df-convert:hover {\n",
              "      background-color: #434B5C;\n",
              "      box-shadow: 0px 1px 3px 1px rgba(0, 0, 0, 0.15);\n",
              "      filter: drop-shadow(0px 1px 2px rgba(0, 0, 0, 0.3));\n",
              "      fill: #FFFFFF;\n",
              "    }\n",
              "  </style>\n",
              "\n",
              "      <script>\n",
              "        const buttonEl =\n",
              "          document.querySelector('#df-19a3effa-5129-4136-9966-62e52fca9f0c button.colab-df-convert');\n",
              "        buttonEl.style.display =\n",
              "          google.colab.kernel.accessAllowed ? 'block' : 'none';\n",
              "\n",
              "        async function convertToInteractive(key) {\n",
              "          const element = document.querySelector('#df-19a3effa-5129-4136-9966-62e52fca9f0c');\n",
              "          const dataTable =\n",
              "            await google.colab.kernel.invokeFunction('convertToInteractive',\n",
              "                                                     [key], {});\n",
              "          if (!dataTable) return;\n",
              "\n",
              "          const docLinkHtml = 'Like what you see? Visit the ' +\n",
              "            '<a target=\"_blank\" href=https://colab.research.google.com/notebooks/data_table.ipynb>data table notebook</a>'\n",
              "            + ' to learn more about interactive tables.';\n",
              "          element.innerHTML = '';\n",
              "          dataTable['output_type'] = 'display_data';\n",
              "          await google.colab.output.renderOutput(dataTable, element);\n",
              "          const docLink = document.createElement('div');\n",
              "          docLink.innerHTML = docLinkHtml;\n",
              "          element.appendChild(docLink);\n",
              "        }\n",
              "      </script>\n",
              "    </div>\n",
              "  </div>\n"
            ]
          },
          "metadata": {},
          "execution_count": 32
        }
      ]
    },
    {
      "cell_type": "code",
      "source": [
        "airline_sentiment = df.groupby(['airline', 'airline_sentiment']).airline_sentiment.count()\n",
        "airline_sentiment.plot(kind = \"bar\")"
      ],
      "metadata": {
        "colab": {
          "base_uri": "https://localhost:8080/",
          "height": 635
        },
        "id": "znFA2us004lI",
        "outputId": "728455ef-6ed4-457c-d886-8f9772fe8770"
      },
      "execution_count": null,
      "outputs": [
        {
          "output_type": "execute_result",
          "data": {
            "text/plain": [
              "<Axes: xlabel='airline,airline_sentiment'>"
            ]
          },
          "metadata": {},
          "execution_count": 33
        },
        {
          "output_type": "display_data",
          "data": {
            "text/plain": [
              "<Figure size 640x480 with 1 Axes>"
            ],
            "image/png": "[encoded data removed]"
          },
          "metadata": {}
        }
      ]
    },
    {
      "cell_type": "code",
      "source": [
        "df.airline_sentiment.value_counts().plot(kind='bar')"
      ],
      "metadata": {
        "colab": {
          "base_uri": "https://localhost:8080/",
          "height": 494
        },
        "id": "TENX9nQR07Gh",
        "outputId": "d5f24609-23ce-4712-cf41-7c1943dbae55"
      },
      "execution_count": null,
      "outputs": [
        {
          "output_type": "execute_result",
          "data": {
            "text/plain": [
              "<Axes: >"
            ]
          },
          "metadata": {},
          "execution_count": 34
        },
        {
          "output_type": "display_data",
          "data": {
            "text/plain": [
              "<Figure size 640x480 with 1 Axes>"
            ],
            "image/png": "[encoded data removed]"
          },
          "metadata": {}
        }
      ]
    },
    {
      "cell_type": "code",
      "source": [
        "df.airline.value_counts().plot(kind='bar')"
      ],
      "metadata": {
        "colab": {
          "base_uri": "https://localhost:8080/",
          "height": 539
        },
        "id": "xN3iKjdu09hQ",
        "outputId": "c22cdb74-253d-41c8-cfc8-52c8ae413ae9"
      },
      "execution_count": null,
      "outputs": [
        {
          "output_type": "execute_result",
          "data": {
            "text/plain": [
              "<Axes: >"
            ]
          },
          "metadata": {},
          "execution_count": 35
        },
        {
          "output_type": "display_data",
          "data": {
            "text/plain": [
              "<Figure size 640x480 with 1 Axes>"
            ],
            "image/png": "[encoded data removed]"
          },
          "metadata": {}
        }
      ]
    },
    {
      "cell_type": "code",
      "source": [
        "from google.colab import drive\n",
        "drive.mount('/content/drive')"
      ],
      "metadata": {
        "colab": {
          "base_uri": "https://localhost:8080/"
        },
        "id": "luRQN2Fv0_yL",
        "outputId": "c0b1dbcb-eef6-48c3-9a99-3c10fb975fd0"
      },
      "execution_count": null,
      "outputs": [
        {
          "output_type": "stream",
          "name": "stdout",
          "text": [
            "Drive already mounted at /content/drive; to attempt to forcibly remount, call drive.mount(\"/content/drive\", force_remount=True).\n"
          ]
        }
      ]
    },
    {
      "cell_type": "code",
      "source": [
        "df['cleaned_tweet'] = df['text'].apply(Step_words)"
      ],
      "metadata": {
        "id": "YluCOUnG1CDr"
      },
      "execution_count": null,
      "outputs": []
    },
    {
      "cell_type": "code",
      "source": [
        "df['cleaned_tweet'] = df['text'].apply(pun_remove)"
      ],
      "metadata": {
        "id": "SP13G9KW1CKw"
      },
      "execution_count": null,
      "outputs": []
    },
    {
      "cell_type": "code",
      "source": [
        "df['text']"
      ],
      "metadata": {
        "colab": {
          "base_uri": "https://localhost:8080/"
        },
        "id": "Ep1KLTu-1IGq",
        "outputId": "212c8100-99a8-4e96-bc36-7ef4d2e3f79f"
      },
      "execution_count": null,
      "outputs": [
        {
          "output_type": "execute_result",
          "data": {
            "text/plain": [
              "0                      @VirginAmerica What @dhepburn said.\n",
              "1        @VirginAmerica plus you've added commercials t...\n",
              "2        @VirginAmerica I didn't today... Must mean I n...\n",
              "3        @VirginAmerica it's really aggressive to blast...\n",
              "4        @VirginAmerica and it's a really big bad thing...\n",
              "                               ...                        \n",
              "14635    @AmericanAir thank you we got on a different f...\n",
              "14636    @AmericanAir leaving over 20 minutes Late Flig...\n",
              "14637    @AmericanAir Please bring American Airlines to...\n",
              "14638    @AmericanAir you have my money, you change my ...\n",
              "14639    @AmericanAir we have 8 ppl so we need 2 know h...\n",
              "Name: text, Length: 14640, dtype: object"
            ]
          },
          "metadata": {},
          "execution_count": 39
        }
      ]
    },
    {
      "cell_type": "code",
      "source": [
        "df['cleaned_tweet']"
      ],
      "metadata": {
        "colab": {
          "base_uri": "https://localhost:8080/"
        },
        "id": "GZCXjj961LLD",
        "outputId": "cc3cd365-ec9e-4de7-ef95-d4703f1f482c"
      },
      "execution_count": null,
      "outputs": [
        {
          "output_type": "execute_result",
          "data": {
            "text/plain": [
              "0                         VirginAmerica What dhepburn said\n",
              "1        VirginAmerica plus youve added commercials to ...\n",
              "2        VirginAmerica I didnt today Must mean I need t...\n",
              "3        VirginAmerica its really aggressive to blast o...\n",
              "4        VirginAmerica and its a really big bad thing a...\n",
              "                               ...                        \n",
              "14635    AmericanAir thank you we got on a different fl...\n",
              "14636    AmericanAir leaving over 20 minutes Late Fligh...\n",
              "14637    AmericanAir Please bring American Airlines to ...\n",
              "14638    AmericanAir you have my money you change my fl...\n",
              "14639    AmericanAir we have 8 ppl so we need 2 know ho...\n",
              "Name: cleaned_tweet, Length: 14640, dtype: object"
            ]
          },
          "metadata": {},
          "execution_count": 40
        }
      ]
    },
    {
      "cell_type": "code",
      "source": [
        "df['experiment'] = df['text'].apply(Stopwords_learn)"
      ],
      "metadata": {
        "id": "7Skt1tvJ1NWB"
      },
      "execution_count": null,
      "outputs": []
    },
    {
      "cell_type": "code",
      "source": [
        "df['experiment']"
      ],
      "metadata": {
        "colab": {
          "base_uri": "https://localhost:8080/"
        },
        "id": "7k8KoIyW1PcH",
        "outputId": "3e63acfa-2572-46ed-e2f4-30a31f1d4020"
      },
      "execution_count": null,
      "outputs": [
        {
          "output_type": "execute_result",
          "data": {
            "text/plain": [
              "0           [@, VirginAmerica, What, @, dhepburn, said, .]\n",
              "1        [@, VirginAmerica, plus, 've, added, commercia...\n",
              "2        [@, VirginAmerica, I, n't, today, ..., Must, m...\n",
              "3        [@, VirginAmerica, 's, really, aggressive, bla...\n",
              "4          [@, VirginAmerica, 's, really, big, bad, thing]\n",
              "                               ...                        \n",
              "14635    [@, AmericanAir, thank, got, different, flight...\n",
              "14636    [@, AmericanAir, leaving, 20, minutes, Late, F...\n",
              "14637    [@, AmericanAir, Please, bring, American, Airl...\n",
              "14638    [@, AmericanAir, money, ,, change, flight, ,, ...\n",
              "14639    [@, AmericanAir, 8, ppl, need, 2, know, many, ...\n",
              "Name: experiment, Length: 14640, dtype: object"
            ]
          },
          "metadata": {},
          "execution_count": 42
        }
      ]
    },
    {
      "cell_type": "code",
      "source": [
        "df['cleaned_tweet']"
      ],
      "metadata": {
        "colab": {
          "base_uri": "https://localhost:8080/"
        },
        "id": "DXx1APeA1RYp",
        "outputId": "f231ad92-a04a-4544-b4d5-248a3ec2e829"
      },
      "execution_count": null,
      "outputs": [
        {
          "output_type": "execute_result",
          "data": {
            "text/plain": [
              "0                         VirginAmerica What dhepburn said\n",
              "1        VirginAmerica plus youve added commercials to ...\n",
              "2        VirginAmerica I didnt today Must mean I need t...\n",
              "3        VirginAmerica its really aggressive to blast o...\n",
              "4        VirginAmerica and its a really big bad thing a...\n",
              "                               ...                        \n",
              "14635    AmericanAir thank you we got on a different fl...\n",
              "14636    AmericanAir leaving over 20 minutes Late Fligh...\n",
              "14637    AmericanAir Please bring American Airlines to ...\n",
              "14638    AmericanAir you have my money you change my fl...\n",
              "14639    AmericanAir we have 8 ppl so we need 2 know ho...\n",
              "Name: cleaned_tweet, Length: 14640, dtype: object"
            ]
          },
          "metadata": {},
          "execution_count": 43
        }
      ]
    },
    {
      "cell_type": "code",
      "source": [
        "df.head()"
      ],
      "metadata": {
        "colab": {
          "base_uri": "https://localhost:8080/",
          "height": 583
        },
        "id": "JgTrgjzL1TQ4",
        "outputId": "44edd403-d34d-4d56-8618-06e1af0db18a"
      },
      "execution_count": null,
      "outputs": [
        {
          "output_type": "execute_result",
          "data": {
            "text/plain": [
              "             tweet_id airline_sentiment  airline_sentiment_confidence  \\\n",
              "0  570306133677760513           neutral                        1.0000   \n",
              "1  570301130888122368          positive                        0.3486   \n",
              "2  570301083672813571           neutral                        0.6837   \n",
              "3  570301031407624196          negative                        1.0000   \n",
              "4  570300817074462722          negative                        1.0000   \n",
              "\n",
              "  negativereason  negativereason_confidence         airline  \\\n",
              "0            NaN                        NaN  Virgin America   \n",
              "1            NaN                     0.0000  Virgin America   \n",
              "2            NaN                        NaN  Virgin America   \n",
              "3     Bad Flight                     0.7033  Virgin America   \n",
              "4     Can't Tell                     1.0000  Virgin America   \n",
              "\n",
              "  airline_sentiment_gold        name negativereason_gold  retweet_count  \\\n",
              "0                    NaN     cairdin                 NaN              0   \n",
              "1                    NaN    jnardino                 NaN              0   \n",
              "2                    NaN  yvonnalynn                 NaN              0   \n",
              "3                    NaN    jnardino                 NaN              0   \n",
              "4                    NaN    jnardino                 NaN              0   \n",
              "\n",
              "                                                text tweet_coord  \\\n",
              "0                @VirginAmerica What @dhepburn said.         NaN   \n",
              "1  @VirginAmerica plus you've added commercials t...         NaN   \n",
              "2  @VirginAmerica I didn't today... Must mean I n...         NaN   \n",
              "3  @VirginAmerica it's really aggressive to blast...         NaN   \n",
              "4  @VirginAmerica and it's a really big bad thing...         NaN   \n",
              "\n",
              "               tweet_created tweet_location               user_timezone  \\\n",
              "0  2015-02-24 11:35:52 -0800            NaN  Eastern Time (US & Canada)   \n",
              "1  2015-02-24 11:15:59 -0800            NaN  Pacific Time (US & Canada)   \n",
              "2  2015-02-24 11:15:48 -0800      Lets Play  Central Time (US & Canada)   \n",
              "3  2015-02-24 11:15:36 -0800            NaN  Pacific Time (US & Canada)   \n",
              "4  2015-02-24 11:14:45 -0800            NaN  Pacific Time (US & Canada)   \n",
              "\n",
              "                                       cleaned_tweet  \\\n",
              "0                   VirginAmerica What dhepburn said   \n",
              "1  VirginAmerica plus youve added commercials to ...   \n",
              "2  VirginAmerica I didnt today Must mean I need t...   \n",
              "3  VirginAmerica its really aggressive to blast o...   \n",
              "4  VirginAmerica and its a really big bad thing a...   \n",
              "\n",
              "                                          experiment  \n",
              "0     [@, VirginAmerica, What, @, dhepburn, said, .]  \n",
              "1  [@, VirginAmerica, plus, 've, added, commercia...  \n",
              "2  [@, VirginAmerica, I, n't, today, ..., Must, m...  \n",
              "3  [@, VirginAmerica, 's, really, aggressive, bla...  \n",
              "4    [@, VirginAmerica, 's, really, big, bad, thing]  "
            ],
            "text/html": [
              "\n",
              "\n",
              "  <div id=\"df-7fb591ed-a27f-4768-b227-a0757b05eea1\">\n",
              "    <div class=\"colab-df-container\">\n",
              "      <div>\n",
              "<style scoped>\n",
              "    .dataframe tbody tr th:only-of-type {\n",
              "        vertical-align: middle;\n",
              "    }\n",
              "\n",
              "    .dataframe tbody tr th {\n",
              "        vertical-align: top;\n",
              "    }\n",
              "\n",
              "    .dataframe thead th {\n",
              "        text-align: right;\n",
              "    }\n",
              "</style>\n",
              "<table border=\"1\" class=\"dataframe\">\n",
              "  <thead>\n",
              "    <tr style=\"text-align: right;\">\n",
              "      <th></th>\n",
              "      <th>tweet_id</th>\n",
              "      <th>airline_sentiment</th>\n",
              "      <th>airline_sentiment_confidence</th>\n",
              "      <th>negativereason</th>\n",
              "      <th>negativereason_confidence</th>\n",
              "      <th>airline</th>\n",
              "      <th>airline_sentiment_gold</th>\n",
              "      <th>name</th>\n",
              "      <th>negativereason_gold</th>\n",
              "      <th>retweet_count</th>\n",
              "      <th>text</th>\n",
              "      <th>tweet_coord</th>\n",
              "      <th>tweet_created</th>\n",
              "      <th>tweet_location</th>\n",
              "      <th>user_timezone</th>\n",
              "      <th>cleaned_tweet</th>\n",
              "      <th>experiment</th>\n",
              "    </tr>\n",
              "  </thead>\n",
              "  <tbody>\n",
              "    <tr>\n",
              "      <th>0</th>\n",
              "      <td>570306133677760513</td>\n",
              "      <td>neutral</td>\n",
              "      <td>1.0000</td>\n",
              "      <td>NaN</td>\n",
              "      <td>NaN</td>\n",
              "      <td>Virgin America</td>\n",
              "      <td>NaN</td>\n",
              "      <td>cairdin</td>\n",
              "      <td>NaN</td>\n",
              "      <td>0</td>\n",
              "      <td>@VirginAmerica What @dhepburn said.</td>\n",
              "      <td>NaN</td>\n",
              "      <td>2015-02-24 11:35:52 -0800</td>\n",
              "      <td>NaN</td>\n",
              "      <td>Eastern Time (US &amp; Canada)</td>\n",
              "      <td>VirginAmerica What dhepburn said</td>\n",
              "      <td>[@, VirginAmerica, What, @, dhepburn, said, .]</td>\n",
              "    </tr>\n",
              "    <tr>\n",
              "      <th>1</th>\n",
              "      <td>570301130888122368</td>\n",
              "      <td>positive</td>\n",
              "      <td>0.3486</td>\n",
              "      <td>NaN</td>\n",
              "      <td>0.0000</td>\n",
              "      <td>Virgin America</td>\n",
              "      <td>NaN</td>\n",
              "      <td>jnardino</td>\n",
              "      <td>NaN</td>\n",
              "      <td>0</td>\n",
              "      <td>@VirginAmerica plus you've added commercials t...</td>\n",
              "      <td>NaN</td>\n",
              "      <td>2015-02-24 11:15:59 -0800</td>\n",
              "      <td>NaN</td>\n",
              "      <td>Pacific Time (US &amp; Canada)</td>\n",
              "      <td>VirginAmerica plus youve added commercials to ...</td>\n",
              "      <td>[@, VirginAmerica, plus, 've, added, commercia...</td>\n",
              "    </tr>\n",
              "    <tr>\n",
              "      <th>2</th>\n",
              "      <td>570301083672813571</td>\n",
              "      <td>neutral</td>\n",
              "      <td>0.6837</td>\n",
              "      <td>NaN</td>\n",
              "      <td>NaN</td>\n",
              "      <td>Virgin America</td>\n",
              "      <td>NaN</td>\n",
              "      <td>yvonnalynn</td>\n",
              "      <td>NaN</td>\n",
              "      <td>0</td>\n",
              "      <td>@VirginAmerica I didn't today... Must mean I n...</td>\n",
              "      <td>NaN</td>\n",
              "      <td>2015-02-24 11:15:48 -0800</td>\n",
              "      <td>Lets Play</td>\n",
              "      <td>Central Time (US &amp; Canada)</td>\n",
              "      <td>VirginAmerica I didnt today Must mean I need t...</td>\n",
              "      <td>[@, VirginAmerica, I, n't, today, ..., Must, m...</td>\n",
              "    </tr>\n",
              "    <tr>\n",
              "      <th>3</th>\n",
              "      <td>570301031407624196</td>\n",
              "      <td>negative</td>\n",
              "      <td>1.0000</td>\n",
              "      <td>Bad Flight</td>\n",
              "      <td>0.7033</td>\n",
              "      <td>Virgin America</td>\n",
              "      <td>NaN</td>\n",
              "      <td>jnardino</td>\n",
              "      <td>NaN</td>\n",
              "      <td>0</td>\n",
              "      <td>@VirginAmerica it's really aggressive to blast...</td>\n",
              "      <td>NaN</td>\n",
              "      <td>2015-02-24 11:15:36 -0800</td>\n",
              "      <td>NaN</td>\n",
              "      <td>Pacific Time (US &amp; Canada)</td>\n",
              "      <td>VirginAmerica its really aggressive to blast o...</td>\n",
              "      <td>[@, VirginAmerica, 's, really, aggressive, bla...</td>\n",
              "    </tr>\n",
              "    <tr>\n",
              "      <th>4</th>\n",
              "      <td>570300817074462722</td>\n",
              "      <td>negative</td>\n",
              "      <td>1.0000</td>\n",
              "      <td>Can't Tell</td>\n",
              "      <td>1.0000</td>\n",
              "      <td>Virgin America</td>\n",
              "      <td>NaN</td>\n",
              "      <td>jnardino</td>\n",
              "      <td>NaN</td>\n",
              "      <td>0</td>\n",
              "      <td>@VirginAmerica and it's a really big bad thing...</td>\n",
              "      <td>NaN</td>\n",
              "      <td>2015-02-24 11:14:45 -0800</td>\n",
              "      <td>NaN</td>\n",
              "      <td>Pacific Time (US &amp; Canada)</td>\n",
              "      <td>VirginAmerica and its a really big bad thing a...</td>\n",
              "      <td>[@, VirginAmerica, 's, really, big, bad, thing]</td>\n",
              "    </tr>\n",
              "  </tbody>\n",
              "</table>\n",
              "</div>\n",
              "      <button class=\"colab-df-convert\" onclick=\"convertToInteractive('df-7fb591ed-a27f-4768-b227-a0757b05eea1')\"\n",
              "              title=\"Convert this dataframe to an interactive table.\"\n",
              "              style=\"display:none;\">\n",
              "\n",
              "  <svg xmlns=\"http://www.w3.org/2000/svg\" height=\"24px\"viewBox=\"0 0 24 24\"\n",
              "       width=\"24px\">\n",
              "    <path d=\"M0 0h24v24H0V0z\" fill=\"none\"/>\n",
              "    <path d=\"M18.56 5.44l.94 2.06.94-2.06 2.06-.94-2.06-.94-.94-2.06-.94 2.06-2.06.94zm-11 1L8.5 8.5l.94-2.06 2.06-.94-2.06-.94L8.5 2.5l-.94 2.06-2.06.94zm10 10l.94 2.06.94-2.06 2.06-.94-2.06-.94-.94-2.06-.94 2.06-2.06.94z\"/><path d=\"M17.41 7.96l-1.37-1.37c-.4-.4-.92-.59-1.43-.59-.52 0-1.04.2-1.43.59L10.3 9.45l-7.72 7.72c-.78.78-.78 2.05 0 2.83L4 21.41c.39.39.9.59 1.41.59.51 0 1.02-.2 1.41-.59l7.78-7.78 2.81-2.81c.8-.78.8-2.07 0-2.86zM5.41 20L4 18.59l7.72-7.72 1.47 1.35L5.41 20z\"/>\n",
              "  </svg>\n",
              "      </button>\n",
              "\n",
              "\n",
              "\n",
              "    <div id=\"df-1b59b26f-779c-4c28-a028-9ef0255e7e07\">\n",
              "      <button class=\"colab-df-quickchart\" onclick=\"quickchart('df-1b59b26f-779c-4c28-a028-9ef0255e7e07')\"\n",
              "              title=\"Suggest charts.\"\n",
              "              style=\"display:none;\">\n",
              "\n",
              "<svg xmlns=\"http://www.w3.org/2000/svg\" height=\"24px\"viewBox=\"0 0 24 24\"\n",
              "     width=\"24px\">\n",
              "    <g>\n",
              "        <path d=\"M19 3H5c-1.1 0-2 .9-2 2v14c0 1.1.9 2 2 2h14c1.1 0 2-.9 2-2V5c0-1.1-.9-2-2-2zM9 17H7v-7h2v7zm4 0h-2V7h2v10zm4 0h-2v-4h2v4z\"/>\n",
              "    </g>\n",
              "</svg>\n",
              "      </button>\n",
              "    </div>\n",
              "\n",
              "<style>\n",
              "  .colab-df-quickchart {\n",
              "    background-color: #E8F0FE;\n",
              "    border: none;\n",
              "    border-radius: 50%;\n",
              "    cursor: pointer;\n",
              "    display: none;\n",
              "    fill: #1967D2;\n",
              "    height: 32px;\n",
              "    padding: 0 0 0 0;\n",
              "    width: 32px;\n",
              "  }\n",
              "\n",
              "  .colab-df-quickchart:hover {\n",
              "    background-color: #E2EBFA;\n",
              "    box-shadow: 0px 1px 2px rgba(60, 64, 67, 0.3), 0px 1px 3px 1px rgba(60, 64, 67, 0.15);\n",
              "    fill: #174EA6;\n",
              "  }\n",
              "\n",
              "  [theme=dark] .colab-df-quickchart {\n",
              "    background-color: #3B4455;\n",
              "    fill: #D2E3FC;\n",
              "  }\n",
              "\n",
              "  [theme=dark] .colab-df-quickchart:hover {\n",
              "    background-color: #434B5C;\n",
              "    box-shadow: 0px 1px 3px 1px rgba(0, 0, 0, 0.15);\n",
              "    filter: drop-shadow(0px 1px 2px rgba(0, 0, 0, 0.3));\n",
              "    fill: #FFFFFF;\n",
              "  }\n",
              "</style>\n",
              "\n",
              "    <script>\n",
              "      async function quickchart(key) {\n",
              "        const containerElement = document.querySelector('#' + key);\n",
              "        const charts = await google.colab.kernel.invokeFunction(\n",
              "            'suggestCharts', [key], {});\n",
              "      }\n",
              "    </script>\n",
              "\n",
              "      <script>\n",
              "\n",
              "function displayQuickchartButton(domScope) {\n",
              "  let quickchartButtonEl =\n",
              "    domScope.querySelector('#df-1b59b26f-779c-4c28-a028-9ef0255e7e07 button.colab-df-quickchart');\n",
              "  quickchartButtonEl.style.display =\n",
              "    google.colab.kernel.accessAllowed ? 'block' : 'none';\n",
              "}\n",
              "\n",
              "        displayQuickchartButton(document);\n",
              "      </script>\n",
              "      <style>\n",
              "    .colab-df-container {\n",
              "      display:flex;\n",
              "      flex-wrap:wrap;\n",
              "      gap: 12px;\n",
              "    }\n",
              "\n",
              "    .colab-df-convert {\n",
              "      background-color: #E8F0FE;\n",
              "      border: none;\n",
              "      border-radius: 50%;\n",
              "      cursor: pointer;\n",
              "      display: none;\n",
              "      fill: #1967D2;\n",
              "      height: 32px;\n",
              "      padding: 0 0 0 0;\n",
              "      width: 32px;\n",
              "    }\n",
              "\n",
              "    .colab-df-convert:hover {\n",
              "      background-color: #E2EBFA;\n",
              "      box-shadow: 0px 1px 2px rgba(60, 64, 67, 0.3), 0px 1px 3px 1px rgba(60, 64, 67, 0.15);\n",
              "      fill: #174EA6;\n",
              "    }\n",
              "\n",
              "    [theme=dark] .colab-df-convert {\n",
              "      background-color: #3B4455;\n",
              "      fill: #D2E3FC;\n",
              "    }\n",
              "\n",
              "    [theme=dark] .colab-df-convert:hover {\n",
              "      background-color: #434B5C;\n",
              "      box-shadow: 0px 1px 3px 1px rgba(0, 0, 0, 0.15);\n",
              "      filter: drop-shadow(0px 1px 2px rgba(0, 0, 0, 0.3));\n",
              "      fill: #FFFFFF;\n",
              "    }\n",
              "  </style>\n",
              "\n",
              "      <script>\n",
              "        const buttonEl =\n",
              "          document.querySelector('#df-7fb591ed-a27f-4768-b227-a0757b05eea1 button.colab-df-convert');\n",
              "        buttonEl.style.display =\n",
              "          google.colab.kernel.accessAllowed ? 'block' : 'none';\n",
              "\n",
              "        async function convertToInteractive(key) {\n",
              "          const element = document.querySelector('#df-7fb591ed-a27f-4768-b227-a0757b05eea1');\n",
              "          const dataTable =\n",
              "            await google.colab.kernel.invokeFunction('convertToInteractive',\n",
              "                                                     [key], {});\n",
              "          if (!dataTable) return;\n",
              "\n",
              "          const docLinkHtml = 'Like what you see? Visit the ' +\n",
              "            '<a target=\"_blank\" href=https://colab.research.google.com/notebooks/data_table.ipynb>data table notebook</a>'\n",
              "            + ' to learn more about interactive tables.';\n",
              "          element.innerHTML = '';\n",
              "          dataTable['output_type'] = 'display_data';\n",
              "          await google.colab.output.renderOutput(dataTable, element);\n",
              "          const docLink = document.createElement('div');\n",
              "          docLink.innerHTML = docLinkHtml;\n",
              "          element.appendChild(docLink);\n",
              "        }\n",
              "      </script>\n",
              "    </div>\n",
              "  </div>\n"
            ]
          },
          "metadata": {},
          "execution_count": 44
        }
      ]
    },
    {
      "cell_type": "code",
      "source": [
        "df.info()"
      ],
      "metadata": {
        "colab": {
          "base_uri": "https://localhost:8080/"
        },
        "id": "H-Ive2xB1VK4",
        "outputId": "3c073fd1-c332-4c60-f37d-aef7eaa043b6"
      },
      "execution_count": null,
      "outputs": [
        {
          "output_type": "stream",
          "name": "stdout",
          "text": [
            "<class 'pandas.core.frame.DataFrame'>\n",
            "RangeIndex: 14640 entries, 0 to 14639\n",
            "Data columns (total 17 columns):\n",
            " #   Column                        Non-Null Count  Dtype  \n",
            "---  ------                        --------------  -----  \n",
            " 0   tweet_id                      14640 non-null  int64  \n",
            " 1   airline_sentiment             14640 non-null  object \n",
            " 2   airline_sentiment_confidence  14640 non-null  float64\n",
            " 3   negativereason                9178 non-null   object \n",
            " 4   negativereason_confidence     10522 non-null  float64\n",
            " 5   airline                       14640 non-null  object \n",
            " 6   airline_sentiment_gold        40 non-null     object \n",
            " 7   name                          14640 non-null  object \n",
            " 8   negativereason_gold           32 non-null     object \n",
            " 9   retweet_count                 14640 non-null  int64  \n",
            " 10  text                          14640 non-null  object \n",
            " 11  tweet_coord                   1019 non-null   object \n",
            " 12  tweet_created                 14640 non-null  object \n",
            " 13  tweet_location                9907 non-null   object \n",
            " 14  user_timezone                 9820 non-null   object \n",
            " 15  cleaned_tweet                 14640 non-null  object \n",
            " 16  experiment                    14640 non-null  object \n",
            "dtypes: float64(2), int64(2), object(13)\n",
            "memory usage: 1.9+ MB\n"
          ]
        }
      ]
    },
    {
      "cell_type": "code",
      "source": [
        "df.hist()"
      ],
      "metadata": {
        "colab": {
          "base_uri": "https://localhost:8080/",
          "height": 521
        },
        "id": "M4jiiyAX1XF0",
        "outputId": "3a8ce373-9017-4980-bf19-19eb4ab14470"
      },
      "execution_count": null,
      "outputs": [
        {
          "output_type": "execute_result",
          "data": {
            "text/plain": [
              "array([[<Axes: title={'center': 'tweet_id'}>,\n",
              "        <Axes: title={'center': 'airline_sentiment_confidence'}>],\n",
              "       [<Axes: title={'center': 'negativereason_confidence'}>,\n",
              "        <Axes: title={'center': 'retweet_count'}>]], dtype=object)"
            ]
          },
          "metadata": {},
          "execution_count": 46
        },
        {
          "output_type": "display_data",
          "data": {
            "text/plain": [
              "<Figure size 640x480 with 4 Axes>"
            ],
            "image/png": "[encoded data removed]"
          },
          "metadata": {}
        }
      ]
    },
    {
      "cell_type": "code",
      "source": [
        "a = 'hi'\n",
        "b = 'doing'\n",
        "c = 'us'\n",
        "\n",
        "string = [a,b,c]\n",
        "\n"
      ],
      "metadata": {
        "id": "o_G292sp1axx"
      },
      "execution_count": null,
      "outputs": []
    },
    {
      "cell_type": "code",
      "source": [
        "from sklearn.feature_extraction.text import CountVectorizer, TfidfVectorizer\n",
        "vec = TfidfVectorizer(use_idf=True, lowercase=True)"
      ],
      "metadata": {
        "id": "sHx9mRM61bbx"
      },
      "execution_count": null,
      "outputs": []
    },
    {
      "cell_type": "code",
      "source": [
        "result = vec.fit_transform(string)"
      ],
      "metadata": {
        "id": "xScMdBLa1dbi"
      },
      "execution_count": null,
      "outputs": []
    },
    {
      "cell_type": "code",
      "source": [
        "vec.vocabulary_"
      ],
      "metadata": {
        "colab": {
          "base_uri": "https://localhost:8080/"
        },
        "id": "U9J94X2r1fGk",
        "outputId": "13893cb5-8ac6-4b07-9ca6-922b29f2a96d"
      },
      "execution_count": null,
      "outputs": [
        {
          "output_type": "execute_result",
          "data": {
            "text/plain": [
              "{'hi': 1, 'doing': 0, 'us': 2}"
            ]
          },
          "metadata": {},
          "execution_count": 50
        }
      ]
    },
    {
      "cell_type": "code",
      "source": [
        "result"
      ],
      "metadata": {
        "colab": {
          "base_uri": "https://localhost:8080/"
        },
        "id": "FwDSknBf1h-Y",
        "outputId": "38da4a9d-f6b2-432f-c298-edf60002b19a"
      },
      "execution_count": null,
      "outputs": [
        {
          "output_type": "execute_result",
          "data": {
            "text/plain": [
              "<3x3 sparse matrix of type '<class 'numpy.float64'>'\n",
              "\twith 3 stored elements in Compressed Sparse Row format>"
            ]
          },
          "metadata": {},
          "execution_count": 51
        }
      ]
    },
    {
      "cell_type": "code",
      "source": [
        "result.toarray()"
      ],
      "metadata": {
        "colab": {
          "base_uri": "https://localhost:8080/"
        },
        "id": "KHyFfERw1kWY",
        "outputId": "b68dba69-aa95-472d-dc7e-fe8d27e4a423"
      },
      "execution_count": null,
      "outputs": [
        {
          "output_type": "execute_result",
          "data": {
            "text/plain": [
              "array([[0., 1., 0.],\n",
              "       [1., 0., 0.],\n",
              "       [0., 0., 1.]])"
            ]
          },
          "metadata": {},
          "execution_count": 52
        }
      ]
    },
    {
      "cell_type": "code",
      "source": [
        "from sklearn.model_selection import train_test_split"
      ],
      "metadata": {
        "id": "xQiO4vJE7yGR"
      },
      "execution_count": null,
      "outputs": []
    },
    {
      "cell_type": "code",
      "source": [
        "vec = TfidfVectorizer(use_idf=True, lowercase=True)\n",
        "X_tf_idf= vec.fit_transform(df.cleaned_tweet)\n",
        "\n"
      ],
      "metadata": {
        "id": "LNc-i3SR28de"
      },
      "execution_count": null,
      "outputs": []
    },
    {
      "cell_type": "code",
      "source": [
        "from sklearn.preprocessing import LabelBinarizer, LabelEncoder"
      ],
      "metadata": {
        "id": "hiPqJTng9wAj"
      },
      "execution_count": null,
      "outputs": []
    },
    {
      "cell_type": "code",
      "source": [
        "labelbin = LabelBinarizer()\n",
        "labelenc = LabelEncoder()"
      ],
      "metadata": {
        "id": "n2Y3z6RY7wsQ"
      },
      "execution_count": null,
      "outputs": []
    },
    {
      "cell_type": "code",
      "source": [
        "df.keys()"
      ],
      "metadata": {
        "colab": {
          "base_uri": "https://localhost:8080/"
        },
        "id": "8SO2caPE92fz",
        "outputId": "44307449-cdfa-4232-8818-ce7ff355350f"
      },
      "execution_count": null,
      "outputs": [
        {
          "output_type": "execute_result",
          "data": {
            "text/plain": [
              "Index(['tweet_id', 'airline_sentiment', 'airline_sentiment_confidence',\n",
              "       'negativereason', 'negativereason_confidence', 'airline',\n",
              "       'airline_sentiment_gold', 'name', 'negativereason_gold',\n",
              "       'retweet_count', 'text', 'tweet_coord', 'tweet_created',\n",
              "       'tweet_location', 'user_timezone', 'cleaned_tweet', 'experiment'],\n",
              "      dtype='object')"
            ]
          },
          "metadata": {},
          "execution_count": 72
        }
      ]
    },
    {
      "cell_type": "code",
      "source": [
        "from sklearn.preprocessing import OneHotEncoder"
      ],
      "metadata": {
        "id": "G_C3MHG6Cm22"
      },
      "execution_count": null,
      "outputs": []
    },
    {
      "cell_type": "code",
      "source": [
        "df['airline_sentiment'] = df['airline_sentiment'].astype('category')"
      ],
      "metadata": {
        "id": "5v2-B0adCoGJ"
      },
      "execution_count": null,
      "outputs": []
    },
    {
      "cell_type": "code",
      "source": [
        "df['Air_Sent_new'] = df['airline_sentiment'].cat.codes"
      ],
      "metadata": {
        "id": "CV181xffDUvs"
      },
      "execution_count": null,
      "outputs": []
    },
    {
      "cell_type": "code",
      "source": [
        "enc = OneHotEncoder()"
      ],
      "metadata": {
        "id": "pTl-Vw7TC0pj"
      },
      "execution_count": null,
      "outputs": []
    },
    {
      "cell_type": "code",
      "source": [
        "enc_data = pd.DataFrame(enc.fit_transform(\n",
        "    df[['Air_Sent_new']]).toarray())\n",
        "\n",
        "# Merge with main\n",
        "New_df = df.join(enc_data)\n",
        "\n",
        "print(New_df)"
      ],
      "metadata": {
        "colab": {
          "base_uri": "https://localhost:8080/"
        },
        "id": "II6Rnon3Cw5c",
        "outputId": "a636177f-6b63-453f-ce83-4d7b88f9563a"
      },
      "execution_count": null,
      "outputs": [
        {
          "output_type": "stream",
          "name": "stdout",
          "text": [
            "       tweet_id airline_sentiment  airline_sentiment_confidence  \\\n",
            "0         14445                 1                          1022   \n",
            "1         14400                 2                            47   \n",
            "2         14399                 1                           733   \n",
            "3         14398                 0                          1022   \n",
            "4         14396                 0                          1022   \n",
            "...         ...               ...                           ...   \n",
            "14635      8066                 2                            48   \n",
            "14636      8064                 0                          1022   \n",
            "14637      8063                 1                          1022   \n",
            "14638      8062                 0                          1022   \n",
            "14639      8060                 1                           671   \n",
            "\n",
            "       negativereason  negativereason_confidence  airline  \\\n",
            "0                  10                       1410        5   \n",
            "1                  10                          0        5   \n",
            "2                  10                       1410        5   \n",
            "3                   0                       1295        5   \n",
            "4                   1                       1409        5   \n",
            "...               ...                        ...      ...   \n",
            "14635              10                          0        0   \n",
            "14636               3                       1409        0   \n",
            "14637              10                       1410        0   \n",
            "14638               3                        946        0   \n",
            "14639              10                          0        0   \n",
            "\n",
            "       airline_sentiment_gold  name  negativereason_gold  retweet_count  ...  \\\n",
            "0                           3  4049                   13              0  ...   \n",
            "1                           3  5395                   13              0  ...   \n",
            "2                           3  7678                   13              0  ...   \n",
            "3                           3  5395                   13              0  ...   \n",
            "4                           3  5395                   13              0  ...   \n",
            "...                       ...   ...                  ...            ...  ...   \n",
            "14635                       3  1793                   13              0  ...   \n",
            "14636                       3  5167                   13              0  ...   \n",
            "14637                       3  6878                   13              0  ...   \n",
            "14638                       3  2995                   13              0  ...   \n",
            "14639                       3  4412                   13              0  ...   \n",
            "\n",
            "       tweet_coord  tweet_created  tweet_location  user_timezone  \\\n",
            "0              832          14211            3081             31   \n",
            "1              832          14169            3081             62   \n",
            "2              832          14168            1219             27   \n",
            "3              832          14167            3081             62   \n",
            "4              832          14165            3081             62   \n",
            "...            ...            ...             ...            ...   \n",
            "14635          832           7977            3081             85   \n",
            "14636          832           7975            2324             85   \n",
            "14637          832           7974            1670             85   \n",
            "14638          832           7973            1599             31   \n",
            "14639          832           7971            2719             85   \n",
            "\n",
            "       cleaned_tweet                                         experiment  \\\n",
            "0              10205     [@, VirginAmerica, What, @, dhepburn, said, .]   \n",
            "1              10370  [@, VirginAmerica, plus, 've, added, commercia...   \n",
            "2              10088  [@, VirginAmerica, I, n't, today, ..., Must, m...   \n",
            "3              10322  [@, VirginAmerica, 's, really, aggressive, bla...   \n",
            "4              10234    [@, VirginAmerica, 's, really, big, bad, thing]   \n",
            "...              ...                                                ...   \n",
            "14635           2102  [@, AmericanAir, thank, got, different, flight...   \n",
            "14636           1751  [@, AmericanAir, leaving, 20, minutes, Late, F...   \n",
            "14637            872  [@, AmericanAir, Please, bring, American, Airl...   \n",
            "14638           2507  [@, AmericanAir, money, ,, change, flight, ,, ...   \n",
            "14639           2316  [@, AmericanAir, 8, ppl, need, 2, know, many, ...   \n",
            "\n",
            "      Air_Sent_new    0    1    2  \n",
            "0                1  0.0  1.0  0.0  \n",
            "1                2  0.0  0.0  1.0  \n",
            "2                1  0.0  1.0  0.0  \n",
            "3                0  1.0  0.0  0.0  \n",
            "4                0  1.0  0.0  0.0  \n",
            "...            ...  ...  ...  ...  \n",
            "14635            2  0.0  0.0  1.0  \n",
            "14636            0  1.0  0.0  0.0  \n",
            "14637            1  0.0  1.0  0.0  \n",
            "14638            0  1.0  0.0  0.0  \n",
            "14639            1  0.0  1.0  0.0  \n",
            "\n",
            "[14640 rows x 21 columns]\n"
          ]
        }
      ]
    },
    {
      "cell_type": "code",
      "source": [
        "x_train, x_test, y_train, y_test = train_test_split(X_tf_idf, df['airline_sentiment'], test_size=0.25, random_state=42)"
      ],
      "metadata": {
        "id": "unnQruuv_FdS"
      },
      "execution_count": null,
      "outputs": []
    },
    {
      "cell_type": "code",
      "source": [
        "from sklearn.metrics import classification_report\n",
        "from sklearn.tree import DecisionTreeClassifier"
      ],
      "metadata": {
        "id": "1IrDizPw_dw7"
      },
      "execution_count": null,
      "outputs": []
    },
    {
      "cell_type": "code",
      "source": [
        "#decision tree\n",
        "\n",
        "dt = DecisionTreeClassifier(criterion='entropy',max_depth=100, random_state=42)\n",
        "dtfiting = dt.fit(x_train, y_train)\n",
        "dt.pre = dtfiting.predict(x_test)\n",
        "dt_sc = classification_report(y_test, dt.pre)\n",
        "print(dt_sc)"
      ],
      "metadata": {
        "colab": {
          "base_uri": "https://localhost:8080/"
        },
        "id": "nSfD_Vs6EOW8",
        "outputId": "309f4100-52da-486f-c7df-caf92f790722"
      },
      "execution_count": null,
      "outputs": [
        {
          "output_type": "stream",
          "name": "stdout",
          "text": [
            "              precision    recall  f1-score   support\n",
            "\n",
            "           0       0.80      0.78      0.79      2340\n",
            "           1       0.44      0.47      0.45       738\n",
            "           2       0.52      0.53      0.52       582\n",
            "\n",
            "    accuracy                           0.67      3660\n",
            "   macro avg       0.58      0.59      0.59      3660\n",
            "weighted avg       0.68      0.67      0.68      3660\n",
            "\n"
          ]
        }
      ]
    },
    {
      "cell_type": "code",
      "source": [
        "from sklearn.ensemble import RandomForestClassifier"
      ],
      "metadata": {
        "id": "KlxTFlrHAHZK"
      },
      "execution_count": null,
      "outputs": []
    },
    {
      "cell_type": "code",
      "source": [
        "#randomforest tree\n",
        "\n",
        "rf = RandomForestClassifier(criterion='entropy',max_depth=100, random_state=40)\n",
        "rffiting = dt.fit(x_train, y_train)\n",
        "rf.pre = dtfiting.predict(x_test)\n",
        "rf_sc = classification_report(y_test, rf.pre)\n",
        "print(rf_sc)"
      ],
      "metadata": {
        "colab": {
          "base_uri": "https://localhost:8080/"
        },
        "id": "T2ajfglcBfRo",
        "outputId": "f64f4adb-3dc6-43d2-cb7d-115291773bc8"
      },
      "execution_count": null,
      "outputs": [
        {
          "output_type": "stream",
          "name": "stdout",
          "text": [
            "              precision    recall  f1-score   support\n",
            "\n",
            "           0       0.80      0.78      0.79      2340\n",
            "           1       0.44      0.47      0.45       738\n",
            "           2       0.52      0.53      0.52       582\n",
            "\n",
            "    accuracy                           0.67      3660\n",
            "   macro avg       0.58      0.59      0.59      3660\n",
            "weighted avg       0.68      0.67      0.68      3660\n",
            "\n"
          ]
        }
      ]
    },
    {
      "cell_type": "code",
      "source": [
        "from sklearn.linear_model import LogisticRegression"
      ],
      "metadata": {
        "id": "ivUH5WQJEamX"
      },
      "execution_count": null,
      "outputs": []
    },
    {
      "cell_type": "code",
      "source": [
        "#logisrtic regression classifier\n",
        "\n",
        "lg = LogisticRegression(random_state=40)\n",
        "lgfiting = lg.fit(x_train, y_train,)\n",
        "lg_pre = lgfiting.predict(x_test,)\n",
        "lg_sc = classification_report(y_test, lg_pre)\n",
        "print(lg_sc)"
      ],
      "metadata": {
        "colab": {
          "base_uri": "https://localhost:8080/"
        },
        "id": "9AwgaHlrFmGA",
        "outputId": "b50c764c-df7d-40f7-8bf4-a687e62dba58"
      },
      "execution_count": null,
      "outputs": [
        {
          "output_type": "stream",
          "name": "stdout",
          "text": [
            "              precision    recall  f1-score   support\n",
            "\n",
            "           0       0.83      0.94      0.88      2340\n",
            "           1       0.68      0.54      0.60       738\n",
            "           2       0.83      0.59      0.69       582\n",
            "\n",
            "    accuracy                           0.80      3660\n",
            "   macro avg       0.78      0.69      0.72      3660\n",
            "weighted avg       0.80      0.80      0.79      3660\n",
            "\n"
          ]
        },
        {
          "output_type": "stream",
          "name": "stderr",
          "text": [
            "/usr/local/lib/python3.10/dist-packages/sklearn/linear_model/_logistic.py:458: ConvergenceWarning: lbfgs failed to converge (status=1):\n",
            "STOP: TOTAL NO. of ITERATIONS REACHED LIMIT.\n",
            "\n",
            "Increase the number of iterations (max_iter) or scale the data as shown in:\n",
            "    https://scikit-learn.org/stable/modules/preprocessing.html\n",
            "Please also refer to the documentation for alternative solver options:\n",
            "    https://scikit-learn.org/stable/modules/linear_model.html#logistic-regression\n",
            "  n_iter_i = _check_optimize_result(\n"
          ]
        }
      ]
    },
    {
      "cell_type": "code",
      "source": [],
      "metadata": {
        "id": "1hN204x4K9z5"
      },
      "execution_count": null,
      "outputs": []
    },
    {
      "cell_type": "code",
      "source": [
        "x=(df.iloc[:, [1,5]])\n",
        "print(x)"
      ],
      "metadata": {
        "colab": {
          "base_uri": "https://localhost:8080/"
        },
        "id": "kLKy-G6dKJhH",
        "outputId": "5a03ffd2-d243-41af-a5e5-63a5db0e225a"
      },
      "execution_count": null,
      "outputs": [
        {
          "output_type": "stream",
          "name": "stdout",
          "text": [
            "      airline_sentiment  airline\n",
            "0                     1        5\n",
            "1                     2        5\n",
            "2                     1        5\n",
            "3                     0        5\n",
            "4                     0        5\n",
            "...                 ...      ...\n",
            "14635                 2        0\n",
            "14636                 0        0\n",
            "14637                 1        0\n",
            "14638                 0        0\n",
            "14639                 1        0\n",
            "\n",
            "[14640 rows x 2 columns]\n"
          ]
        }
      ]
    },
    {
      "cell_type": "code",
      "source": [
        "# Converting the dataframe into lists\n",
        "texts = df[\"text\"].tolist()\n",
        "labels = df[\"cleaned_tweet\"].tolist()"
      ],
      "metadata": {
        "id": "-kLjBTc4OmQL"
      },
      "execution_count": null,
      "outputs": []
    },
    {
      "cell_type": "code",
      "source": [
        "print(labels)"
      ],
      "metadata": {
        "colab": {
          "base_uri": "https://localhost:8080/"
        },
        "id": "tsa6UlYuPe9t",
        "outputId": "c83fc4a4-07ea-492e-9d9d-86bd0a3c1e60"
      },
      "execution_count": null,
      "outputs": [
        {
          "output_type": "stream",
          "name": "stdout",
          "text": [
            "[10205, 10370, 10088, 10322, 10234, 10381, 10457, 10172, 14376, 10320, 10265, 10105, 10193, 10430, 10183, 10174, 10178, 10010, 2609, 10466, 10445, 10102, 10101, 10451, 10461, 10393, 10206, 10267, 10232, 10149, 10298, 10030, 10296, 10243, 10417, 4673, 10156, 10276, 10442, 10221, 10200, 10072, 10371, 10093, 10240, 10129, 10007, 10455, 10330, 10331, 10136, 10333, 10453, 10332, 10212, 10301, 10465, 10328, 10327, 10159, 10334, 10084, 10335, 10150, 10329, 10059, 10297, 10075, 10050, 10271, 14374, 10091, 10299, 10472, 10356, 10244, 10167, 10274, 10437, 10435, 10447, 10141, 10480, 10095, 10319, 10130, 10046, 10170, 10104, 10211, 10214, 10300, 10098, 10324, 10448, 10137, 10086, 10011, 14377, 10308, 10425, 10449, 10255, 14380, 10476, 10014, 10248, 10477, 10121, 10292, 10291, 10289, 10290, 10070, 10257, 10385, 10314, 10233, 10473, 10153, 10197, 10026, 10099, 10410, 10463, 10055, 10306, 10258, 10077, 10309, 10458, 10058, 10288, 10047, 10027, 10110, 14386, 10375, 10231, 10446, 10219, 10246, 10044, 10369, 10462, 10112, 10373, 27, 14379, 10089, 10269, 10316, 10399, 10318, 10006, 10135, 10348, 10294, 10078, 10113, 10280, 10364, 14385, 10315, 10012, 10128, 10168, 10138, 10242, 10422, 10038, 10152, 10420, 10259, 10009, 10124, 10182, 10020, 10382, 10180, 10252, 10424, 10061, 12, 10166, 10125, 10225, 10016, 10071, 10470, 10481, 10427, 10469, 10401, 10144, 10039, 10426, 10216, 10468, 10103, 10223, 10270, 10353, 10260, 10148, 10350, 10185, 10251, 10189, 10379, 10275, 10444, 10429, 10215, 10253, 10363, 10475, 10120, 10443, 10087, 10285, 10123, 10441, 10452, 10017, 10321, 10302, 10151, 10177, 10217, 2563, 10408, 10195, 10414, 10198, 10131, 10207, 10317, 10286, 10390, 10239, 14383, 10413, 10204, 10256, 10073, 10188, 10407, 10338, 10019, 10261, 10341, 10400, 10127, 10184, 10245, 10238, 10037, 10479, 10376, 10067, 10194, 10456, 10415, 10403, 10024, 10040, 10383, 10022, 10115, 10432, 10464, 10474, 10263, 10347, 10384, 10272, 10433, 16, 10439, 10230, 10181, 10139, 10118, 10111, 10157, 10416, 10202, 10305, 10389, 10438, 10372, 10064, 10454, 10173, 10083, 10226, 10278, 10134, 10434, 10342, 10054, 10366, 10340, 10336, 10191, 10074, 10107, 10287, 10312, 10343, 10192, 10247, 10397, 14373, 10241, 14384, 10254, 10249, 14381, 14369, 10203, 10227, 10076, 10175, 10344, 10368, 10295, 10387, 10352, 10053, 10183, 10404, 10187, 10114, 10146, 10155, 10160, 10029, 10311, 10201, 10079, 10122, 10060, 10428, 10391, 10176, 10273, 10380, 10140, 14382, 10005, 10421, 10116, 10081, 10436, 14371, 10365, 10325, 10339, 10307, 2571, 10358, 10359, 14372, 10056, 10092, 10361, 10362, 10282, 10471, 10264, 10262, 10021, 10147, 10008, 10048, 10097, 10063, 10145, 10028, 10277, 10109, 10117, 10284, 10412, 10042, 10224, 10035, 10034, 10036, 10360, 10222, 10440, 10132, 10396, 10043, 10279, 10085, 10082, 10126, 10405, 10235, 10171, 10418, 10467, 10283, 10057, 10179, 10478, 10218, 10229, 10281, 10354, 10165, 10065, 10395, 10304, 10220, 10208, 10310, 10106, 10398, 10236, 10228, 10377, 10015, 10293, 10162, 10013, 10163, 10423, 10161, 10326, 10199, 10419, 10411, 14378, 10108, 10337, 10018, 10250, 10367, 10049, 10119, 10025, 10158, 10069, 10023, 10186, 10094, 10080, 10268, 10190, 10133, 10357, 10378, 10210, 10142, 10143, 10313, 10169, 10213, 10237, 4672, 10100, 10090, 10406, 10266, 10154, 10409, 10066, 10096, 10459, 10164, 10051, 10031, 10450, 10303, 10392, 10355, 10209, 10052, 10386, 10068, 10033, 10196, 14375, 10388, 14370, 10460, 10402, 10045, 10374, 10345, 10349, 10351, 10032, 10323, 10346, 10394, 10431, 10062, 10041, 13614, 11949, 13541, 11039, 13618, 12196, 12591, 14226, 11447, 11139, 12663, 13614, 11934, 14046, 12923, 10999, 11277, 12668, 13169, 12865, 11665, 14102, 12783, 13026, 14119, 12385, 9983, 11052, 12305, 13712, 11296, 11376, 11240, 11427, 10998, 11854, 14045, 11743, 14133, 11204, 12270, 14144, 13709, 11160, 11241, 12832, 12854, 11669, 10740, 12044, 10876, 13759, 13633, 9990, 10896, 11748, 10875, 12108, 11917, 13426, 10700, 11402, 13013, 9879, 11855, 11746, 14190, 10857, 13301, 12209, 11496, 12877, 10985, 14240, 11295, 13321, 13876, 13804, 14067, 12694, 12345, 13234, 11779, 13105, 12315, 10835, 13741, 11358, 13471, 12102, 13949, 14021, 13773, 11717, 12676, 11622, 13810, 13578, 12549, 11156, 13991, 11444, 14083, 12531, 9920, 14084, 12500, 12149, 13664, 10894, 13284, 11903, 10951, 12931, 12545, 13857, 12951, 13274, 12561, 12103, 12809, 11864, 11400, 13472, 11828, 12388, 10804, 11306, 12412, 10969, 12004, 11095, 11627, 13322, 11079, 11770, 12959, 13344, 11248, 13978, 11408, 10869, 12155, 14091, 12414, 11498, 13511, 11009, 14134, 14201, 10799, 11868, 11268, 11367, 12435, 13220, 11641, 13882, 11019, 13374, 13929, 12483, 12790, 14097, 10780, 11064, 13680, 11566, 11591, 12339, 11569, 12813, 11997, 11870, 11590, 7088, 12743, 12402, 11700, 12476, 13456, 10954, 12151, 13805, 12118, 13272, 13033, 10881, 12899, 13088, 9942, 12314, 13818, 11312, 12534, 11078, 12763, 12539, 13493, 12221, 12219, 11788, 11637, 13366, 11948, 11919, 12510, 13572, 12948, 12735, 12827, 11011, 13581, 12998, 11675, 10919, 12485, 11035, 13687, 13801, 13217, 13028, 12366, 13629, 12679, 11629, 11950, 10661, 11507, 12860, 13485, 14164, 11809, 10595, 13165, 12000, 13281, 11974, 11411, 13632, 10967, 11710, 14124, 13972, 11416, 13368, 14163, 10820, 11975, 14105, 11428, 13283, 12246, 11958, 13919, 12982, 11034, 12355, 10830, 2604, 11694, 13743, 13863, 11031, 13979, 12709, 11021, 14094, 11528, 12648, 13711, 10966, 11695, 12160, 11556, 11603, 11122, 14228, 12907, 13453, 13079, 13922, 12238, 11807, 11418, 14049, 13835, 12439, 13951, 12674, 12848, 12233, 12175, 12984, 13937, 13085, 11518, 12657, 13567, 12390, 12085, 11732, 14188, 9902, 11822, 13383, 12206, 13640, 12018, 11346, 12237, 11006, 11767, 12159, 9929, 10671, 12128, 14128, 14005, 11679, 12737, 14106, 12043, 11112, 13056, 10890, 10909, 12034, 10908, 11703, 13227, 11951, 11401, 13872, 13894, 10845, 11600, 12487, 11875, 11899, 10973, 11630, 11247, 11968, 12011, 10752, 12039, 13566, 13072, 13401, 12532, 12830, 13721, 12460, 12482, 11137, 13932, 12023, 10948, 11410, 11731, 12766, 12903, 13576, 2585, 4670, 11285, 11058, 11161, 13104, 14066, 11051, 13686, 11960, 10808, 11839, 13051, 12441, 11370, 9952, 12470, 10506, 12467, 10981, 13816, 11991, 12840, 12360, 13987, 9914, 14008, 13943, 11154, 12816, 12548, 11706, 10923, 10691, 13035, 11084, 4652, 12732, 9978, 12272, 13584, 10722, 9971, 13746, 14247, 13364, 11872, 13406, 11916, 12397, 10892, 12579, 12306, 12540, 13441, 12638, 11969, 13986, 13592, 13549, 11510, 13312, 12503, 11317, 11237, 11911, 13690, 11440, 14253, 9969, 6012, 11080, 11462, 13701, 11640, 12506, 9945, 12739, 13466, 11657, 11903, 12107, 11725, 14121, 14130, 11698, 12411, 11292, 13744, 12842, 13386, 13605, 12853, 11391, 11274, 13783, 9995, 12249, 14152, 12533, 13622, 13256, 14167, 12926, 13515, 11831, 11495, 11492, 12612, 11453, 13734, 11588, 11430, 9946, 14160, 12804, 12262, 13302, 13390, 10933, 12565, 11907, 12729, 11070, 10717, 11762, 13576, 12418, 11598, 13689, 12755, 11827, 12803, 12425, 12846, 10925, 11626, 12780, 11655, 13126, 12053, 11836, 11061, 7070, 11604, 11227, 13646, 9918, 11909, 10993, 11970, 9934, 13271, 10950, 11487, 12404, 12088, 13332, 12747, 10929, 12898, 11585, 11125, 11121, 13806, 11785, 11765, 7079, 12619, 13623, 10788, 11162, 12006, 10995, 12639, 11766, 13946, 12987, 13164, 11826, 11786, 11473, 13392, 13696, 11270, 11760, 10865, 13998, 11524, 11111, 11480, 10837, 2594, 2573, 11046, 11793, 14122, 12358, 13575, 12571, 12141, 11493, 12566, 13061, 11933, 13794, 9984, 10784, 9972, 11482, 9944, 13278, 11261, 12705, 13475, 11036, 12147, 10664, 12718, 12498, 7082, 11103, 13587, 14033, 12949, 13699, 13967, 13602, 13953, 13179, 12036, 12683, 12600, 12389, 12929, 11150, 14088, 11628, 13209, 11784, 11645, 11173, 11913, 12991, 9913, 11644, 11663, 12264, 11646, 11200, 13760, 12620, 10689, 13856, 14274, 13961, 13706, 13700, 10688, 12365, 9933, 13868, 11193, 11076, 13414, 14234, 12294, 11201, 10935, 11601, 12589, 12382, 10657, 13039, 13307, 12087, 13464, 11631, 12364, 12216, 13518, 11791, 13612, 12689, 11523, 10990, 11776, 10937, 10930, 10778, 10891, 9951, 12936, 10719, 12961, 12677, 14087, 13821, 13914, 12876, 10812, 12344, 13576, 11954, 12301, 11304, 13250, 11158, 12052, 13005, 13897, 13065, 13479, 12049, 12263, 13403, 11054, 12667, 12293, 11972, 13113, 11155, 13565, 13832, 10699, 12127, 11398, 12847, 14224, 14168, 13436, 11643, 10824, 13358, 11611, 11823, 10879, 13542, 10831, 13468, 11989, 11862, 11724, 13112, 11926, 10861, 12924, 11242, 11302, 11678, 13192, 13329, 12384, 13145, 13521, 13429, 12585, 12356, 13665, 9986, 10805, 11186, 12432, 12026, 9989, 9988, 12740, 11924, 11109, 10949, 14070, 13075, 12835, 12632, 13496, 11683, 12357, 11212, 11946, 11508, 14151, 12957, 11688, 14180, 12081, 12614, 13850, 12794, 11215, 12179, 11013, 14123, 11327, 12623, 13982, 11579, 11008, 11639, 9888, 9903, 12346, 12708, 12522, 11757, 12504, 11448, 12271, 13027, 11774, 12065, 9953, 13776, 11576, 14052, 10988, 12188, 12586, 11025, 11553, 13352, 11705, 12784, 12724, 12066, 9925, 12686, 13216, 13900, 13866, 11388, 14275, 13480, 14211, 12292, 11859, 14214, 7092, 13149, 12074, 13807, 12289, 10724, 11930, 13938, 12317, 10914, 13193, 12744, 11307, 12133, 11880, 11336, 10674, 13022, 14029, 13881, 12285, 12775, 12283, 10668, 10920, 11073, 10987, 12471, 12645, 13516, 11057, 13055, 13673, 11709, 12374, 11502, 13795, 13391, 14132, 11233, 12779, 11097, 11720, 13360, 13724, 12967, 13899, 12671, 13749, 14166, 10670, 11565, 11250, 10669, 11003, 11775, 13294, 12448, 12217, 13985, 11041, 13226, 2566, 14199, 12335, 11714, 14231, 9979, 12161, 11602, 12229, 12562, 10832, 11243, 12014, 11608, 11803, 13717, 11455, 11848, 13718, 12268, 14252, 11456, 12226, 12475, 13977, 10883, 11224, 13641, 12002, 11530, 11632, 14036, 12024, 11799, 11816, 9908, 10797, 12391, 11771, 13089, 11353, 12590, 11558, 11763, 12114, 14271, 10707, 12177, 13890, 12142, 14060, 14169, 12559, 10922, 13851, 12904, 12511, 13891, 13074, 13834, 12960, 12304, 12481, 14155, 13840, 11352, 13385, 11202, 14109, 11106, 12841, 10877, 11377, 13402, 12031, 12577, 12027, 12490, 12624, 14080, 12515, 12954, 14057, 12407, 14104, 12484, 11316, 13952, 14095, 12505, 11445, 14266, 10672, 12933, 13762, 12767, 14219, 12867, 13726, 12756, 12410, 12983, 11857, 11170, 12952, 13397, 14283, 12123, 11691, 11264, 11956, 13576, 13707, 10684, 12126, 12247, 11269, 12124, 12834, 12064, 11479, 11704, 13813, 11938, 12195, 9885, 11102, 9966, 12207, 13955, 9939, 13962, 12599, 9967, 11414, 9963, 13889, 12437, 12130, 10982, 11449, 12092, 12369, 14051, 13288, 13230, 12916, 14043, 12083, 13481, 13286, 13569, 12409, 11281, 12543, 12186, 13413, 11583, 14204, 11605, 13491, 13927, 11996, 13057, 14101, 11091, 12117, 13361, 12116, 12400, 14256, 12710, 9917, 10809, 11075, 11392, 11578, 9961, 12845, 13295, 12326, 10926, 11849, 12512, 11647, 13551, 10738, 11713, 13045, 13512, 12275, 12919, 13789, 11048, 11450, 11390, 11459, 12428, 14177, 12041, 12927, 13097, 12523, 11168, 12297, 12296, 11343, 13101, 12028, 13647, 13597, 9896, 12906, 14038, 11527, 12646, 9935, 13895, 9931, 12029, 11287, 11195, 11279, 13191, 10970, 13778, 14034, 12797, 12881, 12908, 13959, 11206, 13769, 11671, 14086, 13923, 13764, 11677, 11042, 12621, 12602, 13482, 13679, 12257, 11143, 11741, 10763, 12426, 14192, 12050, 13450, 13675, 12415, 13974, 12380, 14142, 13420, 13419, 13421, 11432, 11840, 10704, 13930, 11071, 11837, 14158, 13688, 12302, 14197, 13076, 14156, 12513, 10732, 12996, 11814, 13716, 11219, 11802, 13248, 12148, 13212, 13244, 13062, 13454, 17, 14251, 11830, 13995, 13199, 12596, 13503, 10864, 11540, 12080, 13243, 9949, 12955, 10829, 11446, 14108, 13255, 13378, 12610, 14185, 13677, 14026, 11902, 14181, 10685, 14081, 13874, 13950, 12752, 14242, 10880, 13215, 13745, 13124, 13544, 13737, 13282, 12727, 11521, 13127, 11426, 14178, 11977, 12642, 10843, 12896, 10678, 13637, 11283, 11349, 13070, 12849, 13722, 13416, 13534, 13448, 13452, 13956, 13725, 11685, 11333, 13318, 12917, 11340, 12859, 12921, 12641, 11422, 14100, 11536, 12287, 14281, 12757, 13086, 13293, 14280, 13625, 13811, 13505, 11512, 10665, 13387, 11251, 9878, 9954, 11787, 12008, 13083, 11037, 13554, 9909, 13367, 12236, 13469, 13867, 11543, 12330, 9886, 11476, 13763, 9924, 12200, 9957, 13601, 12444, 12636, 13643, 13489, 13102, 10718, 13131, 14207, 13797, 12738, 11341, 12716, 13845, 14127, 9975, 11056, 11621, 13657, 12878, 11690, 14279, 12190, 11288, 12070, 12095, 10749, 11383, 13412, 13052, 10658, 10906, 13860, 10971, 12071, 10928, 13595, 14186, 13728, 10735, 11959, 10694, 13190, 10744, 12964, 12210, 12180, 9974, 12897, 13173, 11225, 11546, 10956, 11737, 13109, 9970, 4689, 11944, 13497, 14263, 12423, 11573, 12473, 12786, 13935, 11258, 12527, 12517, 11452, 10751, 13624, 11721, 11986, 12106, 14235, 13152, 12009, 13837, 12462, 11047, 12630, 13925, 12544, 9994, 10886, 11249, 10662, 14055, 13389, 11183, 12563, 12781, 13507, 12915, 13172, 13504, 13912, 11983, 12001, 13458, 12279, 13777, 13024, 13993, 13393, 11606, 12406, 11500, 12956, 12695, 13298, 13576, 12609, 13365, 12239, 13225, 12440, 10844, 13228, 12977, 13000, 13661, 10686, 13197, 11892, 14013, 13486, 13264, 12606, 13365, 13044, 11419, 12580, 14176, 10677, 10817, 14187, 13731, 11027, 14068, 13848, 11620, 12350, 13040, 13779, 14222, 12457, 12445, 12319, 11808, 12165, 14218, 12795, 13432, 11617, 9947, 12888, 11820, 11271, 11806, 11533, 10846, 12893, 11516, 12486, 11126, 11028, 11745, 14028, 11100, 13418, 13849, 11040, 14249, 11326, 13644, 11509, 10764, 13598, 13735, 14183, 14064, 13107, 13775, 12228, 13576, 11284, 12442, 10716, 13067, 13774, 12333, 14040, 12685, 12975, 13382, 10004, 12868, 10938, 10728, 10789, 12529, 11525, 12076, 11922, 9897, 9992, 14050, 11169, 11331, 11330, 11511, 11239, 14237, 13247, 13009, 13576, 10991, 12541, 10758, 13921, 12937, 12684, 11144, 13166, 14229, 11513, 11218, 12622, 13887, 13196, 13477, 13325, 11796, 11506, 12762, 11976, 11359, 14257, 14216, 11927, 10904, 13069, 10872, 12452, 13596, 12096, 14053, 12615, 11059, 11442, 11574, 13246, 11914, 14154, 11928, 13280, 11004, 11852, 12905, 12889, 12939, 11722, 13304, 12654, 13096, 13559, 10792, 13540, 12341, 14153, 13473, 13142, 13513, 12942, 10731, 4717, 14195, 14004, 11366, 14227, 11999, 13662, 12772, 13186, 11030, 13645, 13265, 11708, 7077, 14203, 14248, 12979, 13258, 12007, 14276, 11514, 12299, 12918, 10781, 12220, 13161, 12359, 13653, 14267, 14174, 13994, 12284, 11257, 13154, 10759, 12227, 14006, 13920, 12258, 13440, 14039, 11686, 11314, 12633, 11967, 14261, 11519, 13705, 11664, 12572, 12381, 13176, 14170, 11548, 11221, 13514, 11716, 12733, 13917, 13372, 12728, 10975, 13108, 13058, 13589, 10947, 14078, 10727, 13060, 9884, 11817, 11127, 11818, 11887, 10802, 10790, 10798, 11594, 13438, 10801, 12152, 14150, 12862, 12799, 12999, 12720, 11230, 12962, 13219, 13002, 13132, 11483, 11559, 11350, 13557, 12851, 13430, 12649, 10818, 12489, 11405, 12090, 11407, 10893, 12553, 9928, 11320, 9895, 13287, 11406, 10855, 13736, 13727, 13478, 13931, 11586, 13948, 11063, 14015, 13954, 13349, 14116, 13831, 12750, 13319, 14241, 13223, 12340, 12131, 13168, 12450, 13495, 12736, 12900, 13996, 11599, 11772, 12634, 14041, 12398, 10888, 12650, 12396, 12968, 12721, 11522, 13373, 12420, 11851, 11723, 11044, 10815, 11896, 11781, 12112, 12153, 13348, 12020, 13966, 9881, 14035, 12199, 13989, 11815, 12250, 13960, 14273, 12953, 10921, 10859, 11072, 11205, 12976, 13846, 14023, 13213, 11955, 13106, 12303, 12788, 11211, 13732, 10783, 12922, 13545, 13671, 14282, 11335, 12281, 12516, 12327, 12886, 10887, 12672, 13865, 13363, 14243, 11413, 12086, 13582, 12496, 11615, 10912, 14277, 11684, 12552, 12932, 11761, 11877, 12158, 13023, 10852, 11794, 10980, 13934, 11130, 13906, 12789, 12754, 11470, 11469, 11114, 10839, 12488, 13600, 12806, 4702, 10774, 11478, 13148, 13823, 14016, 12935, 10760, 12611, 13704, 12576, 11141, 14217, 13558, 11260, 12902, 11110, 14009, 13617, 13380, 11752, 12089, 14120, 10996, 11404, 12203, 11531, 10889, 12172, 11117, 13614, 12770, 13435, 13449, 13111, 12046, 14198, 11973, 10873, 11362, 10705, 11166, 14196, 13411, 13121, 12581, 12430, 12965, 11670, 10946, 10794, 12874, 13853, 9932, 10723, 10870, 13012, 12682, 13090, 12701, 13854, 12267, 12753, 13483, 12820, 13177, 12419, 12259, 13200, 13182, 13739, 13800, 12348, 12422, 13685, 14113, 13594, 13905, 13207, 13984, 11886, 12129, 13346, 11821, 12734, 10701, 12416, 11213, 14098, 13342, 4713, 11188, 11755, 12322, 13130, 12912, 13781, 13231, 14017, 11297, 13751, 12793, 11846, 11841, 13275, 12717, 13755, 13427, 11871, 13241, 12746, 11758, 10910, 11385, 12651, 11342, 11184, 11699, 12193, 12478, 13474, 12761, 11834, 12493, 13697, 11344, 12644, 11562, 12194, 13916, 13668, 12334, 11190, 13608, 13138, 10828, 12758, 13603, 12465, 13211, 13553, 11539, 13210, 14099, 13842, 10777, 11931, 10878, 13574, 14024, 9968, 12909, 11465, 11016, 12260, 13939, 11552, 11486, 12582, 10965, 11993, 12145, 12144, 13433, 12656, 11484, 11661, 12288, 13140, 11128, 12691, 9910, 11429, 12202, 12433, 14135, 11504, 13902, 11165, 11149, 11564, 12045, 12091, 11460, 11581, 11351, 13410, 13048, 12019, 12934, 12514, 12715, 4667, 12882, 12274, 10897, 10771, 12408, 13395, 13443, 11575, 13791, 12164, 12989, 13990, 11018, 12454, 13604, 12156, 12120, 9948, 11159, 13175, 12372, 12013, 13826, 13300, 11082, 12387, 11466, 13291, 10548, 14268, 12822, 12077, 10726, 11303, 13268, 13285, 9937, 12508, 11595, 14265, 9965, 13398, 11234, 13323, 12075, 12368, 13988, 13970, 13118, 11094, 10863, 12373, 13068, 9977, 14182, 12062, 12324, 13016, 12241, 12547, 13263, 10811, 11417, 13573, 11181, 11728, 11467, 10860, 11550, 13577, 12872, 14255, 10659, 12785, 10773, 12751, 14233, 12137, 13933, 10770, 14012, 13394, 11682, 14061, 13292, 12557, 11096, 12833, 12499, 11245, 11619, 9981, 11216, 12707, 13151, 12170, 12890, 12974, 13049, 10885, 12914, 13377, 12354, 13536, 13455, 13240, 11282, 10683, 2605, 13123, 14284, 10696, 12265, 13852, 12022, 13907, 11129, 14140, 13174, 13289, 13326, 14139, 10737, 12367, 12519, 11380, 12520, 11464, 11994, 10757, 13273, 12617, 13162, 11347, 10703, 11541, 11309, 13498, 11534, 14260, 11438, 11856, 10962, 9996, 11797, 9894, 12171, 12687, 13695, 13884, 13188, 10903, 11964, 13879, 11998, 11847, 13043, 13167, 11783, 13195, 12825, 11322, 13561, 14206, 11022, 13815, 11850, 11884, 10960, 11906, 12861, 12944, 12973, 13844, 11756, 11893, 14090, 12363, 14213, 12242, 14092, 14220, 13224, 13030, 9950, 9982, 13110, 13571, 13752, 13046, 11597, 12042, 13153, 13997, 14003, 12352, 11889, 11925, 12240, 13576, 14001, 11471, 11345, 13836, 14171, 12812, 12138, 13980, 9887, 11412, 11232, 11381, 13314, 11624, 11985, 11947, 12613, 11151, 11692, 12817, 13122, 11338, 12748, 10941, 13328, 10953, 12892, 14272, 10750, 13843, 12183, 11881, 14215, 12824, 11197, 2616, 11067, 11545, 13583, 10496, 12166, 14191, 13150, 13442, 10957, 12232, 12295, 11321, 13593, 12704, 13036, 11707, 11378, 13871, 11529, 12162, 13233, 13607, 11196, 12980, 11308, 11329, 11356, 14125, 12700, 13465, 13080, 12383, 14225, 9936, 12282, 11029, 12197, 2603, 11901, 12869, 11032, 11897, 18, 11167, 10712, 11966, 14058, 12556, 14159, 11439, 13239, 12321, 14208, 13232, 10785, 11280, 12168, 9919, 12178, 11689, 13606, 11138, 11396, 14236, 14062, 11838, 12125, 12502, 12913, 11354, 11433, 13424, 12261, 9943, 10902, 11066, 13020, 11485, 12680, 10793, 10734, 12883, 10736, 10849, 12254, 13780, 12167, 10945, 14072, 12946, 11081, 13362, 11687, 11365, 12791, 11778, 12105, 12269, 12526, 12347, 10992, 9911, 12570, 12225, 13506, 10741, 9980, 12349, 10834, 13158, 11592, 12819, 14162, 14210, 13313, 11905, 11088, 11368, 10940, 12353, 13315, 13909, 11697, 13859, 13650, 9999, 12393, 11633, 11773, 14112, 11563, 14019, 14020, 13799, 13218, 12518, 11898, 13786, 12550, 12857, 13784, 12990, 14065, 11900, 9901, 13143, 13638, 13019, 11263, 11020, 11403, 11764, 12370, 12597, 13742, 14129, 13580, 11792, 11246, 13098, 13611, 10916, 11185, 11526, 13446, 13354, 13656, 13334, 11971, 11123, 11701, 14244, 13642, 13092, 12025, 13614, 12059, 11749, 13032, 13407, 11652, 11437, 11798, 11962, 12040, 14114, 12399, 11878, 14079, 14030, 11693, 12332, 14048, 12768, 13748, 13525, 12491, 12230, 11255, 13476, 13957, 11115, 10927, 9892, 12223, 2577, 11926, 13654, 12115, 12336, 11374, 12943, 7071, 10816, 11375, 14047, 13649, 11055, 11560, 11299, 12479, 10942, 13628, 11651, 12184, 11923, 14069, 11105, 11252, 11434, 13260, 13942, 11982, 14262, 13738, 11568, 12243, 12678, 13710, 11045, 11021, 12818, 11259, 13847, 13796, 12395, 10836, 11801, 12618, 13163, 13692, 13253, 13492, 11339, 11572, 11023, 12528, 12211, 13858, 11584, 12051, 14059, 11468, 13610, 11369, 10769, 12466, 12628, 13073, 12140, 14141, 10963, 11676, 13310, 13343, 13081, 11332, 13904, 13802, 10733, 13011, 11348, 12509, 12530, 11086, 13222, 11053, 14126, 13963, 9997, 10934, 11131, 11488, 12501, 13691, 12351, 11038, 13873, 12143, 13238, 14246, 12565, 13359, 12524, 14093, 13021, 13719, 13639, 11148, 11616, 13155, 12706, 11759, 13678, 13330, 11936, 12894, 10706, 12139, 11386, 12829, 12497, 13202, 12616, 10943, 11952, 13201, 12702, 12928, 12722, 13178, 10884, 13830, 11273, 13120, 10840, 12583, 11179, 11883, 12113, 12069, 10806, 11387, 11607, 13670, 13490, 11596, 13316, 13439, 13992, 12135, 11824, 13803, 14103, 11175, 12643, 12134, 12575, 11625, 11730, 12887, 11389, 12690, 12218, 12880, 11399, 9987, 9941, 14075, 13180, 9960, 12474, 12276, 12012, 12569, 11098, 12546, 13018, 11083, 12436, 11108, 11310, 13833, 12449, 11557, 9993, 12831, 12362, 12653, 10729, 13050, 12662, 14239, 13971, 13875, 10800, 12122, 13756, 11863, 9973, 7078, 10692, 12711, 12796, 7067, 13820, 12945, 13771, 11537, 12777, 10779, 12742, 12985, 12222, 13729, 10917, 12970, 13308, 13537, 12266, 12730, 13621, 12235, 10918, 14387, 11941, 7084, 12253, 13609, 13087, 14259, 12837, 12021, 11291, 12759, 11118, 11238, 4701, 11842, 13422, 13936, 13616, 12214, 9927, 12386, 13345, 14184, 13802, 11435, 10913, 11501, 12068, 11431, 10673, 13684, 12773, 10743, 12765, 13139, 10693, 11318, 10901, 10791, 13975, 11589, 13400, 11505, 9921, 10680, 13862, 10944, 13006, 13160, 11891, 10796, 13463, 10767, 12958, 13658, 10989, 13740, 12169, 13681, 10666, 12328, 13964, 11582, 11278, 12941, 9955, 13229, 13880, 11451, 12603, 12434, 13768, 12098, 11382, 13447, 12394, 13694, 13555, 13405, 12981, 13034, 12551, 11477, 12584, 12231, 12405, 11203, 12446, 11187, 13626, 13015, 12938, 13183, 10842, 10841, 12072, 13886, 11782, 12067, 11567, 14205, 13340, 13500, 14250, 11674, 10850, 13550, 12403, 13824, 11520, 11681, 12313, 10984, 13134, 10807, 13793, 11069, 12063, 13007, 13445, 13004, 11740, 12375, 10709, 12378, 12627, 13467, 13324, 9964, 13470, 13660, 10958, 10905, 14074, 9912, 11555, 11157, 10847, 11843, 12875, 11696, 13303, 11235, 10833, 12800, 12712, 13245, 13059, 13669, 11494, 13082, 11207, 13674, 10911, 14149, 13543, 13663, 13053, 12286, 13901, 13973, 12652, 12201, 13317, 13119, 12097, 13221, 12451, 11542, 10702, 12461, 11089, 12342, 14085, 11918, 11874, 13457, 12725, 10983, 11222, 13839, 13928, 14194, 11795, 12310, 11481, 13619, 11024, 13008, 13276, 11865, 14238, 11719, 13333, 12469, 13484, 14077, 14054, 12417, 14032, 10679, 14076, 13063, 11065, 11236, 11658, 11361, 12427, 13029, 12741, 10675, 12182, 11497, 13648, 11735, 11300, 11324, 11001, 12884, 12852, 12810, 13715, 12093, 13502, 9883, 11903, 13336, 13546, 13451, 13031, 11145, 9898, 13341, 12079, 11844, 10782, 13698, 10932, 11570, 12814, 13585, 13376, 13381, 12978, 13355, 13754, 13146, 13825, 10955, 13838, 11409, 13311, 12731, 12331, 9940, 11499, 12828, 10882, 13306, 10862, 12811, 12110, 12637, 11662, 11702, 11182, 9938, 13911, 11420, 11739, 11026, 13185, 13548, 13208, 14264, 14179, 11549, 13501, 11325, 12588, 12592, 10994, 13171, 14232, 13814, 9882, 11315, 10754, 11915, 13693, 11033, 13261, 13338, 11461, 12208, 11007, 11547, 10687, 13864, 12658, 12157, 13337, 12245, 11995, 13141, 11384, 14245, 14212, 10976, 14018, 13095, 10895, 11990, 13335, 11305, 11113, 10682, 13144, 11323, 11301, 14146, 11653, 11866, 10819, 13958, 11810, 11804, 11867, 12640, 13396, 12855, 11421, 11360, 12447, 11124, 12901, 11963, 12745, 11395, 11668, 13720, 11272, 11571, 13730, 12191, 11394, 11364, 12325, 14007, 14031, 11535, 11638, 13094, 13713, 11894, 10907, 13347, 10748, 13388, 10753, 10746, 10695, 11228, 12688, 13560, 12670, 11275, 11819, 12850, 11935, 12016, 11910, 11978, 11609, 14221, 12032, 13524, 12673, 12782, 11177, 12329, 13683, 12401, 13198, 11074, 11845, 11904, 13908, 14173, 11286, 13187, 13808, 14071, 13428, 13408, 12248, 13667, 10720, 13530, 13702, 11372, 11313, 13817, 13590, 13462, 13003, 13460, 13526, 12255, 13156, 11293, 13066, 13266, 10867, 12057, 11135, 11134, 10698, 13269, 13723, 13782, 14145, 11667, 11780, 13861, 12587, 10667, 10721, 10747, 14258, 14056, 11789, 13770, 12863, 12567, 11829, 11133, 13350, 11266, 12017, 12769, 11136, 12669, 11457, 12655, 10730, 13532, 12035, 11503, 13531, 12536, 12015, 11337, 12323, 12379, 12647, 11729, 13614, 14117, 12692, 11472, 13910, 12993, 13983, 12992, 14143, 12073, 13356, 13237, 13708, 13277, 13267, 13117, 13071, 13757, 12477, 9905, 13947, 12455, 12280, 11017, 10787, 13896, 12320, 13785, 12808, 11132, 11298, 12456, 14175, 14270, 12343, 11328, 12060, 11790, 13792, 13614, 11254, 9959, 9976, 12608, 13892, 12146, 14107, 11015, 13279, 13437, 13528, 13147, 13533, 13203, 13527, 12774, 11192, 12061, 12438, 11551, 14115, 9907, 12844, 12078, 13529, 12821, 11825, 11932, 12443, 12925, 11104, 11101, 12910, 13913, 11475, 14148, 12204, 11379, 12776, 13204, 12839, 11648, 13968, 13370, 11180, 10924, 14111, 10871, 12760, 13037, 11363, 12030, 13802, 10660, 12986, 11726, 13010, 12714, 11623, 13599, 13672, 13084, 11634, 13249, 10900, 13944, 14037, 11357, 13761, 13327, 11593, 12713, 11813, 11769, 11610, 11561, 13444, 12971, 11191, 13631, 10765, 13189, 12749, 12048, 12771, 12666, 12494, 10814, 12215, 12463, 13750, 10761, 12010, 13827, 13767, 11294, 10766, 13627, 13331, 14202, 12856, 11490, 11489, 13353, 12377, 11436, 14286, 13620, 11474, 10663, 12136, 11515, 11209, 13379, 10827, 13214, 13877, 13945, 13940, 10725, 2618, 12256, 14138, 13652, 13588, 11656, 13017, 11711, 13798, 11614, 14223, 11715, 11090, 13765, 12664, 12290, 12431, 12607, 13562, 12037, 11199, 11311, 12994, 14131, 11491, 10977, 11116, 13576, 11929, 10931, 12244, 10915, 13538, 11908, 11256, 11942, 13116, 11276, 13251, 12104, 13262, 14000, 11454, 11943, 13128, 13564, 13136, 12252, 12629, 11654, 12693, 11860, 11163, 11744, 12033, 14096, 11659, 9915, 14044, 13135, 12472, 12798, 13399, 10803, 12866, 10822, 10986, 10952, 10775, 11226, 14254, 12212, 12307, 14200, 10851, 12595, 13829, 11940, 11666, 13351, 12109, 14209, 11217, 13001, 12154, 11210, 12121, 9923, 11672, 10795, 11945, 13459, 21, 20, 13103, 11043, 13965, 9930, 10755, 12972, 11680, 12858, 13790, 12995, 13591, 12213, 11319, 10756, 13296, 13305, 13733, 12719, 13114, 13259, 11099, 10856, 12316, 13766, 14110, 11987, 13205, 11988, 13339, 11733, 11642, 11068, 12132, 10968, 12192, 14073, 10978, 12458, 13819, 11085, 14147, 12807, 12003, 13655, 13563, 13915, 11660, 10854, 11050, 11961, 11093, 13822, 12038, 10711, 12665, 10974, 19, 14161, 11152, 11425, 10776, 13417, 12537, 12879, 12525, 11393, 13014, 11002, 11554, 13903, 13787, 11012, 11373, 12311, 12318, 12826, 13519, 11673, 14136, 11718, 12911, 13047, 9985, 12492, 13115, 12873, 13703, 12920, 14042, 11208, 11171, 11060, 13883, 9991, 12150, 13077, 13078, 12940, 12947, 13556, 13041, 13042, 13522, 11812, 11811, 11980, 11172, 12181, 12277, 12696, 11198, 11879, 11334, 13270, 10997, 10745, 11939, 12100, 14025, 12805, 11957, 9916, 12778, 10813, 13157, 12337, 14027, 10874, 14089, 11229, 11458, 14189, 11107, 11220, 13870, 12338, 12594, 13099, 12111, 12521, 13404, 13539, 11636, 13494, 13570, 11835, 12605, 13841, 11164, 12554, 13918, 12234, 10810, 13137, 11965, 12163, 11981, 12047, 11049, 14278, 11153, 13508, 12392, 13415, 11189, 13129, 14002, 13297, 12312, 11885, 10714, 12535, 13788, 12726, 12969, 13425, 11223, 11861, 12173, 11147, 11734, 13509, 13869, 12054, 10768, 13510, 13487, 12005, 13758, 10853, 12681, 12988, 13091, 10823, 2580, 13809, 12930, 12815, 13252, 12176, 11194, 14011, 11415, 12376, 12309, 11140, 13320, 12792, 12055, 11265, 12885, 10825, 11635, 12723, 13235, 12298, 12300, 13093, 12468, 13409, 11580, 9956, 9893, 14157, 12895, 12601, 13772, 14193, 11214, 13812, 12950, 10676, 10739, 12058, 12361, 12094, 10848, 12698, 13651, 12278, 11800, 13242, 13635, 11873, 11984, 11858, 13309, 13125, 13878, 12598, 12082, 13170, 2612, 12308, 12870, 11517, 9900, 12119, 12429, 13636, 13898, 12198, 10858, 11087, 13499, 11753, 13299, 12453, 13371, 13254, 12273, 12560, 13615, 2608, 11423, 10713, 12099, 13431, 12802, 13926, 12871, 13888, 11544, 12578, 9904, 13941, 12801, 12187, 10690, 10972, 11777, 12864, 11000, 11077, 11926, 11062, 12635, 10868, 13191, 12174, 13659, 11532, 13025, 12699, 12555, 13488, 10866, 13552, 12056, 11750, 12424, 11992, 12413, 11538, 9899, 11649, 13100, 12697, 12189, 10899, 12084, 14137, 11253, 13630, 11178, 10964, 11727, 14269, 11650, 12764, 10979, 12675, 11587, 11267, 9889, 11979, 13586, 13181, 12558, 11146, 11921, 14082, 13676, 12464, 11231, 12787, 12205, 10681, 11119, 13517, 11953, 12568, 11014, 9926, 11747, 10898, 13666, 9891, 12459, 12963, 11441, 10826, 9890, 13520, 12631, 13578, 13568, 13369, 14230, 12507, 11832, 11176, 11010, 10821, 13976, 13634, 11805, 11888, 11912, 11890, 11174, 13828, 13375, 11262, 2621, 13184, 12836, 11869, 14165, 13064, 12660, 13194, 13893, 13384, 11882, 12661, 11937, 12659, 12371, 14014, 12626, 12574, 12625, 13885, 11290, 11289, 12966, 13682, 11754, 10710, 11577, 10715, 11355, 14010, 11618, 10838, 12101, 14063, 13461, 13159, 10786, 10762, 13290, 13855, 9998, 12564, 11833, 13535, 13747, 11736, 12703, 9962, 11738, 10772, 9922, 11853, 11612, 13999, 11768, 13613, 13133, 12891, 11712, 13523, 12495, 11613, 11424, 11397, 13257, 11005, 9906, 10959, 13579, 11463, 14172, 7089, 13423, 12573, 13714, 12604, 10697, 11120, 11876, 12843, 10708, 13924, 13206, 12997, 11244, 10742, 10936, 13981, 11751, 13434, 12224, 11142, 14285, 12251, 11920, 11092, 12538, 10939, 14022, 13236, 12542, 12185, 11895, 13969, 9880, 13038, 10961, 12823, 12421, 11742, 12480, 9958, 12838, 12593, 13547, 13357, 10482, 11443, 13054, 11371, 12291, 13753, 14118, 6635, 5810, 5102, 5367, 5705, 6631, 7024, 6429, 6415, 6674, 6365, 5929, 4938, 6517, 6551, 6757, 5943, 5207, 5923, 5918, 5450, 4812, 5930, 5990, 6445, 6600, 5244, 6143, 5013, 5419, 6498, 6838, 5889, 6497, 6742, 4740, 4793, 6758, 6646, 4782, 6594, 4844, 6159, 5345, 4767, 5653, 6579, 6846, 5364, 6787, 6864, 6164, 5144, 6302, 7036, 6410, 4888, 5846, 5820, 6496, 6780, 5480, 5773, 6123, 5600, 6136, 6700, 5299, 5553, 5197, 10511, 6184, 4855, 6981, 6436, 5547, 6015, 5272, 4911, 6734, 6823, 5682, 6481, 5543, 6090, 6896, 6092, 6061, 6021, 6789, 6008, 6242, 7038, 5555, 6800, 4936, 5937, 6798, 6350, 6093, 4803, 5659, 5823, 5164, 5586, 6195, 6171, 5814, 6397, 6428, 6049, 5635, 5106, 6638, 5435, 5328, 4887, 6175, 5745, 4881, 5488, 5603, 6774, 4986, 5214, 6249, 5703, 6505, 5387, 6248, 6280, 5589, 5750, 5694, 4905, 6274, 6717, 5521, 5615, 6148, 6922, 6627, 5651, 5165, 4847, 6824, 5753, 6947, 6916, 5617, 4726, 5655, 5903, 5215, 5286, 6594, 4908, 5942, 6405, 2576, 6460, 6840, 6727, 4774, 6871, 5242, 5295, 5912, 6224, 6101, 6303, 5979, 6754, 6379, 5318, 5977, 4883, 6803, 6299, 5982, 6559, 10631, 5103, 6173, 5451, 5236, 7016, 6826, 7018, 6929, 6087, 5741, 6387, 5530, 6131, 6831, 4804, 5663, 6604, 5724, 6941, 6568, 7039, 5011, 6244, 6142, 6168, 5697, 5993, 6118, 6678, 5652, 5262, 4710, 6234, 6809, 6931, 5432, 5434, 5975, 6718, 6211, 5374, 6140, 6705, 6277, 5892, 6870, 5454, 5497, 6262, 5565, 7032, 5154, 6083, 6951, 4771, 6983, 6183, 5598, 5397, 6656, 5489, 6502, 6926, 5200, 5837, 5941, 4755, 6501, 5612, 5035, 6035, 4984, 6151, 5919, 6636, 4846, 5869, 5185, 6660, 6420, 6523, 6181, 6707, 5225, 5901, 5830, 6384, 5492, 6557, 6591, 6791, 6556, 5692, 4944, 6306, 6746, 4671, 5667, 6455, 6652, 5132, 6655, 6263, 5997, 5748, 6581, 5726, 4912, 4852, 6596, 6634, 6347, 5842, 6355, 4982, 4960, 5455, 6187, 4995, 6719, 5704, 5782, 6575, 6563, 6126, 5441, 6257, 4752, 6201, 4832, 5384, 5890, 10640, 4764, 4761, 6178, 10648, 5638, 5030, 5962, 5421, 6911, 6678, 4930, 5906, 6288, 4808, 6930, 6325, 6089, 5163, 6206, 6016, 5167, 4777, 5428, 6852, 5781, 4776, 5656, 5336, 6236, 6552, 5968, 6182, 6364, 6426, 5090, 4871, 6748, 5577, 5824, 4831, 6968, 4980, 6920, 5986, 5078, 5740, 6794, 5648, 5657, 5475, 5265, 5628, 4796, 5633, 6447, 6024, 5788, 6305, 6434, 4929, 5104, 6877, 6289, 5476, 6227, 5423, 4814, 6970, 6740, 5314, 5254, 6571, 4961, 6416, 5178, 5711, 5077, 6982, 5324, 5422, 5175, 6667, 6522, 5217, 4816, 6832, 5458, 6389, 5956, 4737, 5716, 6801, 6765, 6761, 6763, 6764, 6762, 5525, 4978, 5408, 5627, 6511, 5348, 5733, 4963, 6802, 6047, 6695, 5992, 6391, 5860, 7046, 5529, 6278, 6548, 6867, 4922, 10633, 5978, 6441, 6358, 4719, 4757, 6188, 4835, 6336, 5533, 5806, 5541, 4893, 5854, 5468, 5074, 4727, 6404, 6157, 6670, 6110, 4809, 5042, 6665, 4724, 6995, 6135, 5003, 7013, 6973, 6606, 4973, 6376, 6440, 5156, 5774, 7045, 10611, 6055, 5424, 7047, 6315, 5902, 6287, 6433, 6381, 5681, 6483, 5597, 5838, 6866, 5395, 5974, 6264, 4723, 6950, 6682, 6102, 6814, 10650, 5639, 6392, 5228, 6390, 6340, 6657, 4894, 6978, 6074, 6382, 10627, 6308, 5248, 4889, 5072, 5282, 6655, 5870, 6223, 6198, 6026, 5469, 5057, 5344, 5691, 5016, 5797, 6207, 6913, 6850, 5905, 6454, 6044, 6810, 6309, 6546, 5040, 6468, 5198, 4795, 6572, 5866, 5611, 2575, 6816, 6977, 5171, 6076, 6565, 5098, 5745, 5707, 6979, 5959, 5961, 6029, 6624, 6352, 4722, 5722, 5757, 10641, 6097, 6069, 5787, 6270, 6977, 5245, 5216, 5546, 5320, 5288, 6030, 4979, 6607, 5319, 6199, 5599, 5660, 5126, 6115, 5235, 6893, 5173, 5818, 5771, 6215, 6607, 6326, 6927, 4959, 6609, 5208, 5700, 5970, 5562, 6603, 5266, 5190, 5349, 5339, 6112, 4822, 5054, 6688, 5719, 5623, 6633, 6482, 6141, 5447, 5474, 5699, 5886, 7004, 5626, 5693, 5136, 5093, 7040, 6655, 6853, 5281, 5579, 6553, 6329, 6241, 7034, 6555, 5862, 6399, 6034, 5302, 7028, 6943, 6872, 6986, 6015, 5976, 5954, 6503, 6417, 6574, 4760, 4813, 5300, 5473, 6525, 6484, 4775, 4799, 5668, 4933, 6253, 4749, 6256, 5429, 6295, 6925, 6709, 10596, 7003, 6106, 4947, 6628, 5024, 6192, 6760, 5964, 6744, 5712, 6170, 4781, 5046, 6411, 6815, 4721, 6584, 5496, 6997, 4934, 4926, 4801, 4805, 5689, 5730, 5955, 5466, 5059, 6834, 6965, 5279, 4925, 6233, 6822, 5211, 4718, 4900, 6343, 6934, 6079, 6450, 5650, 6094, 5308, 4874, 6435, 4873, 4901, 6875, 6078, 5294, 6653, 4904, 6452, 5463, 5729, 6623, 6125, 6528, 7006, 6897, 5926, 5931, 6357, 4989, 5270, 6449, 4955, 6222, 7008, 6993, 4840, 5023, 6424, 5398, 5083, 5301, 4964, 6639, 6001, 6119, 5360, 6058, 5507, 6818, 4733, 6860, 5287, 5754, 7010, 5683, 6817, 4970, 6056, 5873, 6077, 6828, 6489, 5891, 6862, 6722, 5619, 6957, 10620, 6036, 5580, 5871, 5048, 5297, 6031, 5784, 5710, 6839, 6694, 6790, 4827, 5851, 6444, 6515, 5887, 4996, 5666, 5135, 5876, 5940, 6057, 4734, 5882, 5640, 6062, 5052, 5515, 5511, 6899, 5358, 7009, 6413, 7035, 5791, 6230, 5779, 4802, 4969, 5433, 6388, 6923, 7007, 5680, 6630, 5957, 6039, 5157, 4845, 5973, 4864, 5290, 5343, 4868, 5130, 6593, 5641, 6328, 6560, 5133, 5864, 4842, 5007, 5239, 4902, 4869, 5595, 5861, 5426, 5041, 5536, 6990, 5096, 5334, 6490, 5645, 6421, 6829, 5767, 10642, 5947, 6845, 6928, 6971, 6172, 4744, 5487, 5298, 5350, 6214, 5607, 5664, 6134, 5075, 6543, 6753, 4981, 6359, 5900, 5508, 4779, 4849, 5194, 5082, 6842, 6265, 5672, 4875, 6570, 4810, 6507, 6225, 6972, 5037, 5128, 4739, 5756, 6228, 5848, 6985, 6903, 6905, 5953, 6540, 5988, 4794, 5148, 6725, 6987, 5212, 5243, 5904, 5352, 5936, 5327, 6174, 6470, 6494, 6473, 6064, 6837, 4946, 5229, 6063, 5967, 5481, 6146, 6513, 5958, 5486, 6053, 6250, 5113, 6597, 5772, 6020, 4843, 4853, 6220, 5222, 4851, 6566, 4956, 5590, 6177, 5835, 6625, 5815, 6284, 6608, 5561, 4910, 6732, 5587, 4728, 5987, 5921, 6451, 6901, 5143, 6045, 5875, 10649, 6395, 6431, 5966, 6808, 6956, 6156, 5449, 6088, 4807, 6464, 5406, 5662, 5826, 6185, 6051, 4758, 4916, 4958, 5134, 4940, 6716, 6684, 5189, 7011, 5567, 5938, 6075, 6060, 5928, 5255, 6080, 5100, 5161, 6154, 4830, 6180, 4993, 5877, 5370, 5893, 5727, 6486, 5484, 4817, 5925, 5867, 4935, 6738, 5483, 6756, 4848, 5400, 5241, 6267, 7001, 5325, 5834, 6567, 5026, 6273, 5381, 6333, 4825, 6878, 6304, 6586, 6782, 5138, 6785, 5775, 5874, 5534, 6124, 5602, 5513, 5405, 5437, 5879, 5843, 4829, 5715, 6052, 5166, 5491, 5366, 4841, 5276, 5583, 4992, 5094, 5948, 5563, 5702, 10632, 6948, 5514, 4770, 6041, 6749, 4738, 5271, 4977, 5765, 4785, 6166, 6251, 10651, 5980, 6072, 5306, 6133, 5881, 6770, 6891, 5092, 4745, 5825, 6514, 6412, 5972, 4784, 4765, 5127, 5872, 4939, 6617, 5566, 4974, 5535, 6614, 5625, 6430, 5401, 4797, 6699, 10613, 4957, 5402, 5884, 5883, 4923, 6120, 5097, 4858, 5044, 4783, 6622, 4975, 5347, 5805, 6261, 5585, 5642, 6204, 6378, 6071, 6316, 5839, 5512, 6577, 4913, 5674, 5373, 5840, 5252, 4918, 6830, 6851, 4990, 6130, 6908, 5793, 5201, 5010, 6212, 5232, 4754, 5856, 5109, 6109, 4941, 10615, 10628, 5108, 10621, 5107, 5124, 5557, 4786, 5684, 5014, 6819, 6640, 5963, 6294, 6065, 6197, 5060, 6260, 6408, 6028, 5204, 5721, 6475, 5457, 4896, 6710, 5898, 5351, 5416, 5654, 4971, 5275, 4811, 6999, 6043, 6847, 6578, 5442, 6691, 6121, 4836, 5588, 6425, 6759, 6471, 6459, 6418, 6844, 6739, 6292, 5932, 5800, 6272, 4834, 6835, 5149, 6880, 4885, 6276, 6988, 5573, 4820, 6022, 5312, 6324, 5335, 5556, 5087, 6194, 4837, 5356, 6023, 6681, 5603, 6663, 4720, 5309, 4921, 6554, 6615, 5304, 6169, 5506, 5418, 5708, 6788, 6007, 5315, 5863, 6216, 5522, 5246, 5151, 5317, 4788, 5323, 5670, 6114, 6474, 10638, 5445, 5690, 5849, 5073, 7000, 6472, 6532, 5436, 6331, 5187, 5591, 6612, 5853, 6176, 6885, 5786, 4976, 5836, 5669, 5593, 5829, 5296, 4778, 6547, 6582, 6461, 5267, 6506, 6103, 6542, 5769, 4863, 6011, 4725, 6438, 4866, 4798, 5038, 6209, 10608, 6692, 6696, 6855, 5357, 6344, 6210, 6841, 5169, 5822, 6311, 5337, 6096, 6935, 4806, 5916, 5326, 6618, 6675, 6495, 6964, 5865, 5676, 5551, 5500, 5709, 6519, 4824, 2620, 6509, 6975, 7002, 5199, 4857, 5203, 7050, 10618, 5213, 6165, 4741, 4742, 7069, 4838, 5798, 5634, 4920, 4763, 6213, 6485, 6659, 5989, 6217, 6068, 5528, 6797, 5572, 7053, 7054, 5531, 5552, 5305, 6932, 5330, 6616, 5498, 6937, 5055, 5051, 5984, 4753, 5808, 6811, 6271, 5467, 6621, 7021, 6955, 6720, 5658, 6706, 6602, 4968, 6200, 5121, 4998, 6100, 4731, 6129, 4859, 5924, 6992, 5313, 6239, 5939, 6594, 6861, 6865, 6208, 5631, 6500, 5592, 5331, 5971, 5139, 5739, 6385, 4747, 6095, 5706, 4790, 5116, 5601, 5025, 6857, 4791, 6155, 6059, 5456, 5743, 6605, 4823, 6533, 4882, 6647, 6909, 6588, 5413, 7020, 5206, 5004, 6229, 4759, 10634, 6980, 6879, 5665, 6731, 6645, 5732, 6313, 4967, 6595, 5238, 5544, 5548, 6966, 4735, 6991, 5322, 6226, 6721, 6290, 6162, 7055, 5609, 5728, 10622, 6994, 6167, 7030, 6697, 7056, 5118, 5329, 6383, 10647, 6874, 6793, 5081, 6821, 6949, 5539, 6613, 6786, 5056, 6342, 6189, 6422, 5747, 5985, 5438, 5140, 5234, 5321, 5141, 4906, 5183, 6751, 5112, 5762, 5170, 5998, 4932, 5718, 5237, 5210, 4756, 6946, 5841, 4965, 5256, 6098, 6493, 6348, 5425, 6298, 10629, 5790, 5524, 5396, 7012, 5186, 6491, 5868, 5780, 4997, 6858, 6592, 5415, 6690, 4751, 6894, 6906, 10619, 6534, 5783, 5720, 6269, 5391, 7052, 6910, 5819, 6510, 6158, 5464, 4899, 6516, 6108, 6363, 5280, 4878, 5999, 7017, 5578, 4991, 5935, 6018, 6346, 6594, 6569, 5470, 6726, 6939, 6544, 7043, 6446, 5550, 5129, 4917, 6492, 6766, 6958, 5005, 6354, 6144, 6401, 6677, 5180, 6046, 6231, 6006, 6527, 4769, 6019, 5538, 6396, 6779, 5758, 5471, 6655, 6977, 6504, 5519, 5342, 5378, 6285, 6351, 6393, 6658, 6427, 4953, 10630, 4952, 5278, 5047, 5018, 5459, 5537, 7044, 6876, 6936, 5807, 6032, 6386, 6662, 5219, 7074, 5832, 6701, 6914, 6319, 5478, 6573, 6585, 5746, 5944, 5333, 4860, 5008, 5523, 5763, 5701, 6954, 5608, 7019, 6685, 6086, 6462, 5017, 5768, 6443, 5293, 6004, 6084, 5629, 5908, 6712, 6002, 6641, 6536, 5012, 7022, 5734, 5372, 4876, 5002, 6082, 5393, 5558, 6918, 5196, 6487, 4730, 6252, 6237, 6969, 6736, 5816, 6477, 7015, 4948, 5549, 6649, 5677, 4877, 6275, 6117, 6666, 6976, 5749, 6122, 6457, 6268, 10646, 5847, 5766, 5260, 4870, 4884, 5258, 6953, 6320, 6664, 5168, 6111, 5794, 5661, 5896, 6561, 5146, 5472, 4962, 6580, 5542, 6161, 5066, 6538, 6558, 5065, 5554, 5061, 5071, 6541, 5064, 5070, 5192, 6799, 5021, 5069, 10637, 6349, 6314, 4743, 5382, 5259, 6644, 6499, 5311, 5616, 7062, 5062, 5058, 6283, 5068, 5067, 6480, 6258, 6805, 6952, 5460, 5063, 5111, 5388, 5581, 4983, 6116, 6128, 6807, 5795, 5392, 6747, 6669, 5385, 5399, 5731, 5477, 5527, 6887, 6259, 5119, 7042, 6407, 4815, 5268, 6232, 5636, 5332, 4787, 6843, 6921, 5858, 5446, 6849, 6590, 6729, 5158, 6508, 6889, 2611, 5897, 5240, 5346, 6409, 6784, 6205, 5274, 5584, 6362, 4994, 6152, 5845, 5614, 5053, 5679, 6960, 6792, 5389, 4909, 10644, 6179, 5269, 6070, 6361, 6651, 5137, 5913, 6218, 5723, 6402, 6238, 5827, 6520, 6246, 6132, 4664, 6163, 6235, 5574, 5028, 6587, 4736, 6054, 6998, 5188, 10612, 6767, 5261, 5996, 5453, 5761, 6003, 6153, 5195, 5965, 5568, 5644, 5155, 5678, 10645, 6221, 5263, 6654, 6291, 6715, 7025, 6907, 5375, 6037, 5001, 5303, 5518, 5624, 5285, 5759, 5482, 6942, 6013, 6881, 6327, 5532, 10503, 5430, 6895, 5744, 5755, 5371, 5009, 6755, 6005, 5570, 6317, 5448, 5376, 6723, 6332, 5377, 6293, 5184, 6360, 6610, 7023, 5717, 5799, 6933, 5160, 5571, 5857, 6854, 6836, 6380, 5844, 6281, 6825, 5520, 4762, 4750, 6282, 6959, 6549, 4890, 5131, 6668, 2568, 6521, 6196, 5596, 5316, 5355, 6377, 6704, 5000, 10639, 6240, 5363, 5354, 5812, 10636, 5991, 6373, 5859, 6107, 6518, 5412, 6014, 5569, 6650, 5386, 6334, 4867, 5685, 6945, 4919, 6202, 5182, 4915, 6535, 6286, 5738, 4988, 6356, 6104, 6924, 6703, 5855, 5414, 6330, 5789, 5909, 10623, 22, 4924, 6686, 6673, 6626, 6620, 10616, 5603, 6529, 6345, 5365, 5307, 6318, 6193, 5359, 5803, 6099, 6312, 6296, 6648, 10652, 6594, 4850, 4833, 6796, 5452, 6777, 5420, 6337, 5202, 6589, 4891, 4732, 6203, 5439, 6310, 6488, 5582, 5764, 4766, 6266, 6655, 6375, 5564, 6297, 5223, 6369, 6371, 7048, 4987, 5410, 6370, 5006, 6366, 6372, 6374, 6406, 6367, 5622, 5796, 4792, 6368, 6882, 5850, 6335, 6255, 5737, 4854, 7026, 5576, 5494, 6961, 5911, 5505, 5895, 6873, 6530, 4886, 10625, 6598, 5289, 4928, 5231, 5115, 6912, 10643, 5603, 5671, 5620, 5444, 5380, 5036, 4950, 5032, 5673, 5172, 5675, 6353, 6539, 4892, 5575, 5713, 5145, 6771, 5493, 5559, 4839, 5034, 5152, 5443, 6884, 5630, 5647, 5027, 4999, 6042, 5220, 5174, 5509, 5043, 6886, 4954, 6693, 6321, 6085, 5502, 10617, 5983, 5594, 5831, 6619, 5643, 5687, 5233, 4789, 6917, 4985, 2606, 6938, 5091, 5686, 4865, 6442, 5725, 6403, 5417, 6989, 5369, 5517, 4872, 6186, 6890, 5159, 6804, 6611, 5247, 5394, 6564, 10614, 5020, 10609, 6888, 6147, 5894, 6750, 5230, 4729, 5499, 4773, 4819, 5485, 6713, 5033, 5179, 5950, 5079, 6537, 6423, 5945, 6672, 6683, 5162, 5920, 7041, 5076, 6599, 5338, 6812, 5801, 4828, 6711, 6463, 5751, 5110, 5292, 4880, 5934, 6898, 6856, 6775, 4826, 6478, 6629, 6687, 6149, 5516, 5760, 6702, 6773, 4746, 5114, 6772, 6752, 5495, 4945, 6027, 6735, 6967, 6400, 6307, 5379, 5606, 5353, 5218, 6868, 5193, 5086, 6656, 6437, 5224, 5039, 4942, 5503, 5462, 5910, 6465, 5646, 6526, 5176, 6679, 6795, 2588, 6583, 5899, 6394, 6150, 6067, 5045, 6191, 4927, 6550, 5341, 6743, 6562, 4895, 6637, 5205, 5227, 6902, 4856, 5209, 6813, 6869, 5019, 5946, 5015, 6827, 5907, 5465, 5226, 4914, 5632, 6698, 6962, 5610, 6243, 5933, 4879, 6033, 5291, 5277, 6017, 6469, 5510, 5177, 6848, 5501, 5181, 10635, 7029, 6883, 4931, 6419, 5776, 10624, 5778, 6745, 5029, 6137, 5736, 4903, 5735, 7037, 5361, 6048, 5253, 6338, 6768, 5922, 6453, 5770, 5461, 5915, 6863, 7031, 5960, 6919, 6708, 5618, 7014, 5411, 4862, 5605, 7027, 6138, 6025, 5099, 5752, 6414, 6632, 5283, 6479, 5125, 5888, 5120, 5490, 5885, 5688, 5560, 6859, 6601, 6050, 5221, 6139, 5621, 6806, 6892, 4800, 5479, 5613, 5649, 5390, 6439, 6984, 6680, 6091, 6398, 6576, 5191, 6833, 6671, 4772, 5952, 6113, 6531, 5427, 6105, 7033, 6000, 5545, 6322, 5785, 4907, 5264, 5813, 4951, 6904, 6040, 4748, 5409, 6714, 5273, 6733, 6820, 4949, 6279, 5526, 5540, 6642, 6741, 5105, 5284, 5142, 6467, 6245, 5101, 5095, 5310, 5817, 6466, 6476, 5809, 6730, 5917, 6190, 6737, 6458, 6545, 6073, 4897, 5777, 6974, 4943, 4898, 6081, 6944, 6524, 5153, 5049, 5852, 5914, 6963, 5811, 6676, 5695, 5249, 5637, 5440, 5117, 5504, 5833, 6254, 5792, 5031, 6127, 6996, 5431, 5698, 5604, 6724, 6432, 5927, 5147, 10626, 6900, 4861, 6341, 5821, 6643, 6300, 5257, 6456, 5150, 5368, 5022, 7049, 5951, 5085, 5250, 14, 5084, 4780, 5981, 5969, 5994, 5880, 5403, 5080, 5828, 6661, 6323, 6247, 5696, 6160, 5407, 5404, 6594, 5050, 6339, 6781, 6010, 6009, 5340, 4768, 6769, 5804, 5995, 6776, 4821, 6038, 6783, 5742, 6145, 5251, 5122, 4966, 7051, 4972, 4937, 6778, 5362, 5949, 5088, 10610, 6728, 5878, 5123, 6219, 6689, 6915, 6512, 4818, 5802, 6066, 5089, 5383, 6940, 5714, 6448, 7005, 6301, 3503, 3020, 3716, 3417, 3702, 4379, 3646, 2935, 2694, 4123, 4326, 3342, 3621, 4218, 3665, 3239, 3919, 2815, 4129, 3498, 2925, 3937, 4380, 3224, 3156, 3778, 4274, 3754, 3717, 3601, 3126, 3003, 2774, 3639, 3341, 3967, 4433, 2983, 3915, 3392, 4606, 3139, 10571, 4530, 3723, 4668, 3584, 3971, 2831, 2958, 2579, 4537, 2729, 4203, 3809, 3277, 3316, 2847, 3143, 4569, 3190, 4560, 4711, 2674, 3930, 10547, 2760, 3360, 3279, 3371, 3212, 3905, 3166, 3073, 3765, 4597, 4284, 2719, 3426, 3493, 4184, 4124, 3641, 3451, 3869, 3376, 3856, 3023, 3234, 2963, 2718, 3820, 3920, 3616, 4178, 4504, 4395, 4411, 4600, 3526, 2940, 4493, 4488, 3153, 4041, 3787, 4142, 3792, 2877, 4022, 3808, 4193, 4390, 4315, 3535, 4697, 4276, 4003, 2934, 3049, 2562, 3658, 3761, 4401, 3968, 3910, 3398, 4525, 2915, 3159, 2690, 4364, 4566, 4412, 4568, 3272, 2638, 3623, 2642, 2645, 2644, 3528, 2839, 10593, 3846, 3062, 4036, 7061, 2970, 2865, 3034, 4083, 2840, 4449, 4293, 3850, 2721, 3255, 2848, 3757, 4709, 3210, 2770, 4423, 4321, 4035, 3000, 10487, 4093, 4060, 3251, 3227, 3638, 3478, 4428, 2754, 4686, 4467, 3264, 2797, 3218, 3737, 4660, 4698, 4572, 3282, 10549, 10656, 25, 7059, 3317, 3685, 2903, 3299, 2902, 4715, 2659, 2661, 2660, 3461, 10607, 2798, 3252, 3270, 2806, 4414, 3201, 4705, 10564, 3496, 3124, 2765, 6, 4079, 3949, 4455, 3287, 3703, 3249, 3996, 3094, 4714, 3281, 3262, 3455, 4684, 4632, 4114, 3275, 3330, 4366, 3291, 3821, 3395, 4341, 10556, 2596, 4586, 3817, 4679, 2, 2947, 2570, 2802, 2946, 3260, 4663, 3274, 4680, 3289, 9, 3248, 3257, 3136, 3456, 3225, 3211, 3169, 10502, 4578, 3296, 4685, 4699, 4403, 4716, 3457, 3963, 10497, 3288, 3958, 10510, 4468, 3278, 2590, 4669, 3268, 10498, 11, 3244, 3953, 4160, 4651, 10542, 3711, 3267, 3280, 4703, 4676, 2569, 7090, 10490, 7087, 4363, 3842, 10492, 2581, 10486, 3283, 4690, 2613, 4693, 4712, 4706, 4108, 7060, 4490, 3293, 2842, 3297, 4418, 4661, 3549, 3351, 3893, 4516, 4465, 2632, 10489, 4658, 4531, 0, 3517, 1, 3226, 4677, 4700, 4196, 3976, 3952, 3284, 10483, 2610, 2565, 3573, 2784, 3295, 4479, 7, 4355, 10512, 4692, 3130, 3, 3273, 3247, 4517, 4688, 4582, 10501, 3243, 3256, 3276, 4665, 3323, 3250, 3955, 3353, 4695, 4696, 4704, 3290, 3620, 2627, 4, 4678, 10500, 10504, 3265, 3269, 10543, 10493, 3271, 4694, 10545, 2589, 3993, 10, 3253, 3038, 3259, 3292, 4657, 4183, 3655, 10592, 4336, 4707, 3261, 3263, 3446, 4687, 3298, 3258, 2667, 3286, 3294, 3024, 7085, 3950, 4521, 3006, 10491, 3246, 2574, 3245, 3266, 4682, 2572, 10598, 8, 4013, 4421, 3254, 4691, 4656, 2985, 2796, 3069, 2597, 3285, 2944, 4111, 3191, 5, 4016, 2841, 4437, 4564, 3345, 4628, 4202, 3410, 3381, 4176, 2891, 10513, 3783, 3527, 10576, 3135, 2962, 2750, 3771, 3438, 2911, 3372, 3364, 2896, 2932, 2637, 2749, 3708, 3197, 2964, 3111, 3921, 3088, 3566, 4029, 4182, 4227, 3359, 3030, 3806, 4351, 3089, 4514, 2913, 10581, 3903, 3437, 3363, 4457, 4199, 2665, 3057, 3940, 3405, 3079, 2993, 3785, 2681, 4446, 3951, 3977, 4128, 2945, 4534, 2712, 4010, 2697, 3501, 4151, 10567, 2776, 4021, 10566, 3377, 4031, 3311, 3886, 2599, 3740, 10580, 3743, 4389, 3945, 3495, 3582, 4518, 2845, 10560, 4085, 3061, 3984, 10553, 4213, 2696, 3875, 4180, 3570, 3445, 4063, 3580, 4295, 4088, 3551, 2640, 4655, 3788, 3667, 2649, 3318, 4618, 2711, 4309, 2800, 3348, 2986, 4583, 3844, 4190, 3540, 4091, 2812, 2900, 4204, 4199, 3599, 4069, 3798, 3791, 3700, 3054, 3588, 2670, 3860, 3865, 3238, 3193, 4301, 3611, 3626, 4653, 4611, 2720, 3379, 4143, 2956, 3373, 3534, 4264, 3923, 3833, 3357, 4082, 3155, 4612, 3462, 2704, 4056, 2716, 10559, 3845, 10606, 2643, 4243, 3812, 4603, 4417, 3730, 3483, 4598, 4585, 3123, 3340, 4066, 3538, 4286, 3315, 2705, 3934, 4440, 4266, 3434, 3814, 2871, 4018, 4267, 3439, 4064, 4216, 3542, 3828, 4498, 3138, 4268, 4545, 3447, 3101, 4219, 4552, 2876, 4251, 2927, 3021, 10584, 2592, 3052, 3944, 4246, 4292, 3015, 4646, 3053, 3013, 3714, 3428, 3578, 3652, 3418, 3482, 3326, 3518, 10583, 4126, 3422, 3004, 4258, 3720, 3305, 4610, 4169, 3858, 3675, 4323, 3715, 3473, 3857, 4080, 4486, 3941, 3048, 3442, 4507, 4461, 2892, 4007, 3759, 3901, 3420, 4614, 3523, 3612, 4048, 2852, 4244, 4305, 2708, 4011, 4522, 3553, 3365, 3466, 3506, 3511, 3617, 3756, 4052, 4475, 2899, 3705, 4239, 3738, 3895, 3514, 3597, 4220, 3513, 4505, 3684, 3960, 3516, 3701, 2561, 3813, 3894, 4432, 2887, 3470, 4519, 2685, 4044, 3824, 4259, 3063, 3064, 4154, 3698, 3602, 4593, 4579, 3992, 2781, 4014, 4313, 3878, 3504, 4384, 4047, 3509, 3649, 3476, 3045, 3303, 3336, 4235, 4637, 4189, 4256, 2648, 3852, 3129, 3102, 4087, 2989, 3550, 2691, 3007, 10552, 3576, 3333, 3060, 4438, 2702, 3207, 2724, 4254, 2778, 3736, 4230, 2880, 2709, 3752, 10575, 2607, 3029, 2875, 3331, 4231, 3310, 4604, 2837, 3160, 4017, 3853, 3763, 4030, 4210, 3741, 2834, 2755, 3688, 3183, 4339, 4386, 4353, 4257, 3947, 4331, 3561, 4320, 3529, 4469, 3388, 2701, 2879, 2715, 4146, 4439, 4477, 4113, 3836, 3719, 4368, 4324, 4376, 4599, 3926, 2787, 3917, 4262, 4332, 3908, 3572, 3037, 4187, 3430, 4456, 2657, 3693, 3396, 3560, 3533, 3762, 3401, 3847, 3391, 4318, 3117, 3149, 4149, 2707, 3028, 3810, 3914, 3745, 3402, 3479, 4450, 3830, 2768, 4139, 4617, 3928, 3750, 3801, 3774, 3897, 4596, 3673, 3789, 4424, 2825, 4343, 2772, 3170, 3017, 3873, 4529, 2669, 10563, 3749, 4328, 10582, 10562, 2656, 2682, 4495, 10488, 3142, 4592, 2906, 3150, 3822, 3687, 4039, 2679, 4499, 4061, 4065, 4075, 4405, 4565, 10569, 2653, 3748, 4555, 3056, 4396, 4520, 4191, 2647, 2639, 3827, 4425, 4298, 4648, 3994, 4070, 4174, 4195, 3415, 3378, 3500, 4250, 4156, 3760, 4012, 3916, 3932, 4265, 2941, 3782, 3525, 3334, 4205, 3157, 2634, 3032, 2889, 3328, 4581, 3664, 3118, 4223, 3704, 3385, 4289, 2954, 2748, 3196, 3876, 3733, 3497, 4201, 4240, 3888, 4199, 2578, 3507, 3078, 10557, 4561, 3672, 3635, 2675, 3747, 3484, 4470, 4398, 3935, 3631, 4371, 4188, 2832, 3728, 3093, 3181, 4247, 4573, 4040, 4144, 4145, 4400, 2995, 4278, 2882, 3231, 4245, 4217, 3312, 2775, 4528, 2981, 4434, 3105, 3429, 3713, 3068, 2761, 4407, 2920, 3669, 4543, 4199, 3802, 3666, 4290, 4602, 3889, 3936, 4077, 4640, 2795, 4510, 4228, 4436, 3409, 3104, 4026, 4272, 4059, 3390, 3948, 4019, 3472, 3587, 3834, 4513, 4429, 2930, 2929, 2926, 2863, 4631, 4605, 4497, 2835, 4032, 3510, 3051, 4319, 3044, 4186, 10590, 2676, 4408, 3352, 3969, 4460, 3505, 3144, 3596, 3781, 4567, 2907, 3091, 4409, 4135, 3825, 3770, 3519, 2928, 3592, 2583, 3304, 4279, 3394, 3943, 3530, 2788, 3151, 3653, 4577, 3904, 2780, 2809, 4105, 3775, 3651, 3441, 2999, 4291, 4150, 3440, 4175, 4322, 2924, 3630, 4508, 4270, 2975, 2968, 3552, 3900, 4559, 4172, 3008, 4550, 4472, 10577, 3380, 4206, 7064, 3175, 3195, 2663, 4280, 10586, 3356, 4546, 3998, 3214, 2814, 3512, 3985, 4306, 4285, 4138, 2997, 2859, 4233, 4615, 3986, 4316, 3491, 4002, 4062, 3863, 3753, 10570, 3209, 4387, 2872, 4054, 3859, 4249, 3308, 4481, 3096, 2740, 3090, 3978, 4050, 3477, 2746, 4571, 3677, 3773, 3613, 2860, 3767, 10573, 4248, 3372, 3590, 3389, 4627, 3536, 2727, 2728, 4352, 4110, 4523, 3625, 2897, 2739, 3355, 4397, 2873, 3148, 4535, 4173, 2689, 3107, 4241, 4076, 4607, 4042, 4608, 4132, 3725, 4053, 2686, 4506, 3184, 4046, 4199, 4236, 4542, 2868, 4162, 2838, 4226, 3431, 4222, 4252, 3581, 3718, 4335, 3999, 3722, 2650, 3887, 2960, 4226, 3636, 4413, 3671, 4453, 4263, 4463, 2769, 2961, 3128, 4666, 3981, 3962, 4130, 2699, 3683, 3972, 4482, 4255, 4544, 2951, 2731, 4234, 2990, 3927, 2582, 3194, 2763, 3633, 4563, 4140, 3574, 2733, 4226, 3864, 4427, 4104, 4103, 4541, 4547, 3058, 3115, 3744, 3486, 3956, 3866, 4226, 4170, 3382, 2922, 3354, 3161, 4533, 2671, 3220, 4503, 4133, 3979, 3306, 3726, 3480, 2726, 2844, 3223, 10485, 3681, 3679, 4071, 3678, 3120, 3803, 4273, 4483, 10568, 3642, 2672, 3433, 2680, 3145, 3113, 4584, 3796, 4372, 3222, 3983, 4511, 3076, 3660, 4100, 4131, 3610, 3217, 3012, 3800, 4464, 3036, 3393, 3629, 2757, 4448, 4473, 3112, 3881, 2725, 3804, 3558, 3233, 3228, 4420, 7086, 3232, 4416, 3843, 3189, 3556, 2979, 3657, 4212, 3453, 4515, 10544, 3449, 4630, 3125, 3734, 4356, 3692, 4137, 2973, 4496, 2950, 4163, 2823, 4451, 3386, 4443, 2978, 4621, 3230, 3606, 4211, 4430, 4626, 4362, 2977, 3114, 4177, 4297, 4431, 4260, 2939, 10591, 3982, 3237, 2700, 4242, 3122, 3777, 3384, 4471, 4435, 4153, 4580, 7080, 4181, 4283, 2738, 2617, 7072, 10561, 3173, 3343, 3018, 3779, 3608, 4089, 3583, 4629, 4659, 7083, 3424, 3585, 2801, 3134, 3690, 4008, 3065, 2631, 3488, 3793, 3235, 4622, 2843, 2867, 4576, 3027, 3460, 2747, 3435, 3643, 3019, 2793, 3313, 3335, 2931, 4025, 3731, 2916, 3918, 3554, 3300, 4635, 3137, 2737, 2855, 4381, 3835, 2918, 3912, 3002, 4595, 10554, 4312, 4005, 3645, 3557, 3192, 4102, 2646, 2664, 2655, 4616, 2683, 4489, 3508, 3563, 4570, 4373, 3555, 4492, 3131, 4261, 4078, 4101, 3605, 4310, 4476, 4442, 4141, 3368, 4551, 2713, 2904, 3755, 4287, 4179, 4494, 3033, 3469, 10588, 4391, 4275, 3954, 3132, 3995, 3452, 4221, 4311, 4406, 3721, 4224, 2785, 2959, 3532, 3867, 4346, 4393, 4454, 4304, 2952, 3831, 3329, 2810, 4675, 3213, 3199, 4539, 3358, 2938, 3957, 3499, 3040, 4554, 3988, 4296, 3009, 4354, 3898, 4127, 3663, 3807, 4024, 10589, 3571, 2734, 4277, 3547, 3539, 4444, 4161, 2919, 3706, 2753, 2909, 3676, 3458, 3108, 2668, 4057, 2790, 4237, 3622, 3319, 2994, 2885, 3324, 3544, 3849, 3634, 4388, 4074, 4051, 3600, 2917, 4589, 3938, 4037, 10572, 2693, 3399, 3067, 3444, 3562, 4587, 3350, 13, 4106, 4033, 2937, 4458, 4553, 4043, 10555, 4271, 10558, 2849, 2633, 4288, 3707, 4445, 2966, 4023, 4073, 4155, 2967, 2969, 3494, 3172, 3524, 2741, 2836, 3204, 4281, 2767, 3182, 4624, 4681, 3594, 4152, 2883, 3321, 2850, 3066, 3515, 2819, 4226, 3411, 3208, 3216, 3531, 2965, 4404, 3474, 3205, 2799, 3989, 3799, 2752, 3575, 3307, 3490, 3732, 3686, 3911, 3413, 3171, 3325, 3839, 3039, 2861, 4462, 3607, 3883, 2777, 3467, 3471, 3443, 4199, 4549, 4006, 3689, 3780, 3840, 3406, 2782, 4358, 3349, 2933, 2641, 3375, 2949, 10653, 3520, 2817, 2766, 2890, 4365, 4096, 2816, 3838, 2792, 3882, 4034, 3202, 3964, 4345, 4526, 4107, 3127, 3158, 3970, 4574, 3200, 3659, 4122, 3614, 3050, 3521, 3647, 3854, 4225, 4015, 3662, 4198, 4068, 2662, 3215, 3074, 3347, 3933, 4147, 4199, 4307, 3010, 4109, 2948, 2636, 3880, 3362, 2652, 2794, 3644, 3085, 2866, 4361, 4558, 10579, 4466, 3229, 3829, 10585, 3819, 3724, 3372, 3568, 3489, 2894, 3769, 4478, 4623, 2742, 4378, 3198, 3794, 3654, 3861, 2615, 2862, 3369, 3885, 2869, 2893, 2601, 2881, 4282, 2898, 3167, 2695, 2813, 4601, 2976, 2829, 2811, 3591, 3100, 3637, 3206, 3618, 3468, 3176, 3076, 3899, 3070, 4367, 2756, 3407, 3896, 3416, 2688, 3025, 3346, 3412, 4194, 4524, 3071, 3103, 4647, 3337, 4302, 3083, 2722, 4532, 4232, 3046, 3485, 3427, 3768, 2624, 2584, 4333, 3011, 3423, 4502, 2666, 4370, 3569, 3848, 3922, 10587, 2992, 2830, 2886, 3648, 3450, 2923, 3146, 3432, 3165, 3425, 3001, 2732, 3414, 2677, 3110, 3095, 2714, 4303, 3811, 4480, 3990, 2982, 2972, 3481, 2735, 3086, 3097, 3818, 3186, 3991, 4058, 4004, 4171, 3855, 3502, 2955, 4369, 3682, 2996, 3436, 4349, 3203, 3764, 3098, 3892, 2921, 4342, 3301, 3464, 3087, 3035, 2888, 3924, 2853, 3320, 3242, 4081, 3632, 3939, 3891, 2762, 2736, 3567, 3680, 3640, 3997, 2779, 2971, 2786, 3884, 4158, 3116, 3133, 4067, 2974, 4334, 4548, 4092, 3868, 3099, 3841, 3338, 3959, 3055, 4452, 2864, 4084, 4086, 3871, 3387, 2743, 4095, 3361, 3475, 3236, 4625, 2692, 4238, 2987, 4028, 3041, 3042, 4027, 4317, 3709, 3047, 4200, 4226, 3548, 3758, 4165, 4527, 3815, 4588, 4634, 3408, 4591, 3624, 3595, 3965, 2654, 3492, 3975, 2808, 3946, 4613, 3589, 3890, 4125, 3241, 2846, 2789, 3795, 3980, 3419, 3906, 4441, 3448, 3168, 2884, 3121, 3751, 2820, 3790, 4348, 4575, 3966, 4562, 3628, 2703, 2625, 2826, 3577, 3816, 4226, 2821, 4185, 3564, 3656, 2905, 3776, 3072, 4609, 4001, 2706, 4253, 3543, 4215, 7073, 3332, 3187, 4590, 4385, 3559, 3872, 4094, 4509, 3826, 4594, 3925, 3661, 3697, 4090, 3772, 4329, 4020, 3913, 4415, 2673, 4485, 2687, 4501, 3627, 3907, 4337, 2854, 3522, 4347, 3974, 4619, 2824, 2870, 2764, 2828, 3746, 4038, 3454, 3302, 3059, 3668, 3786, 2822, 3598, 4540, 2751, 3465, 3909, 3902, 3403, 4636, 3327, 4118, 4159, 3397, 4214, 4641, 3727, 3174, 3691, 4308, 3615, 2710, 4649, 3022, 3383, 4639, 3823, 3604, 3119, 3188, 3735, 2783, 4136, 3579, 3344, 3026, 3603, 3314, 2991, 2998, 3014, 4192, 4049, 4117, 3154, 3987, 3670, 4045, 4327, 3739, 4536, 2758, 4115, 3742, 3487, 3879, 3077, 3545, 2773, 3609, 4426, 3367, 4557, 4294, 4422, 4197, 3699, 3537, 4474, 2723, 2910, 3710, 3400, 4330, 4134, 4344, 4374, 26, 2953, 4375, 4314, 4166, 3696, 4299, 4168, 4491, 4410, 3942, 10578, 2878, 2658, 2759, 3931, 3080, 2651, 4512, 4556, 2771, 3339, 2895, 10574, 4338, 3870, 2936, 4359, 4167, 3309, 4402, 4394, 2858, 4484, 2630, 3729, 4633, 2678, 3404, 4538, 4099, 4383, 2874, 4340, 3695, 10605, 2807, 3152, 4300, 3106, 4399, 10565, 3147, 4098, 4360, 2744, 3219, 4226, 3694, 2593, 2942, 2851, 3877, 3031, 2730, 2564, 3961, 2629, 4207, 4226, 3586, 4269, 2827, 3421, 2628, 4487, 3650, 3973, 3082, 4447, 4638, 3463, 2914, 4208, 2980, 2957, 2833, 3081, 3784, 3084, 2745, 3092, 3674, 4116, 3366, 3109, 2908, 3179, 3180, 3177, 3805, 3862, 3140, 3075, 4644, 2912, 4119, 3370, 2698, 3797, 3929, 3185, 3043, 3178, 2635, 2684, 4382, 3459, 3162, 3164, 4120, 3163, 3541, 4121, 4392, 3712, 3851, 4645, 3766, 3354, 4072, 3832, 3593, 2803, 3837, 2791, 4357, 4229, 2984, 3565, 3546, 3322, 4325, 4620, 4377, 4500, 2856, 4157, 3240, 2988, 2901, 4419, 4148, 2943, 2857, 4000, 3619, 4009, 4055, 4642, 4209, 3005, 3354, 2818, 4459, 3141, 4350, 4097, 3016, 2804, 2717, 4164, 4112, 3221, 3374, 2805, 3874, 4643, 7186, 8431, 8886, 7596, 8968, 9061, 9869, 8899, 9620, 8393, 8662, 8403, 9277, 9150, 7721, 7477, 9719, 7954, 9405, 8278, 7690, 8300, 7807, 7536, 9422, 7771, 8119, 9382, 9574, 7726, 9235, 8333, 8601, 8710, 8117, 9447, 9321, 9380, 7878, 8298, 7166, 8387, 7645, 9559, 9608, 8446, 8210, 7405, 8399, 7460, 14323, 7848, 7306, 7287, 9678, 8346, 8807, 7594, 8730, 7328, 8428, 7929, 7366, 7445, 8020, 7107, 7717, 8132, 7110, 9399, 7793, 7118, 8918, 9099, 7250, 9258, 7702, 9025, 9402, 9288, 7707, 7230, 8863, 8441, 9557, 8500, 9663, 9537, 8412, 7631, 14322, 8520, 7260, 8833, 7879, 14313, 7955, 7476, 8173, 7802, 9335, 7923, 8748, 7471, 7472, 14347, 7894, 8141, 7863, 8740, 8986, 9831, 7612, 7785, 8773, 8349, 8296, 9263, 7475, 8479, 9489, 8852, 8435, 7120, 8058, 8184, 7418, 8363, 9330, 9501, 9140, 8211, 7469, 8488, 9274, 7601, 7820, 7790, 9266, 8269, 7644, 8526, 8280, 8105, 8407, 7231, 8532, 9050, 8367, 8978, 9691, 8219, 9094, 9227, 9627, 7302, 8975, 9669, 9573, 7358, 7586, 8463, 7199, 9045, 8647, 7946, 7663, 7779, 7520, 9093, 14310, 14320, 14288, 14327, 8948, 9312, 7560, 9394, 8929, 14340, 8456, 9202, 7161, 8163, 8925, 9774, 7712, 9779, 9468, 8550, 8685, 7206, 9026, 9444, 9424, 7630, 7140, 7111, 7145, 7138, 7155, 7101, 7151, 8206, 7102, 7141, 8030, 7133, 7220, 7099, 14287, 9261, 7639, 8559, 9111, 7966, 8672, 9013, 8789, 8618, 9757, 9241, 9759, 2567, 7558, 8910, 8867, 9379, 9377, 7539, 8101, 7152, 9035, 8582, 9773, 8279, 8502, 8932, 14289, 9380, 9598, 9793, 8749, 14353, 9823, 7127, 9546, 8335, 9073, 8639, 9785, 9624, 7157, 9776, 7103, 7563, 9087, 8189, 7953, 7109, 8959, 7540, 14317, 7664, 7682, 7415, 8780, 8600, 8414, 8067, 7569, 8096, 8341, 7227, 7357, 8046, 8631, 8895, 8719, 8558, 7693, 7828, 9259, 7938, 7797, 7757, 9106, 7091, 7634, 9273, 8972, 9659, 7876, 8845, 9267, 7782, 9668, 9584, 7908, 9769, 7659, 8420, 7229, 8182, 8844, 8432, 9221, 7177, 7412, 7397, 8336, 7310, 7768, 7132, 8265, 7169, 8891, 8843, 7610, 7279, 8583, 14334, 7134, 9346, 7497, 9289, 9783, 8461, 8794, 7676, 9682, 7256, 8933, 7670, 8508, 7624, 8430, 7458, 8362, 2595, 9699, 7667, 8544, 8023, 9689, 8536, 9836, 8726, 7875, 8778, 8401, 9842, 9853, 8608, 7448, 9199, 8087, 7743, 8897, 8158, 9749, 9148, 9071, 8133, 7762, 8602, 8469, 7882, 9534, 7121, 9431, 9151, 7769, 7695, 7273, 8481, 8360, 8788, 7180, 7905, 9180, 7866, 9470, 8055, 9225, 9393, 8416, 8995, 8614, 8628, 9792, 9516, 8566, 9572, 9612, 7336, 9196, 9475, 9726, 9642, 7850, 9302, 8900, 8185, 8781, 8874, 9817, 8581, 8695, 9315, 9209, 7801, 7124, 8919, 7742, 7226, 8964, 9805, 8859, 8586, 7723, 7730, 9186, 7810, 7490, 7547, 9541, 8595, 7421, 9003, 8802, 14345, 7931, 7204, 8249, 9809, 8252, 8251, 9008, 8250, 8240, 9411, 7427, 7642, 8239, 8238, 8242, 8241, 8244, 7830, 8248, 8243, 8246, 8123, 8071, 8247, 9031, 8245, 8525, 9366, 8471, 8146, 8714, 7892, 9664, 9344, 14351, 9626, 14342, 7281, 8892, 9771, 14324, 9268, 7873, 9700, 8455, 9144, 9280, 8906, 8682, 9283, 7339, 9124, 9675, 9001, 9851, 8317, 9582, 8620, 9068, 8793, 9553, 8497, 8264, 8217, 7466, 9149, 9120, 7668, 7447, 8451, 8299, 9367, 8831, 7468, 8939, 8297, 8811, 8916, 7685, 7514, 7114, 8576, 8515, 8957, 8591, 7454, 9271, 8731, 9406, 7632, 8295, 8365, 9605, 8817, 7917, 7113, 7633, 7403, 7161, 7796, 7452, 7123, 9193, 7656, 7308, 7233, 9661, 8274, 8197, 7657, 8311, 7154, 7910, 9413, 7572, 8904, 9088, 9504, 8855, 9386, 7691, 8097, 9623, 9247, 7880, 7252, 7532, 8574, 7604, 8873, 9445, 8379, 9748, 9183, 7870, 7844, 8287, 8505, 8129, 7529, 8671, 7424, 7392, 9412, 8156, 7244, 7416, 8305, 7315, 7349, 7351, 8772, 7512, 9857, 9075, 7297, 7408, 7390, 7683, 7410, 7811, 8193, 7367, 8579, 9531, 8709, 8400, 7393, 7579, 8212, 7862, 8848, 7338, 9830, 8408, 8857, 7941, 7538, 7665, 8309, 8164, 7290, 7535, 7417, 9712, 8533, 9208, 7861, 7909, 8356, 8179, 9801, 7825, 8170, 8065, 8308, 8889, 7160, 7903, 8641, 7131, 7544, 9363, 7149, 7158, 9397, 7501, 8275, 8763, 8344, 7925, 14325, 7081, 14332, 9480, 8765, 8697, 8107, 8686, 9490, 9304, 9841, 8462, 7591, 9755, 9014, 7651, 8328, 8655, 7289, 9527, 9153, 8286, 8155, 9807, 7965, 9223, 9833, 8291, 7798, 7576, 7874, 9109, 8546, 8812, 8099, 7442, 9317, 7984, 9810, 7488, 7787, 9496, 7440, 7332, 7687, 8421, 9806, 8775, 8078, 8982, 8914, 8750, 7543, 9116, 9686, 9467, 8722, 9580, 9787, 7193, 4683, 8168, 8936, 9524, 9848, 8738, 8611, 7619, 8597, 9821, 8997, 7144, 9794, 9007, 8752, 9098, 8612, 8413, 8377, 7389, 7400, 8711, 7988, 8467, 9118, 9789, 7401, 8079, 8664, 7912, 8758, 7835, 9609, 7185, 7800, 8225, 7623, 8447, 7438, 9550, 7219, 9069, 8095, 8571, 7919, 9877, 8205, 9871, 7977, 8231, 8415, 8190, 7146, 8382, 14358, 7999, 8589, 8081, 7188, 8290, 7502, 8693, 7178, 7489, 8769, 7195, 8486, 7135, 7179, 9704, 9744, 7164, 8140, 7519, 7584, 7292, 7948, 9707, 8148, 7238, 7172, 8086, 7142, 7174, 8828, 8883, 9469, 7495, 8894, 7409, 2626, 8606, 7176, 7105, 9442, 9859, 9644, 8720, 9696, 8443, 7758, 7609, 8108, 8732, 7422, 9174, 8950, 7406, 9861, 7346, 7376, 8607, 9290, 8088, 7382, 9575, 9654, 9194, 9308, 8650, 8634, 9435, 9239, 7496, 7503, 7395, 7453, 8288, 8082, 8084, 8085, 7356, 7380, 8784, 8660, 9655, 9808, 7765, 9681, 7511, 8351, 7419, 9212, 7248, 9633, 8199, 9350, 7215, 9832, 7320, 9318, 9201, 9203, 8946, 7354, 8452, 9358, 9676, 8234, 7378, 9591, 7808, 7305, 9646, 7350, 8787, 8484, 9204, 7593, 7433, 9086, 9348, 8136, 9095, 8521, 9242, 14354, 7261, 9229, 9113, 8541, 8289, 7464, 14343, 14294, 9658, 8258, 8139, 9683, 7342, 8385, 8404, 9217, 14304, 8551, 9243, 8509, 14301, 9354, 8680, 7602, 7407, 9539, 7455, 8649, 8767, 7299, 7159, 7314, 9706, 9044, 9665, 8610, 8035, 7655, 8625, 8847, 7374, 9169, 9721, 9231, 7498, 7173, 8127, 8785, 9455, 8760, 7481, 8790, 8902, 9398, 7362, 9213, 7709, 8712, 14297, 7487, 7792, 8285, 9421, 9295, 9006, 7255, 7827, 7513, 8329, 8068, 7559, 8029, 7491, 9578, 8868, 9163, 9674, 8746, 8875, 8599, 8253, 9635, 9320, 9434, 7840, 7541, 8417, 8820, 9466, 7429, 7311, 7307, 8825, 8896, 9390, 8272, 9034, 7449, 9599, 8952, 7148, 9020, 9843, 8648, 7119, 8098, 7269, 7884, 9677, 9443, 9671, 14298, 7321, 9414, 9813, 7936, 8109, 14306, 7817, 9786, 7763, 9826, 8585, 7143, 9359, 9513, 7262, 7805, 9515, 7522, 8888, 8724, 9556, 9172, 9571, 7975, 14314, 7388, 9245, 7834, 8974, 8856, 8744, 8292, 7223, 7217, 9117, 8378, 7508, 7420, 7583, 9062, 9698, 9728, 9586, 9479, 9319, 8669, 8555, 8770, 9507, 8713, 9057, 9375, 9018, 8236, 8839, 8425, 9134, 8092, 8881, 7267, 9752, 8565, 7940, 9863, 7934, 8458, 7327, 7987, 9844, 8684, 9275, 9854, 9825, 9352, 9066, 8001, 8340, 9670, 8637, 8570, 7280, 7523, 8198, 8256, 9238, 14299, 8578, 9154, 8208, 8113, 7756, 7973, 9228, 8907, 8042, 9002, 8396, 7974, 9195, 9016, 7125, 8457, 9104, 7293, 9157, 8018, 8266, 8229, 9494, 9189, 8259, 8535, 7485, 8969, 9052, 8865, 8012, 9876, 8359, 7839, 7791, 14293, 8196, 8642, 14350, 14295, 7213, 7284, 9703, 8448, 9525, 9594, 7509, 7474, 8405, 8039, 8350, 9119, 9581, 8878, 7272, 7722, 9725, 9734, 8569, 7814, 14352, 9864, 8094, 8640, 9132, 7845, 7566, 9595, 8373, 7732, 9724, 7322, 9521, 7245, 7747, 8492, 7565, 8187, 8440, 8661, 8803, 7282, 9022, 8791, 8755, 7997, 9047, 9222, 7411, 8826, 8854, 7740, 8121, 9799, 7524, 8203, 8853, 8070, 7562, 8464, 9847, 9039, 7386, 9033, 9651, 8007, 9036, 7355, 8051, 9561, 9818, 9845, 7617, 7225, 9693, 8392, 9077, 9733, 7692, 7636, 7446, 8477, 9046, 7704, 8177, 9856, 8651, 8506, 7168, 8494, 7194, 8677, 9027, 14290, 8823, 9588, 7589, 9484, 7605, 7324, 9051, 9804, 9179, 9306, 8075, 8864, 8815, 9198, 7600, 8021, 7607, 8076, 9820, 8567, 7254, 7944, 9265, 8999, 7319, 14357, 7993, 8885, 7819, 8003, 9542, 9168, 7162, 8226, 8162, 8718, 8478, 7337, 7344, 8419, 9257, 7341, 7739, 8958, 9592, 9798, 8343, 7777, 8998, 7435, 9029, 9121, 9697, 9570, 9101, 9754, 8962, 9040, 7316, 9177, 9549, 8056, 7211, 8630, 8319, 4708, 7278, 8283, 8699, 9835, 8757, 9743, 9740, 8821, 7379, 7368, 8563, 8676, 9123, 9122, 9167, 8568, 7361, 8623, 8961, 7266, 8963, 9165, 9158, 8301, 9812, 7249, 7981, 9544, 8751, 9601, 8391, 14360, 9532, 7750, 7836, 9030, 9517, 8482, 8128, 9437, 8390, 8386, 8646, 9684, 8375, 9371, 8033, 7375, 7638, 8912, 9528, 8816, 7457, 9300, 9021, 8556, 8955, 8621, 9135, 8019, 14318, 9048, 9778, 8543, 7521, 9392, 7613, 8557, 8540, 7680, 9070, 9339, 8368, 8592, 8960, 7486, 9364, 7855, 8976, 7813, 10001, 7775, 8358, 8627, 9547, 9146, 8216, 9788, 7603, 8967, 8460, 9236, 8882, 8318, 7275, 8353, 8380, 7751, 8945, 8347, 9342, 7459, 8015, 8222, 7506, 7537, 9765, 7494, 7746, 7271, 7760, 7585, 9660, 9175, 7737, 8487, 8941, 8930, 9355, 9074, 8332, 8512, 9233, 8083, 8160, 8668, 7247, 7614, 8768, 9102, 7404, 8893, 8809, 8813, 9622, 9214, 9159, 7150, 8761, 8598, 7517, 7694, 7441, 8987, 8005, 9191, 8194, 9566, 9103, 8593, 9745, 7578, 9299, 8061, 9322, 8547, 8516, 8200, 8774, 8523, 9796, 7564, 9420, 9219, 7597, 9160, 8022, 7163, 9579, 8357, 9096, 7549, 7829, 7900, 8800, 14367, 7484, 9625, 8153, 7628, 7969, 7806, 7570, 8485, 9380, 8137, 8795, 8619, 9585, 9309, 7990, 8838, 9256, 7467, 8159, 9357, 9742, 7860, 7649, 8145, 9314, 7893, 9483, 8764, 7803, 9868, 8135, 9053, 7852, 8176, 9015, 8411, 7434, 8514, 7343, 9720, 9705, 8418, 7696, 8507, 8739, 8603, 8928, 8690, 7626, 7877, 9870, 7352, 9732, 9324, 9872, 8538, 7323, 8171, 9636, 8849, 8827, 7360, 8531, 9049, 9385, 8032, 8064, 9383, 8025, 7858, 8734, 9284, 8080, 8572, 9526, 8063, 7557, 8436, 8398, 8273, 8474, 9536, 8223, 7478, 8545, 8355, 8759, 8996, 7167, 9811, 9326, 7799, 7106, 8846, 9637, 8490, 8548, 10655, 7115, 8905, 9433, 8944, 8261, 9790, 7518, 8294, 8338, 7686, 7183, 7274, 7637, 9131, 9866, 9417, 8737, 8869, 7383, 7648, 7373, 9248, 8115, 8480, 8384, 9464, 9565, 9232, 7950, 8624, 7918, 8564, 7914, 8954, 9643, 7887, 14292, 7986, 9076, 8670, 9645, 9272, 9653, 9291, 8819, 2602, 9264, 7581, 14307, 8150, 8870, 9692, 8715, 8090, 8118, 9552, 8122, 7212, 8077, 7104, 9166, 14291, 14305, 8059, 7137, 9852, 7552, 8271, 7165, 9128, 8702, 14300, 8667, 14361, 8830, 14316, 9162, 9667, 7246, 8561, 9297, 9197, 8542, 8120, 9184, 8371, 7902, 7728, 7530, 8810, 8473, 9632, 9551, 7716, 24, 9840, 8138, 8142, 8442, 8235, 9766, 9145, 9540, 8884, 8499, 9795, 8917, 9874, 7527, 9237, 7334, 8665, 7935, 9562, 9078, 8587, 7608, 8260, 7920, 8062, 7629, 8980, 7795, 7398, 7699, 7978, 7526, 8144, 8049, 7947, 8323, 8776, 7500, 9311, 9819, 7854, 7653, 9294, 8733, 7927, 8106, 7896, 8503, 8394, 9729, 8510, 8501, 8465, 9476, 7744, 8045, 8616, 8675, 9249, 7504, 9325, 7868, 7239, 7992, 8704, 7890, 7643, 9736, 7556, 9576, 14349, 7208, 7983, 8276, 7221, 9554, 7499, 9746, 8632, 8990, 14309, 8636, 7295, 9545, 9010, 8652, 7759, 9797, 9181, 8633, 9462, 9368, 8850, 8977, 7228, 8254, 7333, 9064, 9816, 9505, 7867, 8224, 7396, 14321, 7369, 7372, 8766, 7428, 7979, 7112, 8053, 8806, 7387, 7426, 9768, 7108, 8575, 9738, 7788, 8880, 9337, 9867, 9488, 9254, 7425, 7697, 7510, 8771, 8949, 7170, 9353, 9100, 9370, 9827, 9713, 9763, 7184, 9423, 9495, 7241, 7606, 14346, 9380, 14336, 8927, 8701, 8026, 7761, 8877, 7932, 9112, 7647, 7330, 7394, 2622, 9493, 7915, 8654, 8801, 8263, 8988, 8312, 7898, 7646, 7432, 8438, 8339, 9687, 9518, 8337, 9279, 7784, 9685, 9019, 7891, 8994, 8201, 8861, 8753, 8783, 8528, 8100, 8694, 8131, 8756, 8437, 10601, 8951, 14365, 9717, 9252, 7700, 7117, 7470, 9362, 8409, 7851, 7998, 7251, 8424, 7100, 7669, 8635, 9361, 7982, 7968, 8706, 8953, 9009, 9739, 9262, 8282, 8376, 7930, 7749, 7414, 8814, 9614, 9587, 8470, 8673, 7493, 8841, 9722, 8277, 9143, 9775, 8116, 9555, 7363, 9777, 8519, 9865, 8048, 8024, 9656, 8181, 7895, 8310, 8808, 7684, 8468, 9454, 9593, 7783, 7985, 9089, 7996, 9486, 7480, 7095, 10603, 9438, 8427, 9105, 8792, 9380, 7812, 8334, 8590, 7507, 2559, 9647, 10600, 7253, 8284, 8164, 8522, 8112, 8708, 8887, 8517, 7942, 8166, 8745, 8152, 8797, 7826, 9115, 7724, 7618, 8762, 9005, 7303, 7662, 8175, 9473, 7832, 9846, 9060, 9286, 7546, 9004, 7958, 8186, 9770, 8513, 9360, 7318, 8031, 7347, 7897, 9419, 8495, 9130, 8459, 9126, 9650, 8942, 14337, 8743, 7439, 8354, 10003, 10002, 9452, 9710, 7625, 7673, 9114, 9630, 7703, 8613, 9509, 9619, 9485, 9138, 7192, 8903, 8228, 7849, 9519, 8898, 8782, 8103, 9185, 9761, 9610, 8091, 7577, 9828, 7286, 7325, 7232, 8909, 8911, 9538, 7755, 8537, 8716, 7371, 9156, 9395, 9429, 7365, 8016, 7821, 7312, 9523, 8475, 8938, 9055, 8000, 9621, 7666, 9564, 7753, 8209, 8304, 9701, 9139, 8956, 9332, 9446, 7864, 9451, 9456, 7561, 8429, 9471, 7883, 9855, 9741, 9129, 9207, 7718, 9695, 7270, 9600, 8615, 8215, 7531, 7126, 7689, 9141, 9459, 9056, 9028, 7592, 9472, 8629, 9781, 8316, 7116, 9285, 9802, 9478, 7236, 8622, 9606, 8504, 9255, 7567, 9425, 8281, 8172, 8666, 7660, 7285, 7833, 7789, 8126, 8036, 8130, 9389, 7735, 7156, 7296, 9563, 7661, 7093, 9416, 9230, 9333, 8643, 7462, 7463, 7461, 7456, 7615, 9387, 7621, 9611, 7291, 9054, 9205, 10000, 8659, 8656, 7804, 8835, 7381, 9234, 7436, 9079, 8454, 9206, 8851, 9276, 7542, 8609, 9780, 8518, 9751, 9408, 9503, 9376, 9652, 9511, 7288, 7258, 7734, 7277, 8966, 9188, 7190, 9404, 9764, 9220, 8698, 8361, 7571, 7313, 8915, 9688, 8267, 9107, 7786, 8805, 9590, 8705, 7899, 8255, 9331, 8395, 14303, 8992, 9338, 7214, 9296, 7654, 9142, 7431, 8370, 9441, 7781, 8644, 8147, 8511, 9735, 9837, 8151, 7921, 8901, 8072, 9782, 8352, 8747, 7384, 7298, 7391, 9567, 9604, 7224, 9080, 9784, 7505, 8374, 9597, 8009, 8054, 8027, 9192, 8530, 9133, 9313, 8406, 9492, 8110, 9638, 7063, 8157, 7885, 9401, 8111, 9430, 23, 7399, 7963, 9499, 7413, 9356, 7738, 7201, 8923, 7943, 7130, 7234, 7147, 8270, 8069, 9461, 7939, 8679, 7309, 9316, 7640, 14344, 9369, 9666, 8721, 8879, 7492, 9170, 8449, 9718, 9396, 9662, 7216, 8984, 7153, 9380, 8434, 9136, 9287, 9058, 8700, 9617, 8529, 7370, 7945, 7235, 9758, 10551, 7301, 7916, 9187, 9457, 9428, 9500, 8004, 9200, 7980, 8985, 7710, 7635, 7837, 8439, 9155, 14341, 7590, 8057, 8093, 9043, 8993, 9226, 8717, 9250, 8965, 7889, 9224, 8498, 8842, 8934, 9568, 7815, 8866, 9292, 9474, 7555, 8527, 9873, 8562, 9063, 8554, 7822, 8862, 9508, 9378, 8691, 9400, 9072, 7846, 7473, 8306, 8262, 9384, 7705, 7171, 7182, 8552, 8971, 9737, 8444, 8723, 7766, 7264, 7451, 7708, 9282, 8681, 9711, 7348, 9000, 7727, 9244, 8188, 7187, 7181, 9240, 8822, 8010, 8483, 9090, 8014, 9391, 9875, 9514, 9210, 14296, 8981, 8534, 9829, 8596, 9152, 9629, 8935, 8466, 7554, 7872, 9762, 9336, 8908, 8638, 9307, 9173, 9814, 7748, 9702, 8491, 8858, 9278, 9127, 8364, 7933, 8922, 7402, 8588, 8047, 7991, 7856, 9298, 8060, 7731, 9657, 8204, 7907, 8330, 7869, 8876, 9822, 7450, 7575, 8124, 7200, 9024, 7671, 7516, 7715, 8089, 9178, 9465, 7888, 9607, 7994, 8013, 8970, 7129, 7995, 14326, 7972, 8931, 9628, 9497, 8383, 9460, 7205, 9615, 8191, 9838, 8257, 8183, 8381, 9535, 7816, 9147, 9522, 9032, 7989, 9082, 7359, 9323, 9577, 7843, 9824, 9858, 9418, 7568, 7961, 9401, 8345, 9440, 7741, 7818, 8824, 7533, 9365, 9340, 9347, 8735, 8293, 8034, 9800, 7515, 7678, 8921, 7831, 7674, 7675, 9182, 7550, 7770, 9487, 9303, 8104, 7720, 7964, 9453, 9558, 10508, 7283, 9293, 9246, 9403, 9092, 9481, 9750, 14363, 14364, 14362, 8369, 7767, 9477, 9401, 9038, 7622, 9269, 10604, 7482, 7922, 7774, 9753, 8496, 8327, 9747, 9458, 7725, 7713, 14329, 9709, 7842, 14302, 8331, 9760, 7094, 8213, 8605, 9108, 9834, 9081, 9502, 7926, 9023, 9449, 8149, 9426, 9343, 8066, 9772, 8989, 9427, 8169, 8818, 8315, 7057, 9708, 7189, 9510, 14338, 9803, 7959, 8303, 7242, 7960, 7335, 9679, 8167, 8678, 9065, 7243, 8433, 8973, 7545, 7924, 8674, 8143, 7773, 8174, 8011, 7353, 7096, 9402, 9415, 9529, 7627, 8320, 7956, 8924, 7098, 8696, 9716, 8453, 9439, 7824, 8044, 8991, 7823, 9616, 9328, 8742, 8327, 9305, 7263, 9042, 7528, 7714, 8040, 9639, 9631, 7650, 9448, 9512, 9310, 9125, 14319, 9648, 7776, 8983, 9372, 9690, 9334, 14331, 14359, 9640, 9373, 7483, 8871, 8725, 8195, 9351, 7620, 8342, 9602, 7838, 9374, 8114, 8707, 7304, 8230, 7237, 8327, 7196, 8798, 9190, 7729, 7949, 8979, 9560, 7377, 8388, 8779, 8727, 7595, 9694, 7672, 9037, 7423, 8313, 7075, 7268, 7599, 9097, 8604, 9380, 9410, 7259, 9506, 14356, 14348, 9137, 7658, 8741, 9171, 7331, 8397, 9860, 9450, 8008, 8038, 7294, 9041, 9270, 8325, 7300, 8687, 8134, 7906, 8052, 7551, 7197, 7465, 8164, 7207, 8073, 8777, 9012, 8372, 8161, 9407, 8837, 8017, 7911, 9110, 7175, 8799, 9091, 8366, 8307, 8626, 9161, 8426, 8043, 7957, 8594, 8006, 14328, 7525, 8553, 7886, 9673, 8493, 9498, 8472, 9349, 8683, 9641, 9281, 9680, 8688, 7901, 7778, 9436, 8913, 8074, 7553, 7745, 7701, 7222, 7139, 8422, 8476, 7276, 10654, 8840, 8703, 7859, 7841, 7479, 8154, 8577, 7202, 9530, 8002, 7611, 8237, 8832, 8692, 9533, 8860, 7265, 8180, 8689, 9301, 9401, 7962, 7240, 7198, 8232, 7677, 7928, 9345, 8657, 9727, 7444, 9583, 8218, 7317, 9767, 7598, 9260, 7385, 7865, 8220, 7580, 8658, 8872, 8890, 7952, 9341, 8324, 7937, 9731, 8165, 8321, 7574, 9730, 9085, 8804, 9401, 9756, 7588, 8326, 7136, 8663, 7754, 8573, 7764, 8322, 7951, 14315, 7913, 7711, 8524, 9596, 8125, 8754, 8786, 7871, 8102, 9543, 7218, 7780, 9463, 9402, 14312, 14308, 8796, 9067, 8202, 8450, 14333, 7257, 8736, 14355, 7443, 9327, 8389, 8728, 9409, 14330, 7345, 7122, 7881, 8314, 7736, 9253, 9850, 9218, 9634, 7772, 14366, 8539, 9164, 8560, 8645, 7970, 8402, 9482, 8617, 7971, 9059, 8227, 9569, 7857, 8178, 9011, 14311, 7534, 8268, 9723, 7587, 7326, 9791, 7616, 7847, 8829, 9520, 7191, 9381, 7340, 14335, 9491, 8584, 8041, 9216, 9215, 7573, 9618, 7548, 8028, 9649, 7430, 7128, 8943, 8233, 7679, 8580, 8920, 8926, 9017, 8947, 8445, 7794, 9715, 7681, 14339, 8410, 7904, 7809, 7976, 7641, 9672, 8214, 7853, 7688, 8836, 8302, 8050, 7582, 9329, 8653, 7097, 8207, 9589, 7209, 8221, 9714, 7706, 8192, 9548, 9083, 8037, 9401, 9388, 8489, 8423, 9849, 7719, 9815, 7698, 9084, 9176, 7733, 9211, 7203, 7210, 7652, 9839, 7437, 9432, 8937, 10505, 8940, 8348, 8549, 7329, 15, 7967, 8729, 9862, 9603, 7752, 9613, 9251, 7364, 8834, 2415, 2342, 2125, 2416, 2070, 1871, 2055, 251, 1189, 781, 176, 596, 1670, 131, 1711, 310, 2086, 600, 10538, 1809, 329, 2542, 585, 1728, 2104, 2240, 479, 1346, 1986, 1147, 561, 961, 1099, 386, 1020, 1018, 1538, 2275, 2075, 1638, 492, 2067, 441, 229, 418, 1539, 2158, 292, 1035, 2478, 1437, 2104, 2143, 520, 610, 1414, 1837, 1954, 1628, 2145, 894, 563, 2097, 2059, 846, 67, 696, 28, 1396, 999, 1374, 402, 2500, 245, 2363, 1129, 711, 1535, 1381, 2219, 10526, 2432, 1379, 99, 1763, 1438, 2386, 1982, 35, 453, 295, 1235, 195, 1485, 206, 1017, 1805, 1550, 1284, 1806, 1463, 1494, 1329, 2007, 2013, 891, 679, 1343, 654, 1824, 1942, 1107, 543, 833, 2153, 2222, 2104, 244, 1016, 10536, 1598, 1145, 602, 4650, 2137, 2308, 1293, 672, 1244, 1178, 357, 1361, 990, 1088, 1768, 2054, 1248, 634, 705, 170, 1814, 1005, 613, 10521, 2493, 1411, 1948, 344, 1602, 920, 44, 630, 1868, 2034, 962, 2517, 94, 427, 856, 2586, 2587, 2415, 2342, 2125, 2416, 2070, 1871, 2055, 251, 1189, 781, 176, 596, 1670, 131, 1711, 310, 2086, 600, 10538, 1809, 329, 2542, 585, 1728, 2104, 2240, 479, 1346, 1986, 1147, 561, 961, 1099, 386, 1020, 1018, 1538, 2275, 2075, 1638, 492, 2067, 441, 229, 418, 1539, 2158, 292, 1035, 2478, 1437, 2104, 2143, 520, 610, 1414, 1837, 1954, 1628, 2145, 894, 563, 2097, 2059, 846, 67, 696, 28, 1396, 999, 1374, 402, 2500, 245, 2363, 1129, 711, 1535, 1381, 2219, 10526, 2432, 1379, 99, 1763, 1438, 2386, 1982, 35, 453, 295, 1235, 195, 1485, 206, 1017, 1805, 1550, 1284, 1806, 1463, 1494, 1329, 2007, 2013, 891, 679, 1343, 654, 1824, 1942, 1107, 543, 833, 2153, 2222, 2104, 244, 1016, 10536, 1598, 1145, 602, 4650, 2137, 2308, 1293, 672, 1244, 1178, 357, 1361, 990, 1088, 1768, 2054, 1248, 634, 705, 170, 1814, 1005, 613, 10521, 2493, 1363, 814, 2317, 374, 37, 461, 1410, 963, 10516, 1195, 2537, 1411, 1406, 702, 467, 1177, 2181, 979, 1337, 133, 1630, 1407, 1545, 1103, 2476, 1593, 2394, 115, 952, 459, 1963, 1641, 2038, 2387, 253, 34, 1635, 10602, 2016, 686, 708, 1023, 1127, 2276, 687, 232, 1059, 2399, 354, 1424, 2598, 1636, 2332, 290, 656, 1639, 236, 1732, 873, 1004, 1917, 346, 564, 225, 568, 1992, 2408, 1589, 1238, 1571, 2069, 699, 32, 1079, 759, 1423, 1897, 205, 506, 775, 1006, 1515, 1135, 430, 773, 851, 1241, 850, 1028, 981, 38, 1552, 2141, 2121, 504, 10507, 2176, 422, 1032, 1904, 307, 772, 33, 1800, 2040, 838, 1524, 584, 1174, 662, 1140, 1327, 703, 466, 825, 164, 1947, 1091, 986, 802, 697, 1549, 2557, 752, 1574, 2203, 297, 450, 2036, 2364, 955, 576, 1441, 2197, 2456, 1370, 659, 1828, 1677, 620, 1936, 1867, 2138, 663, 1426, 1221, 2205, 137, 240, 1400, 1229, 2306, 646, 1236, 2126, 1755, 1921, 2087, 1609, 304, 1495, 1141, 1812, 2546, 2369, 544, 2094, 1433, 1052, 332, 1771, 1610, 2410, 994, 2336, 949, 1496, 1049, 1046, 1706, 1163, 1000, 1959, 7065, 2619, 2373, 685, 1790, 122, 2370, 43, 2371, 39, 108, 552, 2136, 907, 909, 325, 2474, 1167, 1467, 1460, 988, 72, 159, 1547, 1064, 10523, 1324, 380, 79, 1272, 1204, 2078, 128, 2301, 1570, 2532, 1990, 317, 943, 908, 1590, 392, 1003, 1572, 2098, 500, 650, 1074, 1915, 7076, 220, 2254, 888, 428, 997, 2111, 950, 1169, 660, 2188, 1662, 2028, 2209, 1230, 918, 954, 1262, 1453, 1525, 2044, 2224, 2041, 1734, 2253, 1412, 2002, 1051, 1050, 151, 2170, 670, 2260, 1465, 1739, 595, 1996, 1164, 336, 1660, 762, 2218, 2482, 1659, 1689, 4662, 931, 880, 2472, 2362, 1770, 2437, 1786, 1153, 2374, 1843, 547, 2191, 102, 848, 320, 2519, 141, 351, 210, 690, 973, 1085, 878, 1216, 1750, 731, 912, 1084, 870, 953, 2134, 1737, 1850, 1940, 612, 1852, 1893, 638, 930, 1529, 1767, 525, 1913, 1948, 1245, 604, 2468, 2259, 526, 2434, 2085, 1078, 2135, 2211, 484, 1918, 2460, 938, 1714, 1730, 1199, 1955, 1624, 592, 1431, 2423, 1860, 507, 1427, 2159, 2420, 1817, 1425, 857, 2355, 1451, 282, 664, 1367, 1231, 2324, 2499, 1200, 1330, 1024, 618, 2448, 1892, 1673, 1579, 443, 2089, 10495, 138, 1958, 1712, 657, 10494, 98, 1876, 81, 967, 1255, 553, 68, 1727, 121, 2340, 107, 963, 2216, 2108, 1531, 1110, 1597, 936, 1268, 1283, 1385, 2284, 714, 1319, 10546, 235, 2156, 1705, 551, 852, 1518, 254, 554, 119, 1532, 1861, 2368, 1862, 1534, 1014, 2202, 2541, 446, 2334, 643, 2083, 140, 2186, 784, 1516, 2504, 10530, 2514, 172, 10522, 2553, 1176, 4674, 1420, 667, 943, 913, 10531, 1825, 824, 1130, 2086, 1933, 457, 704, 1901, 749, 2487, 2019, 2346, 2146, 1454, 2447, 801, 387, 149, 707, 378, 462, 2314, 1124, 1869, 769, 1419, 2247, 1193, 751, 1097, 2350, 2172, 1246, 2353, 268, 1089, 2377, 834, 1429, 2479, 1117, 2279, 2481, 425, 252, 1047, 558, 4654, 1765, 2242, 2015, 2230, 868, 1208, 1021, 2531, 276, 203, 1076, 738, 1724, 1022, 1930, 2043, 2104, 1154, 1128, 2056, 1907, 2021, 1912, 765, 2320, 508, 2128, 658, 590, 2029, 413, 71, 957, 165, 1676, 892, 241, 1250, 2105, 2185, 323, 2150, 1228, 676, 2004, 1910, 639, 1795, 2505, 2066, 1640, 1666, 1012, 10499, 7058, 328, 1611, 1388, 1645, 2496, 238, 326, 1390, 1378, 1224, 898, 1842, 1265, 2398, 1340, 2118, 2182, 398, 2119, 356, 200, 1061, 1253, 1599, 518, 1377, 1393, 376, 1922, 486, 1709, 2441, 158, 1779, 196, 84, 1044, 1561, 1780, 1259, 2195, 1569, 1725, 2395, 2107, 476, 2274, 1349, 2451, 937, 1896, 2144, 565, 755, 2178, 2293, 820, 1458, 1796, 2417, 1522, 527, 1435, 1291, 821, 1746, 1115, 1318, 1788, 284, 1761, 1647, 2268, 767, 1252, 273, 885, 2262, 2123, 2074, 628, 1080, 1898, 1201, 2277, 405, 1447, 666, 1881, 1098, 607, 463, 2528, 42, 603, 2548, 2184, 701, 958, 2167, 792, 1457, 1993, 1387, 1025, 1950, 1859, 2168, 2051, 534, 2225, 515, 1239, 1521, 1183, 2455, 1799, 653, 644, 86, 893, 1669, 828, 1031, 1688, 57, 710, 1096, 739, 211, 199, 499, 1223, 822, 510, 992, 1562, 2360, 1292, 1452, 2330, 1733, 2392, 157, 1315, 1218, 1477, 831, 1142, 1326, 1886, 1048, 1063, 787, 1057, 1851, 1359, 1984, 442, 811, 2113, 2120, 10484, 1364, 1941, 1300, 1155, 2033, 743, 1914, 436, 248, 366, 2388, 249, 2453, 2405, 2498, 2072, 623, 391, 1559, 1288, 1615, 2052, 369, 1651, 1573, 901, 505, 900, 2523, 1833, 733, 2106, 2473, 599, 154, 494, 1523, 1261, 1341, 289, 2199, 1792, 1646, 218, 1472, 2366, 316, 230, 1217, 1741, 587, 2380, 415, 2210, 2112, 1202, 1077, 1694, 842, 224, 1849, 583, 194, 2171, 2114, 2530, 2475, 1191, 1832, 1122, 2101, 10540, 1039, 189, 780, 269, 1554, 188, 1313, 2529, 960, 127, 1446, 1102, 1196, 419, 2543, 2393, 1528, 204, 2424, 1894, 810, 2031, 2428, 2096, 401, 1841, 688, 1588, 150, 977, 2361, 1566, 1304, 293, 2110, 489, 574, 1943, 1576, 2311, 1282, 509, 407, 1929, 1019, 1944, 1303, 1086, 945, 2190, 2053, 1094, 770, 202, 512, 1514, 1082, 840, 399, 1297, 298, 1339, 741, 1081, 1160, 750, 2249, 2104, 2280, 2422, 1674, 934, 1068, 1675, 717, 10517, 1700, 2090, 998, 76, 976, 1583, 1961, 1037, 849, 1548, 1966, 1321, 2328, 1383, 1382, 985, 2079, 2131, 2457, 177, 1173, 1623, 514, 700, 2065, 180, 943, 771, 1882, 2497, 1323, 1595, 2335, 134, 1962, 1870, 816, 2243, 1069, 10539, 162, 533, 942, 1289, 344, 1781, 922, 760, 1260, 1274, 1533, 10533, 1991, 1436, 946, 1413, 860, 209, 1444, 633, 556, 2046, 432, 601, 1083, 2278, 214, 896, 582, 2104, 2329, 969, 1152, 1782, 2162, 1106, 790, 146, 1682, 1906, 51, 2319, 652, 862, 779, 1517, 394, 2127, 1015, 1667, 2513, 1301, 1735, 1067, 1853, 169, 799, 2547, 2404, 491, 935, 1401, 1222, 2025, 106, 1987, 1603, 308, 1461, 1648, 389, 1928, 333, 2104, 2023, 10514, 1541, 315, 655, 226, 2419, 1520, 2294, 2520, 2080, 569, 691, 166, 1804, 2418, 1416, 10509, 793, 1748, 63, 1036, 974, 995, 1902, 433, 341, 823, 330, 135, 372, 2490, 1042, 968, 257, 854, 734, 171, 265, 1840, 2516, 1754, 1095, 579, 1287, 1519, 1093, 1131, 1994, 1839, 1499, 1123, 1233, 2001, 2508, 1296, 2551, 1653, 943, 1312, 375, 1431, 2439, 1506, 1740, 2235, 730, 1389, 1718, 10541, 632, 1150, 855, 110, 212, 1773, 1784, 429, 1977, 562, 1702, 1034, 818, 890, 2426, 1394, 1417, 1872, 2431, 1757, 861, 2241, 2117, 474, 2237, 1492, 905, 1060, 2291, 915, 2289, 444, 262, 2226, 827, 1801, 2177, 1998, 684, 2180, 1116, 897, 1815, 1180, 2545, 270, 2064, 566, 1376, 774, 948, 1481, 439, 853, 2389, 640, 487, 1434, 1544, 2502, 1980, 2285, 2292, 2287, 2290, 1373, 2286, 879, 2288, 1310, 1563, 1503, 2347, 2406, 1372, 1969, 605, 2187, 1716, 1270, 163, 983, 2357, 2095, 2193, 2132, 1925, 1384, 280, 819, 877, 941, 611, 1502, 1985, 2466, 2091, 234, 617, 2271, 1365, 1473, 800, 2173, 1146, 469, 2265, 1685, 1355, 1618, 786, 609, 82, 1899, 1500, 1542, 1043, 2086, 2212, 594, 1286, 2459, 511, 47, 1345, 301, 69, 720, 1306, 874, 233, 2549, 1065, 2206, 1360, 116, 593, 718, 1055, 1415, 483, 1601, 113, 1009, 560, 1062, 1995, 1960, 440, 1909, 1708, 883, 1707, 1536, 278, 1931, 2217, 932, 1279, 2189, 1243, 190, 109, 321, 1745, 1121, 1220, 1600, 247, 1556, 761, 1331, 1592, 2429, 2534, 1277, 1263, 830, 1161, 713, 322, 1607, 975, 1687, 2483, 178, 572, 2433, 1335, 497, 2148, 1710, 1970, 111, 744, 1605, 1278, 340, 742, 1428, 2130, 991, 60, 1926, 1594, 541, 335, 2246, 2157, 2231, 1698, 971, 2100, 619, 488, 550, 571, 345, 537, 260, 2086, 863, 348, 1820, 1649, 586, 1679, 2384, 490, 465, 1802, 1678, 778, 263, 940, 259, 836, 924, 1170, 869, 1422, 1854, 2000, 2425, 1118, 1120, 837, 473, 1357, 1113, 555, 843, 1402, 1905, 1040, 651, 1555, 927, 148, 783, 105, 791, 498, 715, 10594, 2062, 1874, 2511, 1070, 10597, 449, 267, 2436, 1919, 2304, 1214, 1655, 698, 464, 1182, 839, 919, 2092, 1856, 661, 2600, 1527, 93, 1785, 1803, 438, 615, 70, 866, 2071, 1656, 1794, 693, 2266, 1334, 1602, 456, 2103, 757, 2267, 198, 2233, 756, 2409, 2443, 2555, 75, 881, 2154, 1608, 709, 2488, 768, 207, 1450, 1470, 591, 373, 54, 2060, 1560, 161, 2307, 2263, 2129, 2086, 447, 1596, 62, 2296, 1619, 1855, 2552, 1585, 1889, 1455, 2088, 2220, 50, 1537, 865, 397, 85, 1352, 1715, 338, 719, 1629, 1657, 964, 410, 1540, 400, 1105, 2435, 1210, 420, 876, 1187, 2536, 1884, 361, 1736, 2495, 1175, 2469, 987, 182, 1652, 625, 817, 2116, 1066, 1302, 1847, 764, 1756, 2341, 2299, 1266, 2381, 2413, 2152, 2318, 1766, 635, 274, 959, 1209, 1644, 256, 2359, 2042, 1275, 1325, 1462, 1578, 1448, 782, 416, 1299, 303, 382, 431, 493, 1783, 1720, 1493, 362, 1830, 1798, 914, 2058, 1133, 1664, 477, 136, 395, 1356, 1112, 1668, 2358, 826, 2477, 2068, 2006, 2005, 1591, 1731, 342, 2298, 2047, 1972, 2063, 1497, 2430, 1686, 1564, 887, 1045, 788, 648, 871, 722, 271, 1816, 980, 668, 678, 1826, 692, 451, 1772, 2556, 2391, 142, 2326, 2142, 2484, 1011, 1119, 1421, 58, 1029, 90, 1125, 55, 2489, 353, 2223, 2022, 1949, 1903, 213, 1137, 337, 1351, 56, 65, 1168, 347, 721, 2305, 2421, 455, 358, 2073, 1290, 1505, 622, 2412, 78, 2440, 120, 807, 1568, 2194, 636, 1957, 2122, 1695, 1071, 2050, 123, 2057, 2372, 1530, 725, 1342, 2550, 1338, 548, 437, 61, 1212, 2161, 365, 1314, 1087, 577, 10528, 989, 2535, 747, 906, 1475, 377, 2461, 966, 1030, 993, 2345, 1879, 808, 167, 829, 1753, 239, 524, 2104, 1983, 306, 674, 1344, 96, 516, 951, 1090, 1430, 683, 530, 1908, 2365, 411, 1946, 1053, 1332, 1056, 383, 748, 1054, 677, 2238, 1923, 956, 2248, 1513, 2155, 1380, 1166, 1507, 1690, 1762, 2444, 1281, 1353, 1848, 1875, 2322, 261, 1320, 1432, 2151, 1703, 2403, 2383, 231, 2245, 101, 978, 2250, 972, 48, 1845, 835, 1939, 59, 1654, 1486, 2491, 1158, 359, 581, 1616, 1134, 1251, 388, 1704, 10534, 1526, 1759, 984, 1138, 302, 435, 1671, 795, 2349, 1309, 1567, 448, 1938, 1254, 1232, 1935, 789, 406, 2390, 324, 227, 766, 2244, 2442, 540, 1449, 2228, 1626, 920, 1891, 1237, 580, 2506, 331, 2396, 1443, 2027, 1280, 1713, 2020, 2538, 641, 2446, 727, 1143, 97, 1546, 1979, 384, 2465, 673, 933, 1058, 1721, 2354, 168, 1007, 1831, 409, 160, 92, 614, 192, 694, 522, 809, 10515, 1857, 1148, 64, 1474, 1650, 1553, 1976, 1197, 845, 10520, 1692, 1920, 1877, 1295, 2486, 1149, 1726, 965, 2321, 2325, 2215, 1634, 1002, 1399, 2438, 1172, 1866, 1240, 2503, 339, 124, 2449, 1225, 2133, 1934, 2300, 1581, 2049, 1354, 2099, 1952, 313, 1916, 1643, 1672, 2445, 546, 535, 2454, 2026, 1834, 1883, 1587, 417, 921, 2337, 117, 1681, 2501, 910, 501, 2344, 2149, 2200, 73, 1747, 1442, 1699, 798, 1808, 1565, 1092, 2109, 1165, 608, 45, 14368, 1543, 545, 228, 695, 2302, 2427, 712, 637, 681, 1865, 458, 2510, 1878, 669, 916, 44, 2352, 2521, 1404, 1072, 982, 7068, 1190, 343, 2166, 2295, 777, 2351, 1192, 485, 875, 309, 589, 1661, 740, 2485, 1691, 221, 1213, 2198, 539, 2407, 305, 2048, 1932, 243, 1501, 294, 10537, 1362, 74, 1738, 350, 1257, 77, 1368, 1774, 185, 1614, 597, 10524, 2183, 2174, 1844, 1760, 1797, 803, 334, 10527, 1219, 1111, 1075, 575, 1215, 2492, 2471, 2375, 1978, 567, 88, 1604, 1807, 2147, 470, 1697, 1951, 1723, 1276, 1139, 272, 495, 1308, 2115, 2164, 2061, 412, 2140, 2331, 1873, 1744, 250, 1722, 2077, 104, 1371, 1144, 1742, 385, 2623, 255, 193, 181, 1188, 1392, 1010, 2382, 2315, 867, 179, 1403, 1776, 1510, 1159, 1464, 312, 813, 2201, 144, 1398, 1132, 2227, 1459, 1717, 175, 2014, 847, 2309, 174, 746, 1975, 513, 2526, 2467, 2283, 1491, 606, 2323, 155, 1621, 1471, 1041, 1625, 296, 1693, 1620, 183, 726, 2515, 616, 1895, 2527, 2450, 481, 794, 536, 1880, 468, 426, 899, 1311, 1989, 414, 1665, 532, 2252, 1211, 1613, 1114, 2232, 559, 1489, 598, 1822, 1642, 2297, 1205, 1469, 2522, 1206, 2229, 1911, 523, 1953, 2264, 2452, 2281, 785, 680, 186, 724, 2008, 423, 2518, 1264, 1575, 1752, 349, 452, 1577, 1488, 242, 2401, 2333, 1100, 10529, 1973, 403, 408, 1927, 52, 1249, 2539, 2076, 80, 706, 1719, 2338, 143, 87, 1924, 1956, 114, 1194, 758, 521, 1033, 370, 2462, 1504, 1395, 1890, 279, 2312, 2204, 2385, 187, 1758, 184, 1658, 929, 327, 46, 2251, 1269, 737, 1482, 1777, 1787, 1490, 49, 299, 1981, 844, 319, 1696, 675, 1810, 2400, 1409, 318, 2458, 496, 754, 381, 1967, 2010, 884, 629, 911, 1408, 1971, 2035, 1684, 1171, 923, 2011, 1298, 1829, 2356, 129, 2012, 1073, 10599, 729, 475, 277, 735, 173, 944, 2213, 219, 424, 928, 1863, 2378, 314, 10535, 1937, 1764, 1366, 2402, 2179, 947, 1186, 1185, 1179, 1484, 393, 2494, 2560, 1397, 797, 1945, 1156, 804, 2039, 1701, 1663, 1336, 125, 1027, 1440, 1285, 902, 2464, 1466, 1456, 139, 126, 283, 1632, 2379, 367, 480, 1375, 753, 2414, 1479, 1271, 147, 864, 1558, 2234, 2160, 1109, 1887, 1512, 903, 736, 281, 2024, 2397, 2272, 832, 2273, 939, 1108, 478, 2032, 2030, 2221, 2017, 2208, 2509, 1476, 573, 1999, 2196, 805, 156, 649, 36, 889, 2470, 689, 2310, 2256, 1405, 1793, 2524, 519, 53, 2175, 2169, 882, 549, 1267, 763, 1775, 812, 2540, 1964, 671, 216, 30, 1838, 630, 1487, 237, 482, 925, 191, 1868, 2282, 1328, 2163, 2544, 2411, 1136, 130, 201, 1126, 1680, 517, 1974, 103, 886, 2558, 31, 91, 2082, 89, 1811, 745, 1483, 217, 1333, 578, 2269, 2270, 145, 371, 2339, 355, 1997, 1988, 1864, 1203, 1729, 2192, 118, 2313, 1305, 132, 2207, 996, 1468, 368, 645, 2045, 1885, 2376, 1606, 1586, 1358, 286, 10532, 503, 859, 275, 222, 796, 2214, 1743, 421, 1582, 2258, 716, 2525, 2236, 502, 1888, 390, 1749, 41, 917, 223, 1769, 29, 95, 2165, 379, 2512, 895, 1509, 291, 1823, 1227, 815, 288, 2367, 1256, 1900, 1001, 1198, 1498, 1478, 215, 647, 1013, 10518, 1511, 1008, 1508, 631, 2303, 10525, 1580, 2037, 1322, 1369, 732, 1258, 1836, 100, 858, 642, 1622, 2480, 246, 1307, 1827, 1162, 454, 1316, 2139, 1391, 1835, 531, 1294, 1821, 1612, 1350, 1273, 1347, 1791, 10519, 1181, 1683, 66, 2124, 1445, 1789, 1038, 471, 363, 2009, 528, 300, 1965, 2257, 1157, 1386, 2034, 40, 2463, 1617, 2591, 538, 2081, 1234, 264, 1968, 2084, 1778, 1480, 962, 197, 1317, 1584, 2327, 841, 2554, 208, 542, 472, 1631, 1101, 1633, 460, 588, 624, 1104, 1151, 445, 1439, 258, 529, 2533, 1557, 682, 152, 2018, 806, 1247, 1858, 1846, 665, 1637, 728, 2093, 2348, 83, 1207, 404, 904, 2343, 926, 1348, 2255, 10550, 1242, 1418, 1813, 396, 2261, 285, 1627, 1818, 1226, 621, 1551, 1184, 626, 570, 112, 287, 311, 153, 557, 627, 723, 2614, 776, 266, 352, 360, 364, 7066, 434, 970, 2239, 1026, 1819, 2003, 2102, 1751, 872, 2507, 2316]\n"
          ]
        }
      ]
    }
  ]
}